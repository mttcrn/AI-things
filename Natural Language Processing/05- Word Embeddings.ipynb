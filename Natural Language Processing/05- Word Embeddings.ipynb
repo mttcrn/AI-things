{
  "cells": [
    {
      "cell_type": "markdown",
      "metadata": {
        "id": "view-in-github",
        "colab_type": "text"
      },
      "source": [
        "<a href=\"https://colab.research.google.com/github/mttcrn/AI-things/blob/main/Natural%20Language%20Processing/05-%20Word%20Embeddings.ipynb\" target=\"_parent\"><img src=\"https://colab.research.google.com/assets/colab-badge.svg\" alt=\"Open In Colab\"/></a>"
      ]
    },
    {
      "cell_type": "markdown",
      "metadata": {
        "id": "auM3jLkGYHk5"
      },
      "source": [
        "# Word Embeddings\n",
        "\n",
        "In this session we will make use of Word2Vec to learn distributed representations of words based on the context within which they appear in sentences."
      ]
    },
    {
      "cell_type": "markdown",
      "metadata": {
        "id": "DPtKB1FNYHlH"
      },
      "source": [
        "## Learning word embeddings\n",
        "\n",
        "We'll first try to learn word embeddings using the Word2Vec implementation provided by the gensim package.\n",
        "- Information on gensim's word2vec implementation is available here: https://radimrehurek.com/gensim/models/word2vec.html\n",
        "- First install the package using pip:"
      ]
    },
    {
      "cell_type": "code",
      "execution_count": null,
      "metadata": {
        "id": "TmJqt2NRYHlH"
      },
      "outputs": [],
      "source": [
        "%pip install --upgrade gensim"
      ]
    },
    {
      "cell_type": "markdown",
      "metadata": {
        "id": "KdrV0qU6YHlH"
      },
      "source": [
        "We will build a Word2Vec embedding using the 20 Newsgroup data:"
      ]
    },
    {
      "cell_type": "code",
      "execution_count": null,
      "metadata": {
        "id": "v_erNR7XIrDh"
      },
      "outputs": [],
      "source": [
        "from sklearn.datasets import fetch_20newsgroups\n",
        "\n",
        "dataset_train = fetch_20newsgroups(subset='train', remove=('headers', 'footers', 'quotes'))\n",
        "dataset_test = fetch_20newsgroups(subset='test', remove=('headers', 'footers', 'quotes'))"
      ]
    },
    {
      "cell_type": "markdown",
      "metadata": {
        "id": "qTTluJ3TYHlH"
      },
      "source": [
        "In order to train Word2Vec on the data we first need to convert it to the right format.\n",
        "- For training Word2Vec, it is usual to **separate data into individual sentences** and then tokenize those sentences separately\n",
        "- So let's use regular expressions to remove the end-of-line characters from each document and then split the documents into sentences using a regular expression that looks for question marks, exclamation marks, and periods, followed by a space:"
      ]
    },
    {
      "cell_type": "code",
      "execution_count": null,
      "metadata": {
        "id": "_jCPB46UYHlH",
        "outputId": "7c7dfbd2-58db-40cb-a565-7697c06f6bc2"
      },
      "outputs": [
        {
          "data": {
            "text/plain": [
              "[['I was wondering if anyone out there could enlighten me on this car I saw the other day',\n",
              "  'It was a 2-door sports car, looked to be from the late 60s/ early 70s',\n",
              "  'It was called a Bricklin',\n",
              "  'The doors were really small',\n",
              "  'In addition, the front bumper was separate from the rest of the body',\n",
              "  'This is  all I know',\n",
              "  'If anyone can tellme a model name, engine specs, years of production, where this car is made, history, or whatever info you have on this funky looking car, please e-mail.'],\n",
              " ['A fair number of brave souls who upgraded their SI clock oscillator have shared their experiences for this poll',\n",
              "  'Please send a brief message detailing your experiences with the procedure',\n",
              "  'Top speed attained, CPU rated speed, add on cards and adapters, heat sinks, hour of usage per day, floppy disk functionality with 800 and 1.4 m floppies are especially requested',\n",
              "  \" I will be summarizing in the next two days, so please add to the network knowledge base if you have done the clock upgrade and haven't answered this poll\",\n",
              "  'Thanks.'],\n",
              " ['well folks, my mac plus finally gave up the ghost this weekend after starting life as a 512k way back in 1985',\n",
              "  \" sooo, i'm in the market for a new machine a bit sooner than i intended to be..\",\n",
              "  \" i'm looking into picking up a powerbook 160 or maybe 180 and have a bunch of questions that (hopefully) somebody can answer:  * does anybody know any dirt on when the next round of powerbook introductions are expected\",\n",
              "  ' i\\'d heard the 185c was supposed to make an appearence \"this summer\" but haven\\'t heard anymore on it - and since i don\\'t have access to macleak, i was wondering if anybody out there had more info..',\n",
              "  \" * has anybody heard rumors about price drops to the powerbook line like the ones the duo's just went through recently\",\n",
              "  \" * what's the impression of the display on the 180\",\n",
              "  ' i could probably swing a 180 if i got the 80Mb disk rather than the 120, but i don\\'t really have a feel for how much \"better\" the display is (yea, it looks great in the store, but is that all \"wow\" or is it really that good?)',\n",
              "  ' could i solicit some opinions of people who use the 160 and 180 day-to-day on if its worth taking the disk size and money hit to get the active display',\n",
              "  \" (i realize this is a real subjective question, but i've only played around with the machines in a computer store breifly and figured the opinions of somebody who actually uses the machine daily might prove helpful)\",\n",
              "  ' * how well does hellcats perform',\n",
              "  \" ;)  thanks a bunch in advance for any info - if you could email, i'll post a summary (news reading time is at a premium with finals just around the corner..\",\n",
              "  ':( ) -- Tom Willis  \\\\      \\\\    Purdue Electrical Engineering']]"
            ]
          },
          "execution_count": 3,
          "metadata": {},
          "output_type": "execute_result"
        }
      ],
      "source": [
        "import re\n",
        "\n",
        "# remove newline characters\n",
        "docs = [re.sub('\\n', ' ', doc) for doc in dataset_train.data]\n",
        "# remove email addresses\n",
        "docs = [re.sub('[a-zA-Z0-9._%+-]+@[a-zA-Z0-9.-]+\\.[a-zA-Z]{2,}', '', doc) for doc in docs]\n",
        "# split sentences\n",
        "sentences = [re.split('[?!.]\\s', doc) for doc in docs]\n",
        "sentences[:3]"
      ]
    },
    {
      "cell_type": "markdown",
      "metadata": {
        "id": "FIucFhmVYHlI"
      },
      "source": [
        "Above, we've printed out the first two documents, which have been split into arrays of sentences.\n",
        "- We'll need to flatten the structure into one big array of sentences (remove the distinction between documents) before providing it to Word2Vec.\n",
        "- We can do that using the flatten command from the pandas library:"
      ]
    },
    {
      "cell_type": "code",
      "execution_count": null,
      "metadata": {
        "id": "HB2YTCX1YHlI",
        "outputId": "b6ea61e4-ab03-48c8-e620-e6f1877e1505"
      },
      "outputs": [
        {
          "data": {
            "text/plain": [
              "['I was wondering if anyone out there could enlighten me on this car I saw the other day',\n",
              " 'It was a 2-door sports car, looked to be from the late 60s/ early 70s',\n",
              " 'It was called a Bricklin',\n",
              " 'The doors were really small',\n",
              " 'In addition, the front bumper was separate from the rest of the body',\n",
              " 'This is  all I know',\n",
              " 'If anyone can tellme a model name, engine specs, years of production, where this car is made, history, or whatever info you have on this funky looking car, please e-mail.',\n",
              " 'A fair number of brave souls who upgraded their SI clock oscillator have shared their experiences for this poll',\n",
              " 'Please send a brief message detailing your experiences with the procedure',\n",
              " 'Top speed attained, CPU rated speed, add on cards and adapters, heat sinks, hour of usage per day, floppy disk functionality with 800 and 1.4 m floppies are especially requested',\n",
              " \" I will be summarizing in the next two days, so please add to the network knowledge base if you have done the clock upgrade and haven't answered this poll\",\n",
              " 'Thanks.',\n",
              " 'well folks, my mac plus finally gave up the ghost this weekend after starting life as a 512k way back in 1985',\n",
              " \" sooo, i'm in the market for a new machine a bit sooner than i intended to be..\",\n",
              " \" i'm looking into picking up a powerbook 160 or maybe 180 and have a bunch of questions that (hopefully) somebody can answer:  * does anybody know any dirt on when the next round of powerbook introductions are expected\",\n",
              " ' i\\'d heard the 185c was supposed to make an appearence \"this summer\" but haven\\'t heard anymore on it - and since i don\\'t have access to macleak, i was wondering if anybody out there had more info..',\n",
              " \" * has anybody heard rumors about price drops to the powerbook line like the ones the duo's just went through recently\",\n",
              " \" * what's the impression of the display on the 180\",\n",
              " ' i could probably swing a 180 if i got the 80Mb disk rather than the 120, but i don\\'t really have a feel for how much \"better\" the display is (yea, it looks great in the store, but is that all \"wow\" or is it really that good?)',\n",
              " ' could i solicit some opinions of people who use the 160 and 180 day-to-day on if its worth taking the disk size and money hit to get the active display']"
            ]
          },
          "execution_count": 4,
          "metadata": {},
          "output_type": "execute_result"
        }
      ],
      "source": [
        "from pandas.core.common import flatten\n",
        "\n",
        "sentences = list(flatten(sentences))\n",
        "sentences[:20]"
      ]
    },
    {
      "cell_type": "markdown",
      "metadata": {
        "id": "OAQ0LlmEYHlI"
      },
      "source": [
        "Now we can proceed to do some cleaning of the data:\n",
        "- remove non-letter characters from each sentence\n",
        "- lowercase\n",
        "- tokenize the sentences based on whitespace\n",
        "- remove any sentence with length less than 2 since it won't be useful for training Word2Vec."
      ]
    },
    {
      "cell_type": "code",
      "execution_count": null,
      "metadata": {
        "id": "kgpm3IvQYHlI",
        "outputId": "ec8284f8-d1f2-4c9d-a9d9-e9fc200cdca4"
      },
      "outputs": [
        {
          "name": "stdout",
          "output_type": "stream",
          "text": [
            "['i', 'was', 'wondering', 'if', 'anyone', 'out', 'there', 'could', 'enlighten', 'me', 'on', 'this', 'car', 'i', 'saw', 'the', 'other', 'day']\n",
            "['it', 'was', 'a', '2', 'door', 'sports', 'car', 'looked', 'to', 'be', 'from', 'the', 'late', '60s', 'early', '70s']\n",
            "['it', 'was', 'called', 'a', 'bricklin']\n",
            "['the', 'doors', 'were', 'really', 'small']\n",
            "['in', 'addition', 'the', 'front', 'bumper', 'was', 'separate', 'from', 'the', 'rest', 'of', 'the', 'body']\n",
            "['this', 'is', 'all', 'i', 'know']\n",
            "['if', 'anyone', 'can', 'tellme', 'a', 'model', 'name', 'engine', 'specs', 'years', 'of', 'production', 'where', 'this', 'car', 'is', 'made', 'history', 'or', 'whatever', 'info', 'you', 'have', 'on', 'this', 'funky', 'looking', 'car', 'please', 'e', 'mail']\n",
            "['a', 'fair', 'number', 'of', 'brave', 'souls', 'who', 'upgraded', 'their', 'si', 'clock', 'oscillator', 'have', 'shared', 'their', 'experiences', 'for', 'this', 'poll']\n",
            "['please', 'send', 'a', 'brief', 'message', 'detailing', 'your', 'experiences', 'with', 'the', 'procedure']\n",
            "['top', 'speed', 'attained', 'cpu', 'rated', 'speed', 'add', 'on', 'cards', 'and', 'adapters', 'heat', 'sinks', 'hour', 'of', 'usage', 'per', 'day', 'floppy', 'disk', 'functionality', 'with', '800', 'and', '1', '4', 'm', 'floppies', 'are', 'especially', 'requested']\n"
          ]
        }
      ],
      "source": [
        "tokenized_sentences = [re.sub('\\W', ' ', sentence).lower().split() for sentence in sentences]\n",
        "# remove sentences that are only 1 word long\n",
        "tokenized_sentences = [sentence for sentence in tokenized_sentences if len(sentence) > 1]\n",
        "\n",
        "for sentence in tokenized_sentences[:10]:\n",
        "    print(sentence)"
      ]
    },
    {
      "cell_type": "markdown",
      "metadata": {
        "id": "_xYG3RKRYHlI"
      },
      "source": [
        "Finally we have the data in the right format for training Word2Vec, so we can provide it to the model. For parameters, we set:\n",
        "- the embedding size to be 30,\n",
        "- the minimum count for any vocabulary term to be 5\n",
        "- the size of the context window to 10."
      ]
    },
    {
      "cell_type": "code",
      "execution_count": null,
      "metadata": {
        "id": "fXolbjAXYHlJ"
      },
      "outputs": [],
      "source": [
        "from gensim.models.word2vec import Word2Vec\n",
        "\n",
        "model = Word2Vec(tokenized_sentences, vector_size=30, min_count=5, window=10)"
      ]
    },
    {
      "cell_type": "markdown",
      "metadata": {
        "id": "3BP16EM3YHlJ"
      },
      "source": [
        "Let's see how big the vocabulary is that Word2Vec ended up using, i.e. how many word vectors did it learn:"
      ]
    },
    {
      "cell_type": "code",
      "execution_count": null,
      "metadata": {
        "id": "Z7ZYKyxcYHlJ",
        "outputId": "c48d4e34-2e10-4b61-cca5-c50b174451dc"
      },
      "outputs": [
        {
          "data": {
            "text/plain": [
              "22069"
            ]
          },
          "execution_count": 7,
          "metadata": {},
          "output_type": "execute_result"
        }
      ],
      "source": [
        "len(model.wv)"
      ]
    },
    {
      "cell_type": "markdown",
      "metadata": {
        "id": "DHRbIkEYYHlJ"
      },
      "source": [
        "## Inspecting embeddings and finding similar words\n",
        "\n",
        "Now that we have a word2vec model trained, what can we do with it?\n",
        "- Let's print out one of the vectors to see what it looks like:"
      ]
    },
    {
      "cell_type": "code",
      "execution_count": null,
      "metadata": {
        "id": "1XJtGX3YYHlJ",
        "outputId": "66b28419-eac9-4f73-83c8-c102aa8ab3bf"
      },
      "outputs": [
        {
          "data": {
            "text/plain": [
              "array([ 1.0398535 , -1.9873341 ,  3.687858  , -1.7340553 ,  3.0025318 ,\n",
              "       -0.57095754, -2.000915  , -2.740216  , -0.08055155, -3.1170156 ,\n",
              "        0.9191    , -0.03888186,  1.8342156 ,  0.31560433,  0.7707801 ,\n",
              "        0.11200275,  2.2930377 ,  1.3836447 ,  1.7633575 , -0.46759394,\n",
              "       -1.0318238 ,  0.34812516, -2.630025  , -1.670228  ,  0.7547557 ,\n",
              "       -0.64192665, -0.83724767,  0.8597718 ,  2.077895  ,  1.4520485 ],\n",
              "      dtype=float32)"
            ]
          },
          "execution_count": 8,
          "metadata": {},
          "output_type": "execute_result"
        }
      ],
      "source": [
        "term = 'car'\n",
        "model.wv[term]"
      ]
    },
    {
      "cell_type": "markdown",
      "metadata": {
        "id": "jAcJZJmyYHlJ"
      },
      "source": [
        "Unlike LDA's document topic vector, this one has both positive and negative values.\n",
        "\n",
        "We could now use the model to compute similarities between terms based on their cosine distance in the embedding space.\n",
        "- Try modifying the terms below to see what their closest neighbouring terms are:\n",
        "  - Some good terms to try are: hockey, mouse, god, microsoft, clinton, bush, etc.\n",
        "  - (If yuo see an error, that is because the term you chose is not in the dictionary.)"
      ]
    },
    {
      "cell_type": "code",
      "execution_count": null,
      "metadata": {
        "id": "Ej6ij-9-YHlK",
        "outputId": "94507dee-d3a6-41d4-b420-8653f42ac708"
      },
      "outputs": [
        {
          "data": {
            "text/plain": [
              "[('bike', 0.9062784314155579),\n",
              " ('old', 0.7593172192573547),\n",
              " ('riding', 0.7534735798835754),\n",
              " ('getting', 0.747748613357544),\n",
              " ('driving', 0.7355999946594238),\n",
              " ('ride', 0.7255750894546509),\n",
              " ('little', 0.7208138704299927),\n",
              " ('room', 0.7181077003479004),\n",
              " ('front', 0.7096825242042542),\n",
              " ('friend', 0.7012181282043457)]"
            ]
          },
          "execution_count": 9,
          "metadata": {},
          "output_type": "execute_result"
        }
      ],
      "source": [
        "# term = 'gun'\n",
        "# term = 'microsoft'\n",
        "# term ='clinton'\n",
        "\n",
        "model.wv.most_similar(term)"
      ]
    },
    {
      "cell_type": "markdown",
      "metadata": {
        "id": "Y4Su5jmKYHlK"
      },
      "source": [
        "## Visualising the embedding vectors using t-SNE\n",
        "\n",
        "We'll now visualise some of the word vectors in a 3 dimensional space using t-SNE.\n",
        "\n",
        "The vocabulary of word vectors is quite large (around 25,000). Giving them all to t-SNE will cause it to take far too long to converge.\n",
        "- So let's first choose a random subset of 500 terms to show:"
      ]
    },
    {
      "cell_type": "code",
      "execution_count": null,
      "metadata": {
        "id": "X3GC2wXgYHlK",
        "outputId": "f7871959-502d-41b2-fc11-fd0278bc6924"
      },
      "outputs": [
        {
          "name": "stdout",
          "output_type": "stream",
          "text": [
            "['attendance', 'sinned', 'burden', 'cm', 'those', 'rule', 'considerations', 'fv', 'outlines', 'politeness', 'setups', 'secondhand', 'exceeding', 'egyptians', 'ton', 'w1t', 'multi', 'azerbaijan', 'forte', 'operation', 'vaccine', '168', 'closely', 'coaxial', 'surely', 'encounter', 'acrv', 'shifter', '1al', 'lpt', 'foundation', 'exportable', 'gay', 'intestines', 'gopher', 'durham', 'particulars', 'ohm', 'batf', 'escrows', 'tartaric', 'stored', 'olympus', 'xx', 'result', 'fluke', 'matt5', 'sat', 'militia', 'mix', 'marginal', 'jayne', 'garaged', 'rpw', 'gillow', 'benchmark', 'o7', 'telix', 'pb', 'specified', 'acting', '86r', 'sporting', 'chair', 'nylander', 'ximage', 'et4000', 'reflect', 'mob', 'mistaken', 'targets', 'diode', 'identifier', 'mission', 'transferring', 'indianapolis', 'atmosphere', 'wichita', 'enzymes', 'right', 'etc', 'fuck', 'really', 'lead', 'steep', 'motions', 'changes', 'asserts', 'dangers', 'ingr', 'detecting', '333', 'rear', 'timed', 'vanbiesbrouck', 'waterski', 'dionne', 'metrics', 'closed', 'pig', 'gcx', 'monitors', 'eskimo', 'rigorous', 'irregular', 'edm', 'stricken', '10', 'interests', 'unproven', 'eternal', '_r', 'rest', 'biggest', 'ir', 'senseless', '33', 'incarnation', 'civil', 'mdt', '76', 'lindbergh', '24e', 'miyazawa', 'ineffective', 'mentally', 'isolation', 'prevention', 'jpegview', 'fft', 'winchester', 'essensa', 'straw', 'rifle', '9f9fq', 'controllers', 'clinic', 'mediot', 'outbreak', 'present', 'varieties', 'escalating', 'internationally', 'turan', 'arm', 'lifestyle', 'provided', 'fill', 'sun3', 'redirected', 'lymph', 'poland', '1157', 'factoring', 'fortress', 'balkans', 'orchid', 'sneak', '1991', 'postponed', 'wheelie', 'tty', 'fran', 'egs', 'dale', 'compulsion', 'decstations', 'communication', 'stoned', 'characterized', 'xhr', 'initials', 'wil', 'precomp', 'forsaking', 'projections', 'bmwmoa', 'theodore', 'aid', 'placing', 'abdomen', 'kosher', 'ilhan', 'passengers', 'titan', 'answer', 'massacres', 'lights', 'reboost', 'v9', 'quicker', '___________', 'transaction', 'tho', 'regularity', 'continues', 'extremist', '5y', 'lqrs', 'roofs', 'vq', 'sq9', 'wwhj', 'unreadable', 'mainstream', '6am', 'impersonal', 'republicans', 'fathers', 'doctrines', 'backpack', 'rnb', '954', 'missing', '9f9f9f9f9', 'reds', 'open', '223', 'finances', 'filing', 'screw', '783', 'derounian', 'effectively', 'costs', 'locking', '1jz', 'riders', 'commodore', '578', 'deficiencies', 'unc', 'tunnel', 'parent', 'glenn', 'courses', 'vlv', 'escherichia', '13th', '449', '196', 'pigs', '1057', 'xi', 'rebut', 'dab', '1q', 'tuscon', 'yale', 'ed5', 'irqs', 'nominal', 'os7', 'runtime', 'intake', 't4', 'infections', 'lunch', 'vicious', 'seagate', '3511', 'cowboy', 'conroy', 'dropping', 'duplex', 'eggs', 'outdated', 'carlos', 'tandy', 'spin', 'g1t', 'mileage', 'amd', '4o', 'thay', 'piss', 'exceed', 'authenticity', 'negotiated', 'ucblib', 'mosaic', 'doublespace', 'chinese', 'acro', 'cview', 'mess', 'romford', 'testimony', 'typist', 'los', 'annoy', 'furniture', 'flora', 'qvg', 'twm', 'rash', 'discredited', 'teenager', 'asserting', '1930', 'rides', 'improvement', 'room', 'pacifist', 'ecf', '435', 'scaled', 'corresponding', 'jose', 'shutdown', 'myopic', 'fix', 'priority', 'knives', 'capslock', 'apparently', 'invent', 'trampled', 'wayne', 'height', 'col_len', 'drives', 'redundancy', '7900', 'generous', 'insecure', '30fps', 'r4', '520', 'eliminating', 'document', 'tic', 'hasan', 'bays', 'winters', 'depalma', 'discomfort', 'impacts', 'survived', 'coated', '270', 'orthodoxy', 'regression', 'provides', 'article', 'russ', 'button', 'cognitivists', '_all_', 'tribes', 'impressed', 'vt100', 'pasadena', 'danielian', 'idk', 'purple', 'psychiatric', 'walkman', 'aim', 'disimp', 'slave', 'gre', 'queries', '253', 'cdr', 'portable', 'x_', 'giving', 'herpes', '950', '_________________________________________________________________', 'w4f', 'macros', 'contacts', 'rounds', 'reformat', 'sealing', 'clones', 'distruction', 'seize', '646', 'unspeakable', 'redesigned', 'condemnation', 'infants', 'aboard', 'airlines', 'chunky', 'exercised', 'savard', 'ics', 'ro', 'macedonian', 'cloak', 'fuselage', 'funet', 'occupants', 'clutter', 'bibles', 'displayed', 'dressed', 'd9', 'jun', 'jumps', 'iname', 'coptic', 'xerox', 'v2', 'healthy', 'forbes', '291', 'valid', 'crater', 'loosing', '1980s', 'ajm', 'barbarism', 'rs232', 'friendship', 'normal', 'coexist', 'rusty', 'coreldraw', 'cx', 'pv', 'eloquently', 'fucked', '463', 'infer', 'pots', 'analyze', 'readable', 'sandstrom', 'iii', 'greene', '426', '7j', 'excommunication', 'afg', 'ws', 'homosexual', 'atrocities', 'alberta', 'prom', 'disinformation', 'r7', 'robbery', 'anatomy', 'ireland', 'scrabble', 'thursday', 'group', '256k', 'isolated', 'vg', 'yg', 'constant', 'kjznb', 'dependant', 'djgpp', 'worn', 'luckily', '72z', 'jk', 'reversed', 'depending', 'terminated', 'discussed', 'rosters', 'get_line', 'prohibiting', 'cyl', 'statbuf', '4173', 'annual', 'disagree', 'incrementally', 'geometric', 'gao', 'studio', 'sayings', 'pairs', 'm3n', 'tt', 'sid', '3n', 'koresh', 'mean', 'lived', 'netland', 'rama', 'raise', 'financially', 'stephan', 'perot', 'machines', 'azerbadjan', 'organizations', 'moody', '________']\n"
          ]
        }
      ],
      "source": [
        "import random\n",
        "\n",
        "sample = random.sample(list(model.wv.key_to_index), 500)\n",
        "print(sample)"
      ]
    },
    {
      "cell_type": "markdown",
      "metadata": {
        "id": "tb51ZnSpYHlK"
      },
      "source": [
        "Now we'll get the word vectors for the sampled terms:"
      ]
    },
    {
      "cell_type": "code",
      "execution_count": null,
      "metadata": {
        "id": "wdIlwUjaYHlK",
        "outputId": "2cb026f7-a28d-4121-813b-d49c3943ac16"
      },
      "outputs": [
        {
          "data": {
            "text/plain": [
              "array([[-1.58245385e-01, -1.82176381e-01,  3.21587116e-01, ...,\n",
              "         1.47845954e-01,  1.38654694e-01, -4.51651096e-01],\n",
              "       [-7.75157064e-02, -1.53390303e-01,  1.31864578e-01, ...,\n",
              "        -3.67425457e-02, -1.67204905e-02,  8.27051292e-04],\n",
              "       [ 2.38637179e-02, -1.14554331e-01,  4.26419407e-01, ...,\n",
              "         2.11046964e-01,  3.75130236e-01, -2.78180122e-01],\n",
              "       ...,\n",
              "       [ 1.22372270e+00,  3.26475918e-01,  1.24309778e-01, ...,\n",
              "        -1.24033816e-01,  1.56494236e+00, -2.37344813e+00],\n",
              "       [-2.84719318e-02,  1.20228389e-02,  5.18490821e-02, ...,\n",
              "         2.61926856e-02,  5.79923764e-02, -1.60439640e-01],\n",
              "       [-6.87556863e-02,  4.28489596e-02, -3.73868309e-02, ...,\n",
              "         2.21936062e-01, -6.58124760e-02, -1.10508248e-01]], dtype=float32)"
            ]
          },
          "execution_count": 11,
          "metadata": {},
          "output_type": "execute_result"
        }
      ],
      "source": [
        "word_vectors = model.wv[sample]\n",
        "word_vectors"
      ]
    },
    {
      "cell_type": "markdown",
      "metadata": {
        "id": "GPKDpTt9YHlK"
      },
      "source": [
        "And we'll provide the vectors to TSNE to fit a model and transform the data to 3 dimensions:"
      ]
    },
    {
      "cell_type": "code",
      "execution_count": null,
      "metadata": {
        "id": "TdSwKpggYHlK"
      },
      "outputs": [],
      "source": [
        "from sklearn.manifold import TSNE\n",
        "\n",
        "tsne = TSNE(n_components=3, n_iter=2000)\n",
        "tsne_embedding = tsne.fit_transform(word_vectors)"
      ]
    },
    {
      "cell_type": "markdown",
      "metadata": {
        "id": "HWDA5VAFYHlL"
      },
      "source": [
        "Now transform the data into 3 columns (for x, y, and z):"
      ]
    },
    {
      "cell_type": "code",
      "execution_count": null,
      "metadata": {
        "id": "F-ubEgoDYHlL"
      },
      "outputs": [],
      "source": [
        "import numpy as np\n",
        "\n",
        "x, y, z = np.transpose(tsne_embedding)"
      ]
    },
    {
      "cell_type": "markdown",
      "metadata": {
        "id": "2RQtluK0YHlL"
      },
      "source": [
        "And generate the 3d plot:"
      ]
    },
    {
      "cell_type": "code",
      "execution_count": null,
      "metadata": {
        "id": "TWS77SLJey3Q"
      },
      "outputs": [],
      "source": [
        "%pip install plotly"
      ]
    },
    {
      "cell_type": "code",
      "execution_count": null,
      "metadata": {
        "id": "Addk422Dt_IW",
        "outputId": "43abab31-e599-406b-e65e-ae75610d9860"
      },
      "outputs": [
        {
          "data": {
            "application/vnd.plotly.v1+json": {
              "config": {
                "plotlyServerURL": "https://plot.ly"
              },
              "data": [
                {
                  "hovertemplate": "x=%{x}<br>y=%{y}<br>z=%{z}<extra></extra>",
                  "legendgroup": "",
                  "marker": {
                    "color": "#636efa",
                    "line": {
                      "width": 2
                    },
                    "size": 3,
                    "symbol": "circle"
                  },
                  "mode": "markers",
                  "name": "",
                  "scene": "scene",
                  "showlegend": false,
                  "type": "scatter3d",
                  "x": {
                    "bdata": "ebjVQMz7xcCu0apBqEUVvpjc9UG8ue1BcMOZP3E0kcGu6sA/WpydQL8xzsGxfnDBd7owwTsV60DlKJ/Ax8fcwWiyc8GzpOhBgxazwE7swUGLCyhB00SLQHAs7kEquUnBVqzRQf2AvkHhRlG+7kMRwcnEssFw+aXBSALWQUJM0sGZrf5BP4rQvit3Xj88hfNAxQEQQUKIiMCkxONBTCUSwTW0nMBfBCHBoPSlQDyIkcHJYPNB6QaYwNj3pcERhUtBmnAGQj245r4JQCVBGmRywQXZAcFpUQ/BnV4+Qenhj8ETsJzB6sqDwUL8GcG1eiTBBwXfQVeA2cGtbW1BKnxnQaFX5EDJss/BLPRhweoVh0GUPJhBnuGQQePTzkFc55XBt156P1N2xkFp9eFAUW0fQWGho0FpSMNAmAWQwYyICELTSx7BIOLzPrlszkE1ML1BnbygwCzbZ0GZc3DB3epcQbArhEGI1a8/sfkMv+oyDEG6nr1BdDbFwDFGEECaw7rAvMavQMpvcMFRdrxBUIafQMzxYMGuDjLBpVZJwDDSdkEportAz9adQOimC0Hdt3VB+yPqQT0dFsEVlQZC72zHwYG77UFmL21AjsQFwMMlRUFwDDdBKmqmQY2X/0ECW6HBpqEGQVpLEEG2Yvs/E++UQWGMfkFOcwFAQdA5QX3Bx0ETzTHBvlDVv8ecNMFZwSDBYSaMQeYsYEEuHsjBAbNXwZ8LbkBo979A5MmVQc6rDkKRee5AQFDEQLT/wsCgzFtBaci5QbRLzkAdHOxBa20bwLNNQsDIow/AOwBhP49udcGF1i7BoO3LQPylF0GaEyBBNiB3wf4Vwz4vGrVBJagxwY2UlcHcMbfBPusdQVVYhUCntPVAd5qWPwRuxsEKrMRBxFocweOCrUEKIo3Bjoz6wIzjSMGOpIjBA0xvQA9Dz0DDyzo/1KmvQKKcxkHf+YBBPVpeQd750kA7oS9BpHucv+oGk0F3hd5BwgPBQe8rrUFJmoDB7iiRwW2xNkGIvQhBvoFaQS/kPL+1DtfAdHq2QZZ7CkGoQYbBEomjwfyZ00DQg37BDXa2wVkQusFV7ZDBp2p6QfNmlsCVQdxADuS+QZHu0EG0etNBz4iZP2WmrsHWUdHAO3qxwRA0SsEtiZ1A+T+zwQk62kAN89bAFy5fQWzvgcDtYJ/Bw2AWQeOW5EHIzqPAiKN5wFq+wMAayZ9BEUwbwd/PgMC6PytAyEkTQL6BIT+lTWdAaDcXQX7foUEXnHDBNFBBQWGdWsGdRs7Ao1SyQPvlF78PBznBgTk7wLIxh8FJq5JAZgfqPzS3QsBWAmpBxe/KwdKzncGF4+fAkTqkwb1AlcAHrS5BmxtDP9JAnUF0rjtBfyEOQZ64lMFe75PAgssBQF6YPUBcbMK/zEmewWqklUH8Jus//9PMwDbsUcFHtMfAbF60wZaQEEEvkYHAPNFiwexRFcE2lig/TBcUwYFsmEFetwJBmqIxwUfD0sHTK6vBbJ6LQXvhzsHfHpTBmoulPTNsBUEYNOtBywuBwRULn0EzjEHAd8QuwbcG6D/uq5/BiXltwVCFXDzaJVjAFZHcPx33jEEgaUxBVxhGQZ9/gEElK7JBB11ewfInKkCIpPLANpIuwRkQEsHyaHlB0LIlPnR4xUCFx6jBkMZbQVHmpUGOx3dA3VJoQXffz8DfB1NB2YVAQf9hmcGipS3Anvx2wasjwsF517tA6PolwbtlCUDf7XLBVb38wOjSEsHzRkJBU9ZowbV/WsHfczNB2GZ8wc/w7sCF9nXBDZcHQbcRkUAmOqBB18i7QHv33EBQyzNB5x4mQDnTBsHyA4LB3iNMwAEqpsHVopJAPQkuQX/BjEEGOmBBBaagwfQWy0B0LybB69uXwcweE8EPL1XBRHAmwY2UgcApb4nA1wxqwc+NeD/vcr/A0Xg4QcNRqMEkpmXB4SWywWPsaj+gOIFBiacXwXkLVUGyoXbBfsHvwBRGlEH2giVAJmakwSrpJMGWNN7A8zFzwRJBlUF0/t3AY/N7QGXJd8CRoyNBf75gQep0J0G2DCjAr6WxPxLJN0EAM1FBVSWAwBT4HMGlnQJBI1HCPueDIsBjaUs/+OPGP2aShcAObClBDTxjwVUGMUHhAqlAJfJOvgaLz78IcplAD5+4QR5n6r35zLTAO50hQSM+D0GcAxbARsynQVu4J7/lG07B7IWCQY67vsG4qJZAu2aGwSSwCUF8zBTBFJ61wSItm8BTTrHBNoW1QI2qBcHfGBLBSXKcwI2oWsECVG1Bb6VcweFKRUB2+RTBPiroQInWf0FhfqO/RTVaPydMosEZCYlB+/fNwbtxgcG3rgFCIrHAQSaDAkHg8JvBLA2xv7sHqsHVRnFB65TFQBQRG0GJbB/BvKOOQTO0A0I/xWPBfkqpQPHneT8daUXBrYvJQJDZmMFkjpHBMP02wNrNtUBx1CvA12PKwcF0cMFl47dAYVAAwe1IqcEdUQlCtWdDQZ+ib8HktL9BH/JdwZc+SMElz8zAxaSoQS0y70Hhh7nB95ssQUHPX0DjMsnAE+ZGwRBisz57qobBEYhQwa/5i0C+eILBJwUAQrI+/kHdQtBBb3mUQMRwGkAxVVhAXpWSQJxHi0BU+O7AdTtbwckflkEmW/BBUqUWwXvHCsE=",
                    "dtype": "f4"
                  },
                  "y": {
                    "bdata": "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",
                    "dtype": "f4"
                  },
                  "z": {
                    "bdata": "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",
                    "dtype": "f4"
                  }
                }
              ],
              "layout": {
                "legend": {
                  "tracegroupgap": 0
                },
                "margin": {
                  "t": 60
                },
                "scene": {
                  "domain": {
                    "x": [
                      0,
                      1
                    ],
                    "y": [
                      0,
                      1
                    ]
                  },
                  "xaxis": {
                    "title": {
                      "text": "x"
                    }
                  },
                  "yaxis": {
                    "title": {
                      "text": "y"
                    }
                  },
                  "zaxis": {
                    "title": {
                      "text": "z"
                    }
                  }
                },
                "template": {
                  "data": {
                    "bar": [
                      {
                        "error_x": {
                          "color": "#2a3f5f"
                        },
                        "error_y": {
                          "color": "#2a3f5f"
                        },
                        "marker": {
                          "line": {
                            "color": "#E5ECF6",
                            "width": 0.5
                          },
                          "pattern": {
                            "fillmode": "overlay",
                            "size": 10,
                            "solidity": 0.2
                          }
                        },
                        "type": "bar"
                      }
                    ],
                    "barpolar": [
                      {
                        "marker": {
                          "line": {
                            "color": "#E5ECF6",
                            "width": 0.5
                          },
                          "pattern": {
                            "fillmode": "overlay",
                            "size": 10,
                            "solidity": 0.2
                          }
                        },
                        "type": "barpolar"
                      }
                    ],
                    "carpet": [
                      {
                        "aaxis": {
                          "endlinecolor": "#2a3f5f",
                          "gridcolor": "white",
                          "linecolor": "white",
                          "minorgridcolor": "white",
                          "startlinecolor": "#2a3f5f"
                        },
                        "baxis": {
                          "endlinecolor": "#2a3f5f",
                          "gridcolor": "white",
                          "linecolor": "white",
                          "minorgridcolor": "white",
                          "startlinecolor": "#2a3f5f"
                        },
                        "type": "carpet"
                      }
                    ],
                    "choropleth": [
                      {
                        "colorbar": {
                          "outlinewidth": 0,
                          "ticks": ""
                        },
                        "type": "choropleth"
                      }
                    ],
                    "contour": [
                      {
                        "colorbar": {
                          "outlinewidth": 0,
                          "ticks": ""
                        },
                        "colorscale": [
                          [
                            0,
                            "#0d0887"
                          ],
                          [
                            0.1111111111111111,
                            "#46039f"
                          ],
                          [
                            0.2222222222222222,
                            "#7201a8"
                          ],
                          [
                            0.3333333333333333,
                            "#9c179e"
                          ],
                          [
                            0.4444444444444444,
                            "#bd3786"
                          ],
                          [
                            0.5555555555555556,
                            "#d8576b"
                          ],
                          [
                            0.6666666666666666,
                            "#ed7953"
                          ],
                          [
                            0.7777777777777778,
                            "#fb9f3a"
                          ],
                          [
                            0.8888888888888888,
                            "#fdca26"
                          ],
                          [
                            1,
                            "#f0f921"
                          ]
                        ],
                        "type": "contour"
                      }
                    ],
                    "contourcarpet": [
                      {
                        "colorbar": {
                          "outlinewidth": 0,
                          "ticks": ""
                        },
                        "type": "contourcarpet"
                      }
                    ],
                    "heatmap": [
                      {
                        "colorbar": {
                          "outlinewidth": 0,
                          "ticks": ""
                        },
                        "colorscale": [
                          [
                            0,
                            "#0d0887"
                          ],
                          [
                            0.1111111111111111,
                            "#46039f"
                          ],
                          [
                            0.2222222222222222,
                            "#7201a8"
                          ],
                          [
                            0.3333333333333333,
                            "#9c179e"
                          ],
                          [
                            0.4444444444444444,
                            "#bd3786"
                          ],
                          [
                            0.5555555555555556,
                            "#d8576b"
                          ],
                          [
                            0.6666666666666666,
                            "#ed7953"
                          ],
                          [
                            0.7777777777777778,
                            "#fb9f3a"
                          ],
                          [
                            0.8888888888888888,
                            "#fdca26"
                          ],
                          [
                            1,
                            "#f0f921"
                          ]
                        ],
                        "type": "heatmap"
                      }
                    ],
                    "histogram": [
                      {
                        "marker": {
                          "pattern": {
                            "fillmode": "overlay",
                            "size": 10,
                            "solidity": 0.2
                          }
                        },
                        "type": "histogram"
                      }
                    ],
                    "histogram2d": [
                      {
                        "colorbar": {
                          "outlinewidth": 0,
                          "ticks": ""
                        },
                        "colorscale": [
                          [
                            0,
                            "#0d0887"
                          ],
                          [
                            0.1111111111111111,
                            "#46039f"
                          ],
                          [
                            0.2222222222222222,
                            "#7201a8"
                          ],
                          [
                            0.3333333333333333,
                            "#9c179e"
                          ],
                          [
                            0.4444444444444444,
                            "#bd3786"
                          ],
                          [
                            0.5555555555555556,
                            "#d8576b"
                          ],
                          [
                            0.6666666666666666,
                            "#ed7953"
                          ],
                          [
                            0.7777777777777778,
                            "#fb9f3a"
                          ],
                          [
                            0.8888888888888888,
                            "#fdca26"
                          ],
                          [
                            1,
                            "#f0f921"
                          ]
                        ],
                        "type": "histogram2d"
                      }
                    ],
                    "histogram2dcontour": [
                      {
                        "colorbar": {
                          "outlinewidth": 0,
                          "ticks": ""
                        },
                        "colorscale": [
                          [
                            0,
                            "#0d0887"
                          ],
                          [
                            0.1111111111111111,
                            "#46039f"
                          ],
                          [
                            0.2222222222222222,
                            "#7201a8"
                          ],
                          [
                            0.3333333333333333,
                            "#9c179e"
                          ],
                          [
                            0.4444444444444444,
                            "#bd3786"
                          ],
                          [
                            0.5555555555555556,
                            "#d8576b"
                          ],
                          [
                            0.6666666666666666,
                            "#ed7953"
                          ],
                          [
                            0.7777777777777778,
                            "#fb9f3a"
                          ],
                          [
                            0.8888888888888888,
                            "#fdca26"
                          ],
                          [
                            1,
                            "#f0f921"
                          ]
                        ],
                        "type": "histogram2dcontour"
                      }
                    ],
                    "mesh3d": [
                      {
                        "colorbar": {
                          "outlinewidth": 0,
                          "ticks": ""
                        },
                        "type": "mesh3d"
                      }
                    ],
                    "parcoords": [
                      {
                        "line": {
                          "colorbar": {
                            "outlinewidth": 0,
                            "ticks": ""
                          }
                        },
                        "type": "parcoords"
                      }
                    ],
                    "pie": [
                      {
                        "automargin": true,
                        "type": "pie"
                      }
                    ],
                    "scatter": [
                      {
                        "fillpattern": {
                          "fillmode": "overlay",
                          "size": 10,
                          "solidity": 0.2
                        },
                        "type": "scatter"
                      }
                    ],
                    "scatter3d": [
                      {
                        "line": {
                          "colorbar": {
                            "outlinewidth": 0,
                            "ticks": ""
                          }
                        },
                        "marker": {
                          "colorbar": {
                            "outlinewidth": 0,
                            "ticks": ""
                          }
                        },
                        "type": "scatter3d"
                      }
                    ],
                    "scattercarpet": [
                      {
                        "marker": {
                          "colorbar": {
                            "outlinewidth": 0,
                            "ticks": ""
                          }
                        },
                        "type": "scattercarpet"
                      }
                    ],
                    "scattergeo": [
                      {
                        "marker": {
                          "colorbar": {
                            "outlinewidth": 0,
                            "ticks": ""
                          }
                        },
                        "type": "scattergeo"
                      }
                    ],
                    "scattergl": [
                      {
                        "marker": {
                          "colorbar": {
                            "outlinewidth": 0,
                            "ticks": ""
                          }
                        },
                        "type": "scattergl"
                      }
                    ],
                    "scattermap": [
                      {
                        "marker": {
                          "colorbar": {
                            "outlinewidth": 0,
                            "ticks": ""
                          }
                        },
                        "type": "scattermap"
                      }
                    ],
                    "scattermapbox": [
                      {
                        "marker": {
                          "colorbar": {
                            "outlinewidth": 0,
                            "ticks": ""
                          }
                        },
                        "type": "scattermapbox"
                      }
                    ],
                    "scatterpolar": [
                      {
                        "marker": {
                          "colorbar": {
                            "outlinewidth": 0,
                            "ticks": ""
                          }
                        },
                        "type": "scatterpolar"
                      }
                    ],
                    "scatterpolargl": [
                      {
                        "marker": {
                          "colorbar": {
                            "outlinewidth": 0,
                            "ticks": ""
                          }
                        },
                        "type": "scatterpolargl"
                      }
                    ],
                    "scatterternary": [
                      {
                        "marker": {
                          "colorbar": {
                            "outlinewidth": 0,
                            "ticks": ""
                          }
                        },
                        "type": "scatterternary"
                      }
                    ],
                    "surface": [
                      {
                        "colorbar": {
                          "outlinewidth": 0,
                          "ticks": ""
                        },
                        "colorscale": [
                          [
                            0,
                            "#0d0887"
                          ],
                          [
                            0.1111111111111111,
                            "#46039f"
                          ],
                          [
                            0.2222222222222222,
                            "#7201a8"
                          ],
                          [
                            0.3333333333333333,
                            "#9c179e"
                          ],
                          [
                            0.4444444444444444,
                            "#bd3786"
                          ],
                          [
                            0.5555555555555556,
                            "#d8576b"
                          ],
                          [
                            0.6666666666666666,
                            "#ed7953"
                          ],
                          [
                            0.7777777777777778,
                            "#fb9f3a"
                          ],
                          [
                            0.8888888888888888,
                            "#fdca26"
                          ],
                          [
                            1,
                            "#f0f921"
                          ]
                        ],
                        "type": "surface"
                      }
                    ],
                    "table": [
                      {
                        "cells": {
                          "fill": {
                            "color": "#EBF0F8"
                          },
                          "line": {
                            "color": "white"
                          }
                        },
                        "header": {
                          "fill": {
                            "color": "#C8D4E3"
                          },
                          "line": {
                            "color": "white"
                          }
                        },
                        "type": "table"
                      }
                    ]
                  },
                  "layout": {
                    "annotationdefaults": {
                      "arrowcolor": "#2a3f5f",
                      "arrowhead": 0,
                      "arrowwidth": 1
                    },
                    "autotypenumbers": "strict",
                    "coloraxis": {
                      "colorbar": {
                        "outlinewidth": 0,
                        "ticks": ""
                      }
                    },
                    "colorscale": {
                      "diverging": [
                        [
                          0,
                          "#8e0152"
                        ],
                        [
                          0.1,
                          "#c51b7d"
                        ],
                        [
                          0.2,
                          "#de77ae"
                        ],
                        [
                          0.3,
                          "#f1b6da"
                        ],
                        [
                          0.4,
                          "#fde0ef"
                        ],
                        [
                          0.5,
                          "#f7f7f7"
                        ],
                        [
                          0.6,
                          "#e6f5d0"
                        ],
                        [
                          0.7,
                          "#b8e186"
                        ],
                        [
                          0.8,
                          "#7fbc41"
                        ],
                        [
                          0.9,
                          "#4d9221"
                        ],
                        [
                          1,
                          "#276419"
                        ]
                      ],
                      "sequential": [
                        [
                          0,
                          "#0d0887"
                        ],
                        [
                          0.1111111111111111,
                          "#46039f"
                        ],
                        [
                          0.2222222222222222,
                          "#7201a8"
                        ],
                        [
                          0.3333333333333333,
                          "#9c179e"
                        ],
                        [
                          0.4444444444444444,
                          "#bd3786"
                        ],
                        [
                          0.5555555555555556,
                          "#d8576b"
                        ],
                        [
                          0.6666666666666666,
                          "#ed7953"
                        ],
                        [
                          0.7777777777777778,
                          "#fb9f3a"
                        ],
                        [
                          0.8888888888888888,
                          "#fdca26"
                        ],
                        [
                          1,
                          "#f0f921"
                        ]
                      ],
                      "sequentialminus": [
                        [
                          0,
                          "#0d0887"
                        ],
                        [
                          0.1111111111111111,
                          "#46039f"
                        ],
                        [
                          0.2222222222222222,
                          "#7201a8"
                        ],
                        [
                          0.3333333333333333,
                          "#9c179e"
                        ],
                        [
                          0.4444444444444444,
                          "#bd3786"
                        ],
                        [
                          0.5555555555555556,
                          "#d8576b"
                        ],
                        [
                          0.6666666666666666,
                          "#ed7953"
                        ],
                        [
                          0.7777777777777778,
                          "#fb9f3a"
                        ],
                        [
                          0.8888888888888888,
                          "#fdca26"
                        ],
                        [
                          1,
                          "#f0f921"
                        ]
                      ]
                    },
                    "colorway": [
                      "#636efa",
                      "#EF553B",
                      "#00cc96",
                      "#ab63fa",
                      "#FFA15A",
                      "#19d3f3",
                      "#FF6692",
                      "#B6E880",
                      "#FF97FF",
                      "#FECB52"
                    ],
                    "font": {
                      "color": "#2a3f5f"
                    },
                    "geo": {
                      "bgcolor": "white",
                      "lakecolor": "white",
                      "landcolor": "#E5ECF6",
                      "showlakes": true,
                      "showland": true,
                      "subunitcolor": "white"
                    },
                    "hoverlabel": {
                      "align": "left"
                    },
                    "hovermode": "closest",
                    "mapbox": {
                      "style": "light"
                    },
                    "paper_bgcolor": "white",
                    "plot_bgcolor": "#E5ECF6",
                    "polar": {
                      "angularaxis": {
                        "gridcolor": "white",
                        "linecolor": "white",
                        "ticks": ""
                      },
                      "bgcolor": "#E5ECF6",
                      "radialaxis": {
                        "gridcolor": "white",
                        "linecolor": "white",
                        "ticks": ""
                      }
                    },
                    "scene": {
                      "xaxis": {
                        "backgroundcolor": "#E5ECF6",
                        "gridcolor": "white",
                        "gridwidth": 2,
                        "linecolor": "white",
                        "showbackground": true,
                        "ticks": "",
                        "zerolinecolor": "white"
                      },
                      "yaxis": {
                        "backgroundcolor": "#E5ECF6",
                        "gridcolor": "white",
                        "gridwidth": 2,
                        "linecolor": "white",
                        "showbackground": true,
                        "ticks": "",
                        "zerolinecolor": "white"
                      },
                      "zaxis": {
                        "backgroundcolor": "#E5ECF6",
                        "gridcolor": "white",
                        "gridwidth": 2,
                        "linecolor": "white",
                        "showbackground": true,
                        "ticks": "",
                        "zerolinecolor": "white"
                      }
                    },
                    "shapedefaults": {
                      "line": {
                        "color": "#2a3f5f"
                      }
                    },
                    "ternary": {
                      "aaxis": {
                        "gridcolor": "white",
                        "linecolor": "white",
                        "ticks": ""
                      },
                      "baxis": {
                        "gridcolor": "white",
                        "linecolor": "white",
                        "ticks": ""
                      },
                      "bgcolor": "#E5ECF6",
                      "caxis": {
                        "gridcolor": "white",
                        "linecolor": "white",
                        "ticks": ""
                      }
                    },
                    "title": {
                      "x": 0.05
                    },
                    "xaxis": {
                      "automargin": true,
                      "gridcolor": "white",
                      "linecolor": "white",
                      "ticks": "",
                      "title": {
                        "standoff": 15
                      },
                      "zerolinecolor": "white",
                      "zerolinewidth": 2
                    },
                    "yaxis": {
                      "automargin": true,
                      "gridcolor": "white",
                      "linecolor": "white",
                      "ticks": "",
                      "title": {
                        "standoff": 15
                      },
                      "zerolinecolor": "white",
                      "zerolinewidth": 2
                    }
                  }
                }
              }
            }
          },
          "metadata": {},
          "output_type": "display_data"
        }
      ],
      "source": [
        "import plotly.express as px\n",
        "\n",
        "fig = px.scatter_3d(x=x, y=y, z=z)\n",
        "fig.update_traces(marker=dict(size=3,line=dict(width=2)))\n",
        "fig.show()"
      ]
    },
    {
      "cell_type": "markdown",
      "metadata": {
        "id": "b4AIuIruYHlL"
      },
      "source": [
        "Well that's a not a particularly interesting 3d plot!\n",
        "\n",
        "How about we label some of the points on the graph to see what words they correspond to:"
      ]
    },
    {
      "cell_type": "code",
      "execution_count": null,
      "metadata": {
        "id": "nwF1aJAQy9YY",
        "outputId": "7bc77e6c-939e-4a66-b322-36f65c60465f"
      },
      "outputs": [
        {
          "data": {
            "application/vnd.plotly.v1+json": {
              "config": {
                "plotlyServerURL": "https://plot.ly"
              },
              "data": [
                {
                  "hovertemplate": "x=%{x}<br>y=%{y}<br>z=%{z}<br>text=%{text}<extra></extra>",
                  "legendgroup": "",
                  "marker": {
                    "color": "#636efa",
                    "line": {
                      "width": 2
                    },
                    "size": 3,
                    "symbol": "circle"
                  },
                  "mode": "markers+text",
                  "name": "",
                  "scene": "scene",
                  "showlegend": false,
                  "text": [
                    "attendance",
                    "sinned",
                    "burden",
                    "cm",
                    "those",
                    "rule",
                    "considerations",
                    "fv",
                    "outlines",
                    "politeness",
                    "setups",
                    "secondhand",
                    "exceeding",
                    "egyptians",
                    "ton",
                    "w1t",
                    "multi",
                    "azerbaijan",
                    "forte",
                    "operation",
                    "vaccine",
                    "168",
                    "closely",
                    "coaxial",
                    "surely",
                    "encounter",
                    "acrv",
                    "shifter",
                    "1al",
                    "lpt",
                    "foundation",
                    "exportable",
                    "gay",
                    "intestines",
                    "gopher",
                    "durham",
                    "particulars",
                    "ohm",
                    "batf",
                    "escrows",
                    "tartaric",
                    "stored",
                    "olympus",
                    "xx",
                    "result",
                    "fluke",
                    "matt5",
                    "sat",
                    "militia",
                    "mix",
                    "marginal",
                    "jayne",
                    "garaged",
                    "rpw",
                    "gillow",
                    "benchmark",
                    "o7",
                    "telix",
                    "pb",
                    "specified",
                    "acting",
                    "86r",
                    "sporting",
                    "chair",
                    "nylander",
                    "ximage",
                    "et4000",
                    "reflect",
                    "mob",
                    "mistaken",
                    "targets",
                    "diode",
                    "identifier",
                    "mission",
                    "transferring",
                    "indianapolis",
                    "atmosphere",
                    "wichita",
                    "enzymes",
                    "right",
                    "etc",
                    "fuck",
                    "really",
                    "lead",
                    "steep",
                    "motions",
                    "changes",
                    "asserts",
                    "dangers",
                    "ingr",
                    "detecting",
                    "333",
                    "rear",
                    "timed",
                    "vanbiesbrouck",
                    "waterski",
                    "dionne",
                    "metrics",
                    "closed",
                    "pig",
                    "gcx",
                    "monitors",
                    "eskimo",
                    "rigorous",
                    "irregular",
                    "edm",
                    "stricken",
                    "10",
                    "interests",
                    "unproven",
                    "eternal",
                    "_r",
                    "rest",
                    "biggest",
                    "ir",
                    "senseless",
                    "33",
                    "incarnation",
                    "civil",
                    "mdt",
                    "76",
                    "lindbergh",
                    "24e",
                    "miyazawa",
                    "ineffective",
                    "mentally",
                    "isolation",
                    "prevention",
                    "jpegview",
                    "fft",
                    "winchester",
                    "essensa",
                    "straw",
                    "rifle",
                    "9f9fq",
                    "controllers",
                    "clinic",
                    "mediot",
                    "outbreak",
                    "present",
                    "varieties",
                    "escalating",
                    "internationally",
                    "turan",
                    "arm",
                    "lifestyle",
                    "provided",
                    "fill",
                    "sun3",
                    "redirected",
                    "lymph",
                    "poland",
                    "1157",
                    "factoring",
                    "fortress",
                    "balkans",
                    "orchid",
                    "sneak",
                    "1991",
                    "postponed",
                    "wheelie",
                    "tty",
                    "fran",
                    "egs",
                    "dale",
                    "compulsion",
                    "decstations",
                    "communication",
                    "stoned",
                    "characterized",
                    "xhr",
                    "initials",
                    "wil",
                    "precomp",
                    "forsaking",
                    "projections",
                    "bmwmoa",
                    "theodore",
                    "aid",
                    "placing",
                    "abdomen",
                    "kosher",
                    "ilhan",
                    "passengers",
                    "titan",
                    "answer",
                    "massacres",
                    "lights",
                    "reboost",
                    "v9",
                    "quicker",
                    "___________",
                    "transaction",
                    "tho",
                    "regularity",
                    "continues",
                    "extremist",
                    "5y",
                    "lqrs",
                    "roofs"
                  ],
                  "textfont": {
                    "size": 10
                  },
                  "type": "scatter3d",
                  "x": {
                    "bdata": "ebjVQMz7xcCu0apBqEUVvpjc9UG8ue1BcMOZP3E0kcGu6sA/WpydQL8xzsGxfnDBd7owwTsV60DlKJ/Ax8fcwWiyc8GzpOhBgxazwE7swUGLCyhB00SLQHAs7kEquUnBVqzRQf2AvkHhRlG+7kMRwcnEssFw+aXBSALWQUJM0sGZrf5BP4rQvit3Xj88hfNAxQEQQUKIiMCkxONBTCUSwTW0nMBfBCHBoPSlQDyIkcHJYPNB6QaYwNj3pcERhUtBmnAGQj245r4JQCVBGmRywQXZAcFpUQ/BnV4+Qenhj8ETsJzB6sqDwUL8GcG1eiTBBwXfQVeA2cGtbW1BKnxnQaFX5EDJss/BLPRhweoVh0GUPJhBnuGQQePTzkFc55XBt156P1N2xkFp9eFAUW0fQWGho0FpSMNAmAWQwYyICELTSx7BIOLzPrlszkE1ML1BnbygwCzbZ0GZc3DB3epcQbArhEGI1a8/sfkMv+oyDEG6nr1BdDbFwDFGEECaw7rAvMavQMpvcMFRdrxBUIafQMzxYMGuDjLBpVZJwDDSdkEportAz9adQOimC0Hdt3VB+yPqQT0dFsEVlQZC72zHwYG77UFmL21AjsQFwMMlRUFwDDdBKmqmQY2X/0ECW6HBpqEGQVpLEEG2Yvs/E++UQWGMfkFOcwFAQdA5QX3Bx0ETzTHBvlDVv8ecNMFZwSDBYSaMQeYsYEEuHsjBAbNXwZ8LbkBo979A5MmVQc6rDkKRee5AQFDEQLT/wsCgzFtBaci5QbRLzkAdHOxBa20bwLNNQsDIow/AOwBhP49udcGF1i7BoO3LQPylF0GaEyBBNiB3wf4Vwz4vGrVBJagxwY2UlcHcMbfBPusdQVVYhUCntPVAd5qWPwRuxsEKrMRBxFocweOCrUEKIo3Bjoz6wIzjSMGOpIjBA0xvQA9Dz0DDyzo/1KmvQKKcxkHf+YBBPVpeQd750kA7oS9BpHucv+oGk0F3hd5BwgPBQe8rrUFJmoDB7iiRwW2xNkGIvQhBvoFaQS/kPL+1DtfAdHq2QZZ7CkGoQYbBEomjwfyZ00A=",
                    "dtype": "f4"
                  },
                  "y": {
                    "bdata": "2JAqv9PoUsC1UpJBzQNaQauTtEFmLYFBrkmlP8+09sCivqLBp4Hqv+rIosDy30G8BdFbwFhJIEBrRGVBvt+FwE9MlUF1VXNBxw4rwcYfab4x26xBrWzRQD8nLcDE0pQ/kMBGQUua/z/tKCfBERqQPk7RI8FxyBq/5wPcQBk7asFhBoZBinyawHTEvMEupp9Aj5Y4QUjlUUHPWppBhio3wG7tVMCzyS9BuUZBwX/IncBf/p5BBG4CQfX+ksFCUG5B2d4NQRtfoEGri1pBXPtpwbzGnr3CsqbBkhGjwIaDxkBCK6XBiaUYQQLSUsF2gexA100SQV5df8Gso7FAHzhQwGUBN0Grk2s/mBs7QUVvmkHD6LzA84tvQU8MkkCsP2K9BOTGwSAP50Az/K7BWOPfQJ5Oxz9Jad1ALOUywZvjyUAgA7lBowdiQbOQMEF8SFLBj6K8QEdK2z+1MxtBIlAIQQ6McEEjfp6+6YcWQcD7HUFdwFLB4fjVwRice75kffzA9RhLP0g/2cDXP+vAe5wMQaRyj8FYMqNBI+oNwPAbU0FDYElBduENQUILhEC0Sk9AP+DmQGGNacFkpERBUzWlwRH8zkDlq81ByDkbQQTC2UC7zwZAlylDQQ0TR0FZSz7B7p4cP80iWsGzuN6+T2y6PqNUEEFKFgdB6wF4Qd7ftkAImRtALMdrQCigLD9V9QbA4RqoQMfrUEC1dXnBqHKDQcADwsDnMk1Ae3jLQIZKuD/pCgTB9acPQfQ8dcGivhTBZxVRwRavGkBLOxrA4SaHQXHeo8Er67vB1QgdwLhurcHGvzrBW856wUomGMFPyQXBKhBPQZsCGMEoTCRB9PdbwbaYuD/8OI5Ao4C+P25wacHuIBjA3AEuviiVQ8EQdK+/1myXP/F+PUH8tkXBvjaVwZgbVsBBIMHApU1fwD9qqcC6HrVAzlUHwZr9U0H2tx3BuI06v1Nl+UAelGK/NR0PQSlfrj+lAJBBsgyIQe1AEMGGnSXB46yNwTG1tcGg2L8/bQFPwYbNWEDtsA7BnP0owDLdWMGkO5TBdPj9wGeVNb8=",
                    "dtype": "f4"
                  },
                  "z": {
                    "bdata": "ftWawEHREUIGIqxAy7ilwYnBH8EEMIhAKKT3wOFpBT8M5pZAM4UMQuw3qUE2tBtBUEqBQckV2kFm2R1BVAZfwSx/oMEm1o7BIsChQeO4osF3mjM/JATFwVU8OUDTAj3AHG5HQfxgR0DbxhRBGYmyQfC8ucChhGNBONuawZiDpEE1Ie/AGl50QYXiiMBCzXjBFoAKQbHJbcFWQG7ATu3pQSpj60CnocjBurAJwUQPR8GZh8VA9jKBv28viEEmJ8vB7iEJwdtxecCTTFBBoAnMQXr3ZkHvfJBBDXspQXZFxMBOR27A4tSWQOcVnMG8m7/B3fPhwJ9XrUBoSUvB/62VwSSRtcETCbI/F2BbwSa4vL/+KwvA8jpvQa5AysAR0qzAJs/OQHJytcFikPpAvw+QwRlJtMHGmqDBjfvoQJwtsEAEP6jBesiTQeGfiUFFPa9AK3U0QZNg78ADC9vBYvKOQYhAuT/6TabB/AL5wI/0BcLHB5DANFNXQXjvnT60aiBBQlsCQB9ozUH3DNW9/Yd3wT1OP8GV/oDBfa5sQYr2LsAQ9QnBkDEGwpfAGEFzyxPCnko3wfwA/kEKCIW+VnaOQICkxUCzeAJBOXB9we1wjr+0DRTCkfE8QHNBU8HixK9BPvEUwibIw0AlgBLChaUfQcSsCEH0rTtBMROswE83ZcHRCJZBkzEswYu/usAEwl5Ar1CGQVEApcFZ9wzBkrInwaXNcUCUo1hB9X5wwddCRcCC5P9BOLS4QS0+4UHgOitAi7YoPiYTCUJ2x4bBoiQKwd4SJ8HfK6xBOsMcQU4+bkGmFJJBDVJHQd2SDUH/kqRBggIawV2/2UEiqNPBvXlgQdHr1EGK++e+0i9YwDTu1MBFa9LBRQv1QaWDeEF8YFfBOja3QJ+QXb+vCtg+3PUhQWMvCkGFd3hB+He0QU8iQcF3F+VB9reCQcunUMH4gD/BdzhdQUHmgkEsghtBDcKFQfUNy8FrNINBQKoSwT+Mk8Cdx6xB03zDwIBBn0C6ni/BP0MdwSV8g0FkEPFB//zsQHkFykGT9uFASRERwT+r7kA=",
                    "dtype": "f4"
                  }
                }
              ],
              "layout": {
                "legend": {
                  "tracegroupgap": 0
                },
                "margin": {
                  "t": 60
                },
                "scene": {
                  "domain": {
                    "x": [
                      0,
                      1
                    ],
                    "y": [
                      0,
                      1
                    ]
                  },
                  "xaxis": {
                    "title": {
                      "text": "x"
                    }
                  },
                  "yaxis": {
                    "title": {
                      "text": "y"
                    }
                  },
                  "zaxis": {
                    "title": {
                      "text": "z"
                    }
                  }
                },
                "template": {
                  "data": {
                    "bar": [
                      {
                        "error_x": {
                          "color": "#2a3f5f"
                        },
                        "error_y": {
                          "color": "#2a3f5f"
                        },
                        "marker": {
                          "line": {
                            "color": "#E5ECF6",
                            "width": 0.5
                          },
                          "pattern": {
                            "fillmode": "overlay",
                            "size": 10,
                            "solidity": 0.2
                          }
                        },
                        "type": "bar"
                      }
                    ],
                    "barpolar": [
                      {
                        "marker": {
                          "line": {
                            "color": "#E5ECF6",
                            "width": 0.5
                          },
                          "pattern": {
                            "fillmode": "overlay",
                            "size": 10,
                            "solidity": 0.2
                          }
                        },
                        "type": "barpolar"
                      }
                    ],
                    "carpet": [
                      {
                        "aaxis": {
                          "endlinecolor": "#2a3f5f",
                          "gridcolor": "white",
                          "linecolor": "white",
                          "minorgridcolor": "white",
                          "startlinecolor": "#2a3f5f"
                        },
                        "baxis": {
                          "endlinecolor": "#2a3f5f",
                          "gridcolor": "white",
                          "linecolor": "white",
                          "minorgridcolor": "white",
                          "startlinecolor": "#2a3f5f"
                        },
                        "type": "carpet"
                      }
                    ],
                    "choropleth": [
                      {
                        "colorbar": {
                          "outlinewidth": 0,
                          "ticks": ""
                        },
                        "type": "choropleth"
                      }
                    ],
                    "contour": [
                      {
                        "colorbar": {
                          "outlinewidth": 0,
                          "ticks": ""
                        },
                        "colorscale": [
                          [
                            0,
                            "#0d0887"
                          ],
                          [
                            0.1111111111111111,
                            "#46039f"
                          ],
                          [
                            0.2222222222222222,
                            "#7201a8"
                          ],
                          [
                            0.3333333333333333,
                            "#9c179e"
                          ],
                          [
                            0.4444444444444444,
                            "#bd3786"
                          ],
                          [
                            0.5555555555555556,
                            "#d8576b"
                          ],
                          [
                            0.6666666666666666,
                            "#ed7953"
                          ],
                          [
                            0.7777777777777778,
                            "#fb9f3a"
                          ],
                          [
                            0.8888888888888888,
                            "#fdca26"
                          ],
                          [
                            1,
                            "#f0f921"
                          ]
                        ],
                        "type": "contour"
                      }
                    ],
                    "contourcarpet": [
                      {
                        "colorbar": {
                          "outlinewidth": 0,
                          "ticks": ""
                        },
                        "type": "contourcarpet"
                      }
                    ],
                    "heatmap": [
                      {
                        "colorbar": {
                          "outlinewidth": 0,
                          "ticks": ""
                        },
                        "colorscale": [
                          [
                            0,
                            "#0d0887"
                          ],
                          [
                            0.1111111111111111,
                            "#46039f"
                          ],
                          [
                            0.2222222222222222,
                            "#7201a8"
                          ],
                          [
                            0.3333333333333333,
                            "#9c179e"
                          ],
                          [
                            0.4444444444444444,
                            "#bd3786"
                          ],
                          [
                            0.5555555555555556,
                            "#d8576b"
                          ],
                          [
                            0.6666666666666666,
                            "#ed7953"
                          ],
                          [
                            0.7777777777777778,
                            "#fb9f3a"
                          ],
                          [
                            0.8888888888888888,
                            "#fdca26"
                          ],
                          [
                            1,
                            "#f0f921"
                          ]
                        ],
                        "type": "heatmap"
                      }
                    ],
                    "histogram": [
                      {
                        "marker": {
                          "pattern": {
                            "fillmode": "overlay",
                            "size": 10,
                            "solidity": 0.2
                          }
                        },
                        "type": "histogram"
                      }
                    ],
                    "histogram2d": [
                      {
                        "colorbar": {
                          "outlinewidth": 0,
                          "ticks": ""
                        },
                        "colorscale": [
                          [
                            0,
                            "#0d0887"
                          ],
                          [
                            0.1111111111111111,
                            "#46039f"
                          ],
                          [
                            0.2222222222222222,
                            "#7201a8"
                          ],
                          [
                            0.3333333333333333,
                            "#9c179e"
                          ],
                          [
                            0.4444444444444444,
                            "#bd3786"
                          ],
                          [
                            0.5555555555555556,
                            "#d8576b"
                          ],
                          [
                            0.6666666666666666,
                            "#ed7953"
                          ],
                          [
                            0.7777777777777778,
                            "#fb9f3a"
                          ],
                          [
                            0.8888888888888888,
                            "#fdca26"
                          ],
                          [
                            1,
                            "#f0f921"
                          ]
                        ],
                        "type": "histogram2d"
                      }
                    ],
                    "histogram2dcontour": [
                      {
                        "colorbar": {
                          "outlinewidth": 0,
                          "ticks": ""
                        },
                        "colorscale": [
                          [
                            0,
                            "#0d0887"
                          ],
                          [
                            0.1111111111111111,
                            "#46039f"
                          ],
                          [
                            0.2222222222222222,
                            "#7201a8"
                          ],
                          [
                            0.3333333333333333,
                            "#9c179e"
                          ],
                          [
                            0.4444444444444444,
                            "#bd3786"
                          ],
                          [
                            0.5555555555555556,
                            "#d8576b"
                          ],
                          [
                            0.6666666666666666,
                            "#ed7953"
                          ],
                          [
                            0.7777777777777778,
                            "#fb9f3a"
                          ],
                          [
                            0.8888888888888888,
                            "#fdca26"
                          ],
                          [
                            1,
                            "#f0f921"
                          ]
                        ],
                        "type": "histogram2dcontour"
                      }
                    ],
                    "mesh3d": [
                      {
                        "colorbar": {
                          "outlinewidth": 0,
                          "ticks": ""
                        },
                        "type": "mesh3d"
                      }
                    ],
                    "parcoords": [
                      {
                        "line": {
                          "colorbar": {
                            "outlinewidth": 0,
                            "ticks": ""
                          }
                        },
                        "type": "parcoords"
                      }
                    ],
                    "pie": [
                      {
                        "automargin": true,
                        "type": "pie"
                      }
                    ],
                    "scatter": [
                      {
                        "fillpattern": {
                          "fillmode": "overlay",
                          "size": 10,
                          "solidity": 0.2
                        },
                        "type": "scatter"
                      }
                    ],
                    "scatter3d": [
                      {
                        "line": {
                          "colorbar": {
                            "outlinewidth": 0,
                            "ticks": ""
                          }
                        },
                        "marker": {
                          "colorbar": {
                            "outlinewidth": 0,
                            "ticks": ""
                          }
                        },
                        "type": "scatter3d"
                      }
                    ],
                    "scattercarpet": [
                      {
                        "marker": {
                          "colorbar": {
                            "outlinewidth": 0,
                            "ticks": ""
                          }
                        },
                        "type": "scattercarpet"
                      }
                    ],
                    "scattergeo": [
                      {
                        "marker": {
                          "colorbar": {
                            "outlinewidth": 0,
                            "ticks": ""
                          }
                        },
                        "type": "scattergeo"
                      }
                    ],
                    "scattergl": [
                      {
                        "marker": {
                          "colorbar": {
                            "outlinewidth": 0,
                            "ticks": ""
                          }
                        },
                        "type": "scattergl"
                      }
                    ],
                    "scattermap": [
                      {
                        "marker": {
                          "colorbar": {
                            "outlinewidth": 0,
                            "ticks": ""
                          }
                        },
                        "type": "scattermap"
                      }
                    ],
                    "scattermapbox": [
                      {
                        "marker": {
                          "colorbar": {
                            "outlinewidth": 0,
                            "ticks": ""
                          }
                        },
                        "type": "scattermapbox"
                      }
                    ],
                    "scatterpolar": [
                      {
                        "marker": {
                          "colorbar": {
                            "outlinewidth": 0,
                            "ticks": ""
                          }
                        },
                        "type": "scatterpolar"
                      }
                    ],
                    "scatterpolargl": [
                      {
                        "marker": {
                          "colorbar": {
                            "outlinewidth": 0,
                            "ticks": ""
                          }
                        },
                        "type": "scatterpolargl"
                      }
                    ],
                    "scatterternary": [
                      {
                        "marker": {
                          "colorbar": {
                            "outlinewidth": 0,
                            "ticks": ""
                          }
                        },
                        "type": "scatterternary"
                      }
                    ],
                    "surface": [
                      {
                        "colorbar": {
                          "outlinewidth": 0,
                          "ticks": ""
                        },
                        "colorscale": [
                          [
                            0,
                            "#0d0887"
                          ],
                          [
                            0.1111111111111111,
                            "#46039f"
                          ],
                          [
                            0.2222222222222222,
                            "#7201a8"
                          ],
                          [
                            0.3333333333333333,
                            "#9c179e"
                          ],
                          [
                            0.4444444444444444,
                            "#bd3786"
                          ],
                          [
                            0.5555555555555556,
                            "#d8576b"
                          ],
                          [
                            0.6666666666666666,
                            "#ed7953"
                          ],
                          [
                            0.7777777777777778,
                            "#fb9f3a"
                          ],
                          [
                            0.8888888888888888,
                            "#fdca26"
                          ],
                          [
                            1,
                            "#f0f921"
                          ]
                        ],
                        "type": "surface"
                      }
                    ],
                    "table": [
                      {
                        "cells": {
                          "fill": {
                            "color": "#EBF0F8"
                          },
                          "line": {
                            "color": "white"
                          }
                        },
                        "header": {
                          "fill": {
                            "color": "#C8D4E3"
                          },
                          "line": {
                            "color": "white"
                          }
                        },
                        "type": "table"
                      }
                    ]
                  },
                  "layout": {
                    "annotationdefaults": {
                      "arrowcolor": "#2a3f5f",
                      "arrowhead": 0,
                      "arrowwidth": 1
                    },
                    "autotypenumbers": "strict",
                    "coloraxis": {
                      "colorbar": {
                        "outlinewidth": 0,
                        "ticks": ""
                      }
                    },
                    "colorscale": {
                      "diverging": [
                        [
                          0,
                          "#8e0152"
                        ],
                        [
                          0.1,
                          "#c51b7d"
                        ],
                        [
                          0.2,
                          "#de77ae"
                        ],
                        [
                          0.3,
                          "#f1b6da"
                        ],
                        [
                          0.4,
                          "#fde0ef"
                        ],
                        [
                          0.5,
                          "#f7f7f7"
                        ],
                        [
                          0.6,
                          "#e6f5d0"
                        ],
                        [
                          0.7,
                          "#b8e186"
                        ],
                        [
                          0.8,
                          "#7fbc41"
                        ],
                        [
                          0.9,
                          "#4d9221"
                        ],
                        [
                          1,
                          "#276419"
                        ]
                      ],
                      "sequential": [
                        [
                          0,
                          "#0d0887"
                        ],
                        [
                          0.1111111111111111,
                          "#46039f"
                        ],
                        [
                          0.2222222222222222,
                          "#7201a8"
                        ],
                        [
                          0.3333333333333333,
                          "#9c179e"
                        ],
                        [
                          0.4444444444444444,
                          "#bd3786"
                        ],
                        [
                          0.5555555555555556,
                          "#d8576b"
                        ],
                        [
                          0.6666666666666666,
                          "#ed7953"
                        ],
                        [
                          0.7777777777777778,
                          "#fb9f3a"
                        ],
                        [
                          0.8888888888888888,
                          "#fdca26"
                        ],
                        [
                          1,
                          "#f0f921"
                        ]
                      ],
                      "sequentialminus": [
                        [
                          0,
                          "#0d0887"
                        ],
                        [
                          0.1111111111111111,
                          "#46039f"
                        ],
                        [
                          0.2222222222222222,
                          "#7201a8"
                        ],
                        [
                          0.3333333333333333,
                          "#9c179e"
                        ],
                        [
                          0.4444444444444444,
                          "#bd3786"
                        ],
                        [
                          0.5555555555555556,
                          "#d8576b"
                        ],
                        [
                          0.6666666666666666,
                          "#ed7953"
                        ],
                        [
                          0.7777777777777778,
                          "#fb9f3a"
                        ],
                        [
                          0.8888888888888888,
                          "#fdca26"
                        ],
                        [
                          1,
                          "#f0f921"
                        ]
                      ]
                    },
                    "colorway": [
                      "#636efa",
                      "#EF553B",
                      "#00cc96",
                      "#ab63fa",
                      "#FFA15A",
                      "#19d3f3",
                      "#FF6692",
                      "#B6E880",
                      "#FF97FF",
                      "#FECB52"
                    ],
                    "font": {
                      "color": "#2a3f5f"
                    },
                    "geo": {
                      "bgcolor": "white",
                      "lakecolor": "white",
                      "landcolor": "#E5ECF6",
                      "showlakes": true,
                      "showland": true,
                      "subunitcolor": "white"
                    },
                    "hoverlabel": {
                      "align": "left"
                    },
                    "hovermode": "closest",
                    "mapbox": {
                      "style": "light"
                    },
                    "paper_bgcolor": "white",
                    "plot_bgcolor": "#E5ECF6",
                    "polar": {
                      "angularaxis": {
                        "gridcolor": "white",
                        "linecolor": "white",
                        "ticks": ""
                      },
                      "bgcolor": "#E5ECF6",
                      "radialaxis": {
                        "gridcolor": "white",
                        "linecolor": "white",
                        "ticks": ""
                      }
                    },
                    "scene": {
                      "xaxis": {
                        "backgroundcolor": "#E5ECF6",
                        "gridcolor": "white",
                        "gridwidth": 2,
                        "linecolor": "white",
                        "showbackground": true,
                        "ticks": "",
                        "zerolinecolor": "white"
                      },
                      "yaxis": {
                        "backgroundcolor": "#E5ECF6",
                        "gridcolor": "white",
                        "gridwidth": 2,
                        "linecolor": "white",
                        "showbackground": true,
                        "ticks": "",
                        "zerolinecolor": "white"
                      },
                      "zaxis": {
                        "backgroundcolor": "#E5ECF6",
                        "gridcolor": "white",
                        "gridwidth": 2,
                        "linecolor": "white",
                        "showbackground": true,
                        "ticks": "",
                        "zerolinecolor": "white"
                      }
                    },
                    "shapedefaults": {
                      "line": {
                        "color": "#2a3f5f"
                      }
                    },
                    "ternary": {
                      "aaxis": {
                        "gridcolor": "white",
                        "linecolor": "white",
                        "ticks": ""
                      },
                      "baxis": {
                        "gridcolor": "white",
                        "linecolor": "white",
                        "ticks": ""
                      },
                      "bgcolor": "#E5ECF6",
                      "caxis": {
                        "gridcolor": "white",
                        "linecolor": "white",
                        "ticks": ""
                      }
                    },
                    "title": {
                      "x": 0.05
                    },
                    "xaxis": {
                      "automargin": true,
                      "gridcolor": "white",
                      "linecolor": "white",
                      "ticks": "",
                      "title": {
                        "standoff": 15
                      },
                      "zerolinecolor": "white",
                      "zerolinewidth": 2
                    },
                    "yaxis": {
                      "automargin": true,
                      "gridcolor": "white",
                      "linecolor": "white",
                      "ticks": "",
                      "title": {
                        "standoff": 15
                      },
                      "zerolinecolor": "white",
                      "zerolinewidth": 2
                    }
                  }
                }
              }
            }
          },
          "metadata": {},
          "output_type": "display_data"
        }
      ],
      "source": [
        "fig = px.scatter_3d(x=x[:200],y=y[:200],z=z[:200],text=sample[:200])\n",
        "fig.update_traces(marker=dict(size=3,line=dict(width=2)),textfont_size=10)\n",
        "fig.show()"
      ]
    },
    {
      "cell_type": "markdown",
      "metadata": {
        "id": "Pr1QqmH9YHlL"
      },
      "source": [
        "Let's extend the random set of terms with a set of colours to see if they cluster:"
      ]
    },
    {
      "cell_type": "code",
      "execution_count": null,
      "metadata": {
        "id": "K_z7NLqgYHlL"
      },
      "outputs": [],
      "source": [
        "# Add some specific terms to sample:\n",
        "colours = ['red','green','blue','orange','yellow','purple','pink','cream','brown','black','white','gray']\n",
        "\n",
        "word_vectors = model.wv[colours+sample]\n",
        "\n",
        "tsne = TSNE(n_components=3)\n",
        "tsne_embedding = tsne.fit_transform(word_vectors)\n",
        "\n",
        "x, y, z = np.transpose(tsne_embedding)"
      ]
    },
    {
      "cell_type": "code",
      "execution_count": null,
      "metadata": {
        "id": "fOBvqtDE-HZL",
        "outputId": "b31cbcab-39e3-4c99-b0a9-6ee86d36af29"
      },
      "outputs": [
        {
          "data": {
            "application/vnd.plotly.v1+json": {
              "config": {
                "plotlyServerURL": "https://plot.ly"
              },
              "data": [
                {
                  "hovertemplate": "x=%{x}<br>y=%{y}<br>z=%{z}<br>text=%{text}<extra></extra>",
                  "legendgroup": "",
                  "marker": {
                    "color": "#636efa",
                    "line": {
                      "width": 2
                    },
                    "size": 3,
                    "symbol": "circle"
                  },
                  "mode": "markers+text",
                  "name": "",
                  "scene": "scene",
                  "showlegend": false,
                  "text": [
                    "red",
                    "green",
                    "blue",
                    "orange",
                    "yellow",
                    "purple",
                    "pink",
                    "cream",
                    "brown",
                    "black",
                    "white",
                    "gray",
                    null,
                    null,
                    null,
                    null,
                    null,
                    null,
                    null,
                    null,
                    null,
                    null,
                    null,
                    null,
                    null,
                    null,
                    null,
                    null,
                    null,
                    null,
                    null,
                    null,
                    null,
                    null,
                    null,
                    null,
                    null,
                    null,
                    null,
                    null,
                    null,
                    null,
                    null,
                    null,
                    null,
                    null,
                    null,
                    null,
                    null,
                    null,
                    null,
                    null,
                    null,
                    null,
                    null,
                    null,
                    null,
                    null,
                    null,
                    null,
                    null,
                    null,
                    null,
                    null,
                    null,
                    null,
                    null,
                    null,
                    null,
                    null,
                    null,
                    null,
                    null,
                    null,
                    null,
                    null,
                    null,
                    null,
                    null,
                    null,
                    null,
                    null,
                    null,
                    null,
                    null,
                    null,
                    null,
                    null,
                    null,
                    null,
                    null,
                    null,
                    null,
                    null,
                    null,
                    null,
                    null,
                    null,
                    null,
                    null,
                    null,
                    null,
                    null,
                    null,
                    null,
                    null,
                    null,
                    null,
                    null,
                    null,
                    null,
                    null,
                    null,
                    null,
                    null,
                    null,
                    null,
                    null,
                    null,
                    null,
                    null,
                    null,
                    null,
                    null,
                    null,
                    null,
                    null,
                    null,
                    null,
                    null,
                    null,
                    null,
                    null,
                    null,
                    null,
                    null,
                    null,
                    null,
                    null,
                    null,
                    null,
                    null,
                    null,
                    null,
                    null,
                    null,
                    null,
                    null,
                    null,
                    null,
                    null,
                    null,
                    null,
                    null,
                    null,
                    null,
                    null,
                    null,
                    null,
                    null,
                    null,
                    null,
                    null,
                    null,
                    null,
                    null,
                    null,
                    null,
                    null,
                    null,
                    null,
                    null,
                    null,
                    null,
                    null,
                    null,
                    null,
                    null,
                    null,
                    null,
                    null,
                    null,
                    null,
                    null,
                    null,
                    null,
                    null,
                    null,
                    null,
                    null,
                    null,
                    null,
                    null,
                    null,
                    null,
                    null,
                    null,
                    null,
                    null,
                    null,
                    null,
                    null,
                    null,
                    null,
                    null,
                    null,
                    null,
                    null,
                    null,
                    null,
                    null,
                    null,
                    null,
                    null,
                    null,
                    null,
                    null,
                    null,
                    null,
                    null,
                    null,
                    null,
                    null,
                    null,
                    null,
                    null,
                    null,
                    null,
                    null,
                    null,
                    null,
                    null,
                    null,
                    null,
                    null,
                    null,
                    null,
                    null,
                    null,
                    null,
                    null,
                    null,
                    null,
                    null,
                    null,
                    null,
                    null,
                    null,
                    null,
                    null,
                    null,
                    null,
                    null,
                    null,
                    null,
                    null,
                    null,
                    null,
                    null,
                    null,
                    null,
                    null,
                    null,
                    null,
                    null,
                    null,
                    null,
                    null,
                    null,
                    null,
                    null,
                    null,
                    null,
                    null,
                    null,
                    null,
                    null,
                    null,
                    null,
                    null,
                    null,
                    null,
                    null,
                    null,
                    null,
                    null,
                    null,
                    null,
                    null,
                    null,
                    null,
                    null,
                    null,
                    null,
                    null,
                    null,
                    null,
                    null,
                    null,
                    null,
                    null,
                    null,
                    null,
                    null,
                    null,
                    null,
                    null,
                    null,
                    null,
                    null,
                    null,
                    null,
                    null,
                    null,
                    null,
                    null,
                    null,
                    null,
                    null,
                    null,
                    null,
                    null,
                    null,
                    null,
                    null,
                    null,
                    null,
                    null,
                    null,
                    null,
                    null,
                    null,
                    null,
                    null,
                    null,
                    null,
                    null,
                    null,
                    null,
                    null,
                    null,
                    null,
                    null,
                    null,
                    null,
                    null,
                    null,
                    null,
                    null,
                    null,
                    null,
                    null,
                    null,
                    null,
                    null,
                    null,
                    null,
                    null,
                    null,
                    null,
                    null,
                    null,
                    null,
                    null,
                    null,
                    null,
                    null,
                    null,
                    null,
                    null,
                    null,
                    null,
                    null,
                    null,
                    null,
                    null,
                    null,
                    null,
                    null,
                    null,
                    null,
                    null,
                    null,
                    null,
                    null,
                    null,
                    null,
                    null,
                    null,
                    null,
                    null,
                    null,
                    null,
                    null,
                    null,
                    null,
                    null,
                    null,
                    null,
                    null,
                    null,
                    null,
                    null,
                    null,
                    null,
                    null,
                    null,
                    null,
                    null,
                    null,
                    null,
                    null,
                    null,
                    null,
                    null,
                    null,
                    null,
                    null,
                    null,
                    null,
                    null,
                    null,
                    null,
                    null,
                    null,
                    null,
                    null,
                    null,
                    null,
                    null,
                    null,
                    null,
                    null,
                    null,
                    null,
                    null,
                    null,
                    null,
                    null,
                    null,
                    null,
                    null,
                    null,
                    null,
                    null,
                    null,
                    null,
                    null,
                    null,
                    null,
                    null,
                    null,
                    null,
                    null,
                    null,
                    null,
                    null,
                    null,
                    null,
                    null,
                    null,
                    null,
                    null,
                    null,
                    null,
                    null,
                    null,
                    null,
                    null,
                    null,
                    null,
                    null,
                    null,
                    null,
                    null,
                    null,
                    null,
                    null,
                    null,
                    null,
                    null,
                    null,
                    null,
                    null,
                    null,
                    null,
                    null,
                    null,
                    null,
                    null,
                    null,
                    null,
                    null,
                    null,
                    null,
                    null,
                    null,
                    null,
                    null,
                    null,
                    null,
                    null,
                    null,
                    null,
                    null,
                    null,
                    null,
                    null,
                    null,
                    null,
                    null,
                    null
                  ],
                  "textfont": {
                    "size": 10
                  },
                  "type": "scatter3d",
                  "x": {
                    "bdata": "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",
                    "dtype": "f4"
                  },
                  "y": {
                    "bdata": "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",
                    "dtype": "f4"
                  },
                  "z": {
                    "bdata": "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",
                    "dtype": "f4"
                  }
                }
              ],
              "layout": {
                "legend": {
                  "tracegroupgap": 0
                },
                "margin": {
                  "t": 60
                },
                "scene": {
                  "domain": {
                    "x": [
                      0,
                      1
                    ],
                    "y": [
                      0,
                      1
                    ]
                  },
                  "xaxis": {
                    "range": [
                      -200,
                      200
                    ],
                    "title": {
                      "text": "x"
                    }
                  },
                  "yaxis": {
                    "range": [
                      -200,
                      200
                    ],
                    "title": {
                      "text": "y"
                    }
                  },
                  "zaxis": {
                    "range": [
                      -200,
                      200
                    ],
                    "title": {
                      "text": "z"
                    }
                  }
                },
                "template": {
                  "data": {
                    "bar": [
                      {
                        "error_x": {
                          "color": "#2a3f5f"
                        },
                        "error_y": {
                          "color": "#2a3f5f"
                        },
                        "marker": {
                          "line": {
                            "color": "#E5ECF6",
                            "width": 0.5
                          },
                          "pattern": {
                            "fillmode": "overlay",
                            "size": 10,
                            "solidity": 0.2
                          }
                        },
                        "type": "bar"
                      }
                    ],
                    "barpolar": [
                      {
                        "marker": {
                          "line": {
                            "color": "#E5ECF6",
                            "width": 0.5
                          },
                          "pattern": {
                            "fillmode": "overlay",
                            "size": 10,
                            "solidity": 0.2
                          }
                        },
                        "type": "barpolar"
                      }
                    ],
                    "carpet": [
                      {
                        "aaxis": {
                          "endlinecolor": "#2a3f5f",
                          "gridcolor": "white",
                          "linecolor": "white",
                          "minorgridcolor": "white",
                          "startlinecolor": "#2a3f5f"
                        },
                        "baxis": {
                          "endlinecolor": "#2a3f5f",
                          "gridcolor": "white",
                          "linecolor": "white",
                          "minorgridcolor": "white",
                          "startlinecolor": "#2a3f5f"
                        },
                        "type": "carpet"
                      }
                    ],
                    "choropleth": [
                      {
                        "colorbar": {
                          "outlinewidth": 0,
                          "ticks": ""
                        },
                        "type": "choropleth"
                      }
                    ],
                    "contour": [
                      {
                        "colorbar": {
                          "outlinewidth": 0,
                          "ticks": ""
                        },
                        "colorscale": [
                          [
                            0,
                            "#0d0887"
                          ],
                          [
                            0.1111111111111111,
                            "#46039f"
                          ],
                          [
                            0.2222222222222222,
                            "#7201a8"
                          ],
                          [
                            0.3333333333333333,
                            "#9c179e"
                          ],
                          [
                            0.4444444444444444,
                            "#bd3786"
                          ],
                          [
                            0.5555555555555556,
                            "#d8576b"
                          ],
                          [
                            0.6666666666666666,
                            "#ed7953"
                          ],
                          [
                            0.7777777777777778,
                            "#fb9f3a"
                          ],
                          [
                            0.8888888888888888,
                            "#fdca26"
                          ],
                          [
                            1,
                            "#f0f921"
                          ]
                        ],
                        "type": "contour"
                      }
                    ],
                    "contourcarpet": [
                      {
                        "colorbar": {
                          "outlinewidth": 0,
                          "ticks": ""
                        },
                        "type": "contourcarpet"
                      }
                    ],
                    "heatmap": [
                      {
                        "colorbar": {
                          "outlinewidth": 0,
                          "ticks": ""
                        },
                        "colorscale": [
                          [
                            0,
                            "#0d0887"
                          ],
                          [
                            0.1111111111111111,
                            "#46039f"
                          ],
                          [
                            0.2222222222222222,
                            "#7201a8"
                          ],
                          [
                            0.3333333333333333,
                            "#9c179e"
                          ],
                          [
                            0.4444444444444444,
                            "#bd3786"
                          ],
                          [
                            0.5555555555555556,
                            "#d8576b"
                          ],
                          [
                            0.6666666666666666,
                            "#ed7953"
                          ],
                          [
                            0.7777777777777778,
                            "#fb9f3a"
                          ],
                          [
                            0.8888888888888888,
                            "#fdca26"
                          ],
                          [
                            1,
                            "#f0f921"
                          ]
                        ],
                        "type": "heatmap"
                      }
                    ],
                    "histogram": [
                      {
                        "marker": {
                          "pattern": {
                            "fillmode": "overlay",
                            "size": 10,
                            "solidity": 0.2
                          }
                        },
                        "type": "histogram"
                      }
                    ],
                    "histogram2d": [
                      {
                        "colorbar": {
                          "outlinewidth": 0,
                          "ticks": ""
                        },
                        "colorscale": [
                          [
                            0,
                            "#0d0887"
                          ],
                          [
                            0.1111111111111111,
                            "#46039f"
                          ],
                          [
                            0.2222222222222222,
                            "#7201a8"
                          ],
                          [
                            0.3333333333333333,
                            "#9c179e"
                          ],
                          [
                            0.4444444444444444,
                            "#bd3786"
                          ],
                          [
                            0.5555555555555556,
                            "#d8576b"
                          ],
                          [
                            0.6666666666666666,
                            "#ed7953"
                          ],
                          [
                            0.7777777777777778,
                            "#fb9f3a"
                          ],
                          [
                            0.8888888888888888,
                            "#fdca26"
                          ],
                          [
                            1,
                            "#f0f921"
                          ]
                        ],
                        "type": "histogram2d"
                      }
                    ],
                    "histogram2dcontour": [
                      {
                        "colorbar": {
                          "outlinewidth": 0,
                          "ticks": ""
                        },
                        "colorscale": [
                          [
                            0,
                            "#0d0887"
                          ],
                          [
                            0.1111111111111111,
                            "#46039f"
                          ],
                          [
                            0.2222222222222222,
                            "#7201a8"
                          ],
                          [
                            0.3333333333333333,
                            "#9c179e"
                          ],
                          [
                            0.4444444444444444,
                            "#bd3786"
                          ],
                          [
                            0.5555555555555556,
                            "#d8576b"
                          ],
                          [
                            0.6666666666666666,
                            "#ed7953"
                          ],
                          [
                            0.7777777777777778,
                            "#fb9f3a"
                          ],
                          [
                            0.8888888888888888,
                            "#fdca26"
                          ],
                          [
                            1,
                            "#f0f921"
                          ]
                        ],
                        "type": "histogram2dcontour"
                      }
                    ],
                    "mesh3d": [
                      {
                        "colorbar": {
                          "outlinewidth": 0,
                          "ticks": ""
                        },
                        "type": "mesh3d"
                      }
                    ],
                    "parcoords": [
                      {
                        "line": {
                          "colorbar": {
                            "outlinewidth": 0,
                            "ticks": ""
                          }
                        },
                        "type": "parcoords"
                      }
                    ],
                    "pie": [
                      {
                        "automargin": true,
                        "type": "pie"
                      }
                    ],
                    "scatter": [
                      {
                        "fillpattern": {
                          "fillmode": "overlay",
                          "size": 10,
                          "solidity": 0.2
                        },
                        "type": "scatter"
                      }
                    ],
                    "scatter3d": [
                      {
                        "line": {
                          "colorbar": {
                            "outlinewidth": 0,
                            "ticks": ""
                          }
                        },
                        "marker": {
                          "colorbar": {
                            "outlinewidth": 0,
                            "ticks": ""
                          }
                        },
                        "type": "scatter3d"
                      }
                    ],
                    "scattercarpet": [
                      {
                        "marker": {
                          "colorbar": {
                            "outlinewidth": 0,
                            "ticks": ""
                          }
                        },
                        "type": "scattercarpet"
                      }
                    ],
                    "scattergeo": [
                      {
                        "marker": {
                          "colorbar": {
                            "outlinewidth": 0,
                            "ticks": ""
                          }
                        },
                        "type": "scattergeo"
                      }
                    ],
                    "scattergl": [
                      {
                        "marker": {
                          "colorbar": {
                            "outlinewidth": 0,
                            "ticks": ""
                          }
                        },
                        "type": "scattergl"
                      }
                    ],
                    "scattermap": [
                      {
                        "marker": {
                          "colorbar": {
                            "outlinewidth": 0,
                            "ticks": ""
                          }
                        },
                        "type": "scattermap"
                      }
                    ],
                    "scattermapbox": [
                      {
                        "marker": {
                          "colorbar": {
                            "outlinewidth": 0,
                            "ticks": ""
                          }
                        },
                        "type": "scattermapbox"
                      }
                    ],
                    "scatterpolar": [
                      {
                        "marker": {
                          "colorbar": {
                            "outlinewidth": 0,
                            "ticks": ""
                          }
                        },
                        "type": "scatterpolar"
                      }
                    ],
                    "scatterpolargl": [
                      {
                        "marker": {
                          "colorbar": {
                            "outlinewidth": 0,
                            "ticks": ""
                          }
                        },
                        "type": "scatterpolargl"
                      }
                    ],
                    "scatterternary": [
                      {
                        "marker": {
                          "colorbar": {
                            "outlinewidth": 0,
                            "ticks": ""
                          }
                        },
                        "type": "scatterternary"
                      }
                    ],
                    "surface": [
                      {
                        "colorbar": {
                          "outlinewidth": 0,
                          "ticks": ""
                        },
                        "colorscale": [
                          [
                            0,
                            "#0d0887"
                          ],
                          [
                            0.1111111111111111,
                            "#46039f"
                          ],
                          [
                            0.2222222222222222,
                            "#7201a8"
                          ],
                          [
                            0.3333333333333333,
                            "#9c179e"
                          ],
                          [
                            0.4444444444444444,
                            "#bd3786"
                          ],
                          [
                            0.5555555555555556,
                            "#d8576b"
                          ],
                          [
                            0.6666666666666666,
                            "#ed7953"
                          ],
                          [
                            0.7777777777777778,
                            "#fb9f3a"
                          ],
                          [
                            0.8888888888888888,
                            "#fdca26"
                          ],
                          [
                            1,
                            "#f0f921"
                          ]
                        ],
                        "type": "surface"
                      }
                    ],
                    "table": [
                      {
                        "cells": {
                          "fill": {
                            "color": "#EBF0F8"
                          },
                          "line": {
                            "color": "white"
                          }
                        },
                        "header": {
                          "fill": {
                            "color": "#C8D4E3"
                          },
                          "line": {
                            "color": "white"
                          }
                        },
                        "type": "table"
                      }
                    ]
                  },
                  "layout": {
                    "annotationdefaults": {
                      "arrowcolor": "#2a3f5f",
                      "arrowhead": 0,
                      "arrowwidth": 1
                    },
                    "autotypenumbers": "strict",
                    "coloraxis": {
                      "colorbar": {
                        "outlinewidth": 0,
                        "ticks": ""
                      }
                    },
                    "colorscale": {
                      "diverging": [
                        [
                          0,
                          "#8e0152"
                        ],
                        [
                          0.1,
                          "#c51b7d"
                        ],
                        [
                          0.2,
                          "#de77ae"
                        ],
                        [
                          0.3,
                          "#f1b6da"
                        ],
                        [
                          0.4,
                          "#fde0ef"
                        ],
                        [
                          0.5,
                          "#f7f7f7"
                        ],
                        [
                          0.6,
                          "#e6f5d0"
                        ],
                        [
                          0.7,
                          "#b8e186"
                        ],
                        [
                          0.8,
                          "#7fbc41"
                        ],
                        [
                          0.9,
                          "#4d9221"
                        ],
                        [
                          1,
                          "#276419"
                        ]
                      ],
                      "sequential": [
                        [
                          0,
                          "#0d0887"
                        ],
                        [
                          0.1111111111111111,
                          "#46039f"
                        ],
                        [
                          0.2222222222222222,
                          "#7201a8"
                        ],
                        [
                          0.3333333333333333,
                          "#9c179e"
                        ],
                        [
                          0.4444444444444444,
                          "#bd3786"
                        ],
                        [
                          0.5555555555555556,
                          "#d8576b"
                        ],
                        [
                          0.6666666666666666,
                          "#ed7953"
                        ],
                        [
                          0.7777777777777778,
                          "#fb9f3a"
                        ],
                        [
                          0.8888888888888888,
                          "#fdca26"
                        ],
                        [
                          1,
                          "#f0f921"
                        ]
                      ],
                      "sequentialminus": [
                        [
                          0,
                          "#0d0887"
                        ],
                        [
                          0.1111111111111111,
                          "#46039f"
                        ],
                        [
                          0.2222222222222222,
                          "#7201a8"
                        ],
                        [
                          0.3333333333333333,
                          "#9c179e"
                        ],
                        [
                          0.4444444444444444,
                          "#bd3786"
                        ],
                        [
                          0.5555555555555556,
                          "#d8576b"
                        ],
                        [
                          0.6666666666666666,
                          "#ed7953"
                        ],
                        [
                          0.7777777777777778,
                          "#fb9f3a"
                        ],
                        [
                          0.8888888888888888,
                          "#fdca26"
                        ],
                        [
                          1,
                          "#f0f921"
                        ]
                      ]
                    },
                    "colorway": [
                      "#636efa",
                      "#EF553B",
                      "#00cc96",
                      "#ab63fa",
                      "#FFA15A",
                      "#19d3f3",
                      "#FF6692",
                      "#B6E880",
                      "#FF97FF",
                      "#FECB52"
                    ],
                    "font": {
                      "color": "#2a3f5f"
                    },
                    "geo": {
                      "bgcolor": "white",
                      "lakecolor": "white",
                      "landcolor": "#E5ECF6",
                      "showlakes": true,
                      "showland": true,
                      "subunitcolor": "white"
                    },
                    "hoverlabel": {
                      "align": "left"
                    },
                    "hovermode": "closest",
                    "mapbox": {
                      "style": "light"
                    },
                    "paper_bgcolor": "white",
                    "plot_bgcolor": "#E5ECF6",
                    "polar": {
                      "angularaxis": {
                        "gridcolor": "white",
                        "linecolor": "white",
                        "ticks": ""
                      },
                      "bgcolor": "#E5ECF6",
                      "radialaxis": {
                        "gridcolor": "white",
                        "linecolor": "white",
                        "ticks": ""
                      }
                    },
                    "scene": {
                      "xaxis": {
                        "backgroundcolor": "#E5ECF6",
                        "gridcolor": "white",
                        "gridwidth": 2,
                        "linecolor": "white",
                        "showbackground": true,
                        "ticks": "",
                        "zerolinecolor": "white"
                      },
                      "yaxis": {
                        "backgroundcolor": "#E5ECF6",
                        "gridcolor": "white",
                        "gridwidth": 2,
                        "linecolor": "white",
                        "showbackground": true,
                        "ticks": "",
                        "zerolinecolor": "white"
                      },
                      "zaxis": {
                        "backgroundcolor": "#E5ECF6",
                        "gridcolor": "white",
                        "gridwidth": 2,
                        "linecolor": "white",
                        "showbackground": true,
                        "ticks": "",
                        "zerolinecolor": "white"
                      }
                    },
                    "shapedefaults": {
                      "line": {
                        "color": "#2a3f5f"
                      }
                    },
                    "ternary": {
                      "aaxis": {
                        "gridcolor": "white",
                        "linecolor": "white",
                        "ticks": ""
                      },
                      "baxis": {
                        "gridcolor": "white",
                        "linecolor": "white",
                        "ticks": ""
                      },
                      "bgcolor": "#E5ECF6",
                      "caxis": {
                        "gridcolor": "white",
                        "linecolor": "white",
                        "ticks": ""
                      }
                    },
                    "title": {
                      "x": 0.05
                    },
                    "xaxis": {
                      "automargin": true,
                      "gridcolor": "white",
                      "linecolor": "white",
                      "ticks": "",
                      "title": {
                        "standoff": 15
                      },
                      "zerolinecolor": "white",
                      "zerolinewidth": 2
                    },
                    "yaxis": {
                      "automargin": true,
                      "gridcolor": "white",
                      "linecolor": "white",
                      "ticks": "",
                      "title": {
                        "standoff": 15
                      },
                      "zerolinecolor": "white",
                      "zerolinewidth": 2
                    }
                  }
                }
              }
            }
          },
          "metadata": {},
          "output_type": "display_data"
        }
      ],
      "source": [
        "import plotly.express as px\n",
        "\n",
        "r = (-200,200)\n",
        "fig = px.scatter_3d(x=x, y=y, z=z, range_x=r, range_y=r, range_z=r, text=colours + [None] * 500)\n",
        "fig.update_traces(marker=dict(size=3,line=dict(width=2)),textfont_size=10)\n",
        "fig.show()"
      ]
    },
    {
      "cell_type": "markdown",
      "metadata": {
        "id": "5xBPW2vnYHlM"
      },
      "source": [
        "Note: t-SNE is a stochastic algorithm, so run it a couple of times to see how the visualisation changes.\n",
        "\n",
        "Have a play around with the visualisation to see whether other sets of terms cluster together."
      ]
    },
    {
      "cell_type": "markdown",
      "metadata": {
        "id": "8UxQIRBLYHlM"
      },
      "source": [
        "## Loading Pre-trained Embedding\n",
        "\n",
        "Instead of learning your own word embeddings from a dataset, it is common to download and make use of pre-trained embeddings that have been learnt on very large corpora.\n",
        "- See this list of models available in gensim: https://github.com/RaRe-Technologies/gensim-data\n",
        "- Note how big some of the models are. A 300 dimensional Word2Vec model trained on Google News (word2vec-google-news-300) is almost 1.7GB!\n",
        "\n",
        "Let's downlaod a couple of the smaller models and have a look at them:\n",
        "- We'll download two GloVe (similar to Word2Vec) based models\n",
        "- each has dimension of 50, but the first has been trained on data from Twitter and the second on data from Wikipedia"
      ]
    },
    {
      "cell_type": "code",
      "execution_count": null,
      "metadata": {
        "id": "80lgMVCNYHlM"
      },
      "outputs": [],
      "source": [
        "import gensim.downloader as api\n",
        "\n",
        "model_twitter = api.load(\"glove-twitter-50\")\n",
        "model_wiki = api.load(\"glove-wiki-gigaword-50\")"
      ]
    },
    {
      "cell_type": "markdown",
      "metadata": {
        "id": "a6Bg80kKYHlM"
      },
      "source": [
        "How big are their vocabularies?"
      ]
    },
    {
      "cell_type": "code",
      "execution_count": null,
      "metadata": {
        "id": "e0CcjNmIYHlM",
        "outputId": "85113ef7-a6cb-41ce-c68f-4d64830afb1e"
      },
      "outputs": [
        {
          "name": "stdout",
          "output_type": "stream",
          "text": [
            "Vocabulary size twitter model:   1193514\n",
            "Vocabulary size wikipedia model: 400000\n"
          ]
        }
      ],
      "source": [
        "print(f\"Vocabulary size twitter model:   {len(model_twitter)}\")\n",
        "print(f\"Vocabulary size wikipedia model: {len(model_wiki)}\")"
      ]
    },
    {
      "cell_type": "markdown",
      "metadata": {
        "id": "7zSEKFVjYHlM"
      },
      "source": [
        "Woah, they are big vocabularies!\n",
        "- The twitter one has over a million tokens!\n",
        "\n",
        "Let's have a look at the most similar terms to the word 'puppy' in Twitter embedding:"
      ]
    },
    {
      "cell_type": "code",
      "execution_count": null,
      "metadata": {
        "id": "czJartaDYHlM",
        "outputId": "665cc821-c6c6-4941-8cbe-465a847abdae"
      },
      "outputs": [
        {
          "name": "stdout",
          "output_type": "stream",
          "text": [
            "Twitter embedding, most similar words to: puppy\n"
          ]
        },
        {
          "data": {
            "text/plain": [
              "[('kitten', 0.9134266972541809),\n",
              " ('dog', 0.8790459632873535),\n",
              " ('puppies', 0.8616614937782288),\n",
              " ('doggy', 0.8477217555046082),\n",
              " ('pug', 0.8410165905952454),\n",
              " ('bear', 0.8376337885856628),\n",
              " ('cat', 0.833551287651062),\n",
              " ('kitty', 0.8321102857589722),\n",
              " ('pup', 0.8269115686416626),\n",
              " ('husky', 0.8156434297561646)]"
            ]
          },
          "execution_count": 21,
          "metadata": {},
          "output_type": "execute_result"
        }
      ],
      "source": [
        "term = 'puppy'\n",
        "print(f'Twitter embedding, most similar words to: {term}')\n",
        "model_twitter.most_similar(term)"
      ]
    },
    {
      "cell_type": "markdown",
      "metadata": {
        "id": "D2Wb68G5RWpj"
      },
      "source": [
        "And in the Wikipedia embedding:"
      ]
    },
    {
      "cell_type": "code",
      "execution_count": null,
      "metadata": {
        "id": "G5srhaTuYHlM",
        "outputId": "93f63144-c9c0-4db6-dc0a-019fd1a85d7a"
      },
      "outputs": [
        {
          "name": "stdout",
          "output_type": "stream",
          "text": [
            "Wikipedia embedding, most similar words to: puppy\n"
          ]
        },
        {
          "data": {
            "text/plain": [
              "[('puppies', 0.8058912754058838),\n",
              " ('dog', 0.7754921913146973),\n",
              " ('goat', 0.7691047787666321),\n",
              " ('cat', 0.7625599503517151),\n",
              " ('kitten', 0.7443127036094666),\n",
              " ('retriever', 0.731249988079071),\n",
              " ('rottweiler', 0.724050760269165),\n",
              " ('rabbit', 0.7144317626953125),\n",
              " ('squirrel', 0.7086658477783203),\n",
              " ('bitch', 0.7056955695152283)]"
            ]
          },
          "execution_count": 22,
          "metadata": {},
          "output_type": "execute_result"
        }
      ],
      "source": [
        "print(f'Wikipedia embedding, most similar words to: {term}')\n",
        "model_wiki.most_similar(term)"
      ]
    },
    {
      "cell_type": "markdown",
      "metadata": {
        "id": "ez-9f7DLQpDw"
      },
      "source": [
        "Which embedding is better?\n",
        "\n",
        "Try some other words:"
      ]
    },
    {
      "cell_type": "code",
      "execution_count": null,
      "metadata": {
        "id": "gmwYaVSiYHlN",
        "outputId": "032e29a0-8a70-4fa8-8bf4-828731095276"
      },
      "outputs": [
        {
          "name": "stdout",
          "output_type": "stream",
          "text": [
            "Twitter embedding:   [('microsoft', 0.8666837811470032), ('google', 0.8337891697883606), ('samsung', 0.8189260363578796), ('nokia', 0.8133970499038696), ('ipad', 0.806841254234314), ('iphone', 0.806834876537323), ('galaxy', 0.8041617274284363), ('blackberry', 0.7953041791915894), ('android', 0.7887364625930786), ('smartphone', 0.788325846195221)]\n",
            "Wikipedia embedding: [('blackberry', 0.7543067336082458), ('chips', 0.7438644170761108), ('iphone', 0.7429664134979248), ('microsoft', 0.7334205508232117), ('ipad', 0.7331036329269409), ('pc', 0.7217225432395935), ('ipod', 0.7199784517288208), ('intel', 0.7192243337631226), ('ibm', 0.7146540284156799), ('software', 0.7093585133552551)]\n"
          ]
        }
      ],
      "source": [
        "term = 'apple'\n",
        "# term = 'politecnico'\n",
        "print(f'Twitter embedding:   {model_twitter.most_similar(term)}')\n",
        "print(f'Wikipedia embedding: {model_wiki.most_similar(term)}')"
      ]
    },
    {
      "cell_type": "markdown",
      "metadata": {
        "id": "iBDEnr-0YHlN"
      },
      "source": [
        "Embedding spaces have interesting geometric properties, where translation between different word vectors caries semantic meaning.\n",
        "- Let's try running the famous analogy: king + (woman - man) = ?\n",
        "- To do that, first generate the resulting word embedding:"
      ]
    },
    {
      "cell_type": "code",
      "execution_count": null,
      "metadata": {
        "id": "t5cMZiNgYHlN",
        "outputId": "44eb185c-e840-4865-e6cb-06a59f32d78d"
      },
      "outputs": [
        {
          "data": {
            "text/plain": [
              "array([ 0.41736597,  0.90427005, -1.0050299 , -0.06202101,  0.4972599 ,\n",
              "        0.80667007, -0.14855   ,  0.80365   , -0.15654   , -0.66973996,\n",
              "        0.23435399,  0.62476003,  0.925871  , -0.97099996,  0.92566   ,\n",
              "        0.89915   , -1.54596   , -0.52625   ,  0.13695401,  0.66199005,\n",
              "        0.48716003,  0.37035006, -0.214214  ,  0.10100999,  0.71358   ,\n",
              "       -2.0874999 , -1.1362001 , -1.14961   , -0.53599   ,  0.27389997,\n",
              "        1.6723    ,  0.02931   , -0.77656007,  0.46056286,  0.34866   ,\n",
              "       -0.05741701,  0.19444   , -0.207748  , -0.73038995, -0.10752001,\n",
              "        0.23554398,  0.96423995, -0.46994   , -0.48727497, -0.25399995,\n",
              "        0.46212995, -0.66081   , -1.9451499 , -0.68797004, -0.49784002],\n",
              "      dtype=float32)"
            ]
          },
          "execution_count": 24,
          "metadata": {},
          "output_type": "execute_result"
        }
      ],
      "source": [
        "vec = model_wiki.get_vector('king') + (model_wiki.get_vector('woman') - model_wiki.get_vector('man'))\n",
        "vec"
      ]
    },
    {
      "cell_type": "markdown",
      "metadata": {
        "id": "4uYDSjJ7YHlN"
      },
      "source": [
        "- Then look for the most similar vectors to it:"
      ]
    },
    {
      "cell_type": "code",
      "execution_count": null,
      "metadata": {
        "id": "h5ZMdc5WYHlN",
        "outputId": "2778d8ac-adce-4acd-d6f4-209bca4c8534"
      },
      "outputs": [
        {
          "data": {
            "text/plain": [
              "[('king', 0.8859834671020508),\n",
              " ('queen', 0.8609582185745239),\n",
              " ('daughter', 0.7684512734413147),\n",
              " ('prince', 0.7640699744224548),\n",
              " ('throne', 0.7634970545768738),\n",
              " ('princess', 0.7512727975845337),\n",
              " ('elizabeth', 0.7506489157676697),\n",
              " ('father', 0.7314497232437134),\n",
              " ('kingdom', 0.7296158671379089),\n",
              " ('mother', 0.728001058101654)]"
            ]
          },
          "execution_count": 25,
          "metadata": {},
          "output_type": "execute_result"
        }
      ],
      "source": [
        "model_wiki.similar_by_vector(vec)"
      ]
    },
    {
      "cell_type": "markdown",
      "metadata": {
        "id": "tipFzCPnYHlN"
      },
      "source": [
        "Did it work?\n",
        "- Well, yes if you remove 'king' as an option, then it did!\n",
        "- Note that the most similar vector to the word 'king' was not 'queen' but 'prince', so the analogy is indeed changing the order ..."
      ]
    },
    {
      "cell_type": "code",
      "execution_count": null,
      "metadata": {
        "id": "mDV5VRzAYHlN",
        "outputId": "18b1dcec-ccd3-4acf-edb5-a5837e56cd82"
      },
      "outputs": [
        {
          "data": {
            "text/plain": [
              "[('prince', 0.8236179351806641),\n",
              " ('queen', 0.7839043140411377),\n",
              " ('ii', 0.7746230363845825),\n",
              " ('emperor', 0.7736247777938843),\n",
              " ('son', 0.766719400882721),\n",
              " ('uncle', 0.7627150416374207),\n",
              " ('kingdom', 0.7542160749435425),\n",
              " ('throne', 0.7539913654327393),\n",
              " ('brother', 0.7492411136627197),\n",
              " ('ruler', 0.7434253692626953)]"
            ]
          },
          "execution_count": 26,
          "metadata": {},
          "output_type": "execute_result"
        }
      ],
      "source": [
        "model_wiki.most_similar('king')"
      ]
    },
    {
      "cell_type": "markdown",
      "metadata": {
        "id": "_Io7Zm6EYHlN"
      },
      "source": [
        "Try it again but with the Twitter based model"
      ]
    },
    {
      "cell_type": "code",
      "execution_count": null,
      "metadata": {
        "id": "2m511hj-YHlO",
        "outputId": "85adcb5f-5c33-434d-c515-ec317b40376d"
      },
      "outputs": [
        {
          "data": {
            "text/plain": [
              "[('stone', 0.7156722545623779),\n",
              " ('woman', 0.7105387449264526),\n",
              " ('meets', 0.7078651189804077),\n",
              " ('queen', 0.7035095691680908),\n",
              " ('king', 0.7032954692840576),\n",
              " ('royal', 0.7007310390472412),\n",
              " ('african', 0.6984354853630066),\n",
              " ('prince', 0.6961740851402283),\n",
              " ('virgin', 0.6757708787918091),\n",
              " ('american', 0.6597097516059875)]"
            ]
          },
          "execution_count": 27,
          "metadata": {},
          "output_type": "execute_result"
        }
      ],
      "source": [
        "model = model_twitter\n",
        "vec = model.get_vector('king') + (model.get_vector('woman') - model.get_vector('man'))\n",
        "model.similar_by_vector(vec)"
      ]
    },
    {
      "cell_type": "markdown",
      "metadata": {
        "id": "wtEO2LWIYHlO"
      },
      "source": [
        "Doesn't seem that the Twitter model is as good on that analogy.\n",
        "- If you think about the average quality of text on Twitter versus Wikipedia, then that's probably not suprising!\n",
        "\n",
        "Try some other analogies:\n",
        "- What happens to Rome if we subtract Italy and add France?"
      ]
    },
    {
      "cell_type": "code",
      "execution_count": null,
      "metadata": {
        "id": "NXzOPQy5YHlO",
        "outputId": "f2d99d7d-caa3-495f-bd60-f56919283894"
      },
      "outputs": [
        {
          "data": {
            "text/plain": [
              "[('paris', 0.8583258390426636),\n",
              " ('france', 0.7889718413352966),\n",
              " ('rome', 0.7432292699813843),\n",
              " ('french', 0.733359158039093),\n",
              " ('prohertrib', 0.7260090112686157),\n",
              " ('vienna', 0.7018851637840271),\n",
              " ('saint', 0.6894371509552002),\n",
              " ('gaulle', 0.6854272484779358),\n",
              " ('geneva', 0.6759128570556641),\n",
              " ('berlin', 0.6560173034667969)]"
            ]
          },
          "execution_count": 28,
          "metadata": {},
          "output_type": "execute_result"
        }
      ],
      "source": [
        "A = 'rome'\n",
        "B = 'italy'\n",
        "C = 'france'\n",
        "# C = 'indonesia'\n",
        "model = model_wiki\n",
        "vec = model.get_vector(A) - model.get_vector(B) + model.get_vector(C)\n",
        "model.similar_by_vector(vec)"
      ]
    },
    {
      "cell_type": "markdown",
      "metadata": {
        "id": "QeUJZDSTYHlO"
      },
      "source": [
        "Now, **isn't that cool?** ;-)\n",
        "- Try some other countries ...\n",
        "\n",
        "Remember, we are only using the 'small' embeddings of 50 dimensions\n",
        "- you can download and try the bigger ones, some of them with 300 dimensions\n"
      ]
    },
    {
      "cell_type": "markdown",
      "metadata": {
        "id": "stWE8L9GYgRH"
      },
      "source": [
        "## Classifying Tweets with word embeddings\n",
        "\n",
        "Let's try to use the word embeddings as features for a text classifier.\n",
        "- In particular, we'll try the tweet sentiment analysis task from the second session.\n",
        "- First download the dataset:"
      ]
    },
    {
      "cell_type": "code",
      "execution_count": null,
      "metadata": {
        "id": "bckvn64GYqCZ"
      },
      "outputs": [],
      "source": [
        "import nltk\n",
        "\n",
        "nltk.download('twitter_samples')"
      ]
    },
    {
      "cell_type": "markdown",
      "metadata": {
        "id": "d5nOSItcaEa9"
      },
      "source": [
        "Then prepare the dataset:\n",
        "- load the positive and negative tweets\n",
        "- remove emoticons from them\n",
        "- and merge them into a single dataset with class labels"
      ]
    },
    {
      "cell_type": "code",
      "execution_count": null,
      "metadata": {
        "id": "VZBH76pnaTrB"
      },
      "outputs": [],
      "source": [
        "from nltk.corpus import twitter_samples\n",
        "\n",
        "positive_tweets = twitter_samples.strings('positive_tweets.json')\n",
        "negative_tweets = twitter_samples.strings('negative_tweets.json')\n",
        "\n",
        "import re\n",
        "\n",
        "emoticon_regex = '(\\:\\w+\\:|\\<[\\/\\\\]?3|[\\(\\)\\\\\\D|\\*\\$][\\-\\^]?[\\:\\;\\=]|[\\:\\;\\=B8][\\-\\^]?[3DOPp\\@\\$\\*\\\\\\)\\(\\/\\|])(?=\\s|[\\!\\.\\?]|$)'\n",
        "positive_tweets_noemoticons = [re.sub(emoticon_regex,'',tweet) for tweet in positive_tweets]\n",
        "negative_tweets_noemoticons = [re.sub(emoticon_regex,'',tweet) for tweet in negative_tweets]\n",
        "\n",
        "tweets_x = positive_tweets_noemoticons + negative_tweets_noemoticons\n",
        "tweets_y = ['positive']*len(positive_tweets) + ['negative']*len(negative_tweets)"
      ]
    },
    {
      "cell_type": "markdown",
      "metadata": {
        "id": "ik6TlpDFa3Pt"
      },
      "source": [
        "Divide the data into train, validation and test sets:"
      ]
    },
    {
      "cell_type": "code",
      "execution_count": null,
      "metadata": {
        "id": "sTDd49KVbC_o"
      },
      "outputs": [],
      "source": [
        "from sklearn.model_selection import train_test_split\n",
        "\n",
        "temp_x, test_x, temp_y, test_y = train_test_split(tweets_x, tweets_y, test_size=0.2)\n",
        "train_x, valid_x, train_y, valid_y = train_test_split(temp_x, temp_y, test_size=0.2)"
      ]
    },
    {
      "cell_type": "markdown",
      "metadata": {
        "id": "r1aACZFHc_eg"
      },
      "source": [
        "Now we need to convert the tweets to an embedding representation.\n",
        "- We can do that by computing the sum (or average) of the embedding vectors of the words in the tweet.\n",
        "- To work out how to do that, let's have a look at the first tweet in the dataset, converting it to lowercase and tokenise it on whitespace:"
      ]
    },
    {
      "cell_type": "code",
      "execution_count": null,
      "metadata": {
        "id": "qVrlyZrqc_vz",
        "outputId": "095c549c-ffff-4b26-c74b-b8542774d91c"
      },
      "outputs": [
        {
          "name": "stdout",
          "output_type": "stream",
          "text": [
            "tweet: '@AlyssaC_HK I use Chrome '\n",
            "tokens:  ['alyssachk', 'i', 'use', 'chrome']\n"
          ]
        }
      ],
      "source": [
        "import string\n",
        "import re\n",
        "regex = '[' + string.punctuation + ']'\n",
        "\n",
        "print('tweet: \\'' + train_x[10] + '\\'')\n",
        "tokens = re.sub(regex, '', train_x[10].lower()).split()\n",
        "print('tokens: ', tokens)"
      ]
    },
    {
      "cell_type": "markdown",
      "metadata": {
        "id": "H4eDTr_OkWUQ"
      },
      "source": [
        "- We can get the embedding vectors for the tokens present in the embedding vocabulary as follows:"
      ]
    },
    {
      "cell_type": "code",
      "execution_count": null,
      "metadata": {
        "id": "WxgUgjVmkW61",
        "outputId": "7350d8c1-7f30-4739-863f-14da4f93ecc5"
      },
      "outputs": [
        {
          "data": {
            "text/plain": [
              "[array([-0.043148,  0.50393 ,  0.27095 , -0.1198  , -0.58991 , -0.32774 ,\n",
              "         0.15549 , -0.5465  ,  0.4169  ,  1.5267  , -0.48707 , -0.095806,\n",
              "        -5.9675  ,  0.12915 , -0.48301 , -0.14715 ,  0.12052 , -0.19595 ,\n",
              "        -0.86387 , -0.17507 ,  0.4924  ,  0.38274 ,  0.2987  ,  0.13115 ,\n",
              "        -0.13744 , -0.20918 ,  0.10783 , -0.10709 ,  0.41345 ,  0.11004 ,\n",
              "        -0.44554 ,  0.2905  , -0.14988 ,  0.29897 , -0.050136,  0.46923 ,\n",
              "         0.15687 , -0.04682 , -0.11082 ,  0.87676 , -1.6183  ,  0.59109 ,\n",
              "         0.097853,  0.32855 , -0.2794  ,  0.074711,  1.0258  , -0.22383 ,\n",
              "        -0.66025 , -0.70649 ], dtype=float32),\n",
              " array([ 0.58904  ,  0.29398  , -0.64865  ,  0.26132  ,  0.2622   ,\n",
              "        -0.21519  ,  0.80287  , -0.61187  ,  0.60489  ,  0.046219 ,\n",
              "        -0.48489  ,  0.087628 , -4.6607   , -0.080378 , -0.44456  ,\n",
              "         0.041782 ,  0.26805  , -0.76094  ,  0.68583  , -0.23977  ,\n",
              "        -0.52447  ,  0.031595 ,  0.3962   ,  0.29192  , -0.55468  ,\n",
              "        -0.66779  ,  0.3817   ,  0.93786  ,  0.31391  ,  0.29202  ,\n",
              "         0.38919  ,  0.29912  , -0.019282 , -0.48273  ,  0.69414  ,\n",
              "         0.17663  , -0.069615 , -0.0098428, -0.34304  , -0.27852  ,\n",
              "        -0.3203   ,  0.53971  , -0.31433  , -0.79112  ,  0.54393  ,\n",
              "        -1.014    ,  0.23619  ,  0.5872   , -0.34118  , -0.010492 ],\n",
              "       dtype=float32),\n",
              " array([-0.24368  , -0.84927  , -0.78593  ,  0.33572  , -0.18119  ,\n",
              "         0.26174  ,  0.052384 , -1.0162   ,  1.0319   , -0.09404  ,\n",
              "         0.4974   ,  0.71267  , -2.3386   , -0.13403  , -0.38148  ,\n",
              "        -0.52134  ,  0.72104  ,  0.52556  ,  0.96227  ,  0.14504  ,\n",
              "        -0.70749  , -0.41104  ,  0.78897  , -1.3155   , -0.49226  ,\n",
              "        -0.75599  , -0.62409  ,  0.39241  , -0.17192  ,  0.54089  ,\n",
              "         0.1866   ,  0.33411  ,  0.14294  , -1.7269   ,  0.71899  ,\n",
              "        -0.29016  ,  0.56918  , -0.17335  , -0.44104  ,  0.46906  ,\n",
              "        -0.58626  ,  0.64984  , -0.65011  ,  0.21677  ,  0.51673  ,\n",
              "        -0.36459  , -0.42197  ,  0.13531  ,  0.0039619,  0.20791  ],\n",
              "       dtype=float32)]"
            ]
          },
          "execution_count": 33,
          "metadata": {},
          "output_type": "execute_result"
        }
      ],
      "source": [
        "model = model_twitter\n",
        "embeddings = [model.get_vector(token) for token in tokens if token in model]\n",
        "embeddings"
      ]
    },
    {
      "cell_type": "markdown",
      "metadata": {
        "id": "p58DUnpNXenf"
      },
      "source": [
        "- the sum of the embeddings in the tweet is:"
      ]
    },
    {
      "cell_type": "code",
      "execution_count": null,
      "metadata": {
        "id": "N0uuM4q7sid9",
        "outputId": "dd0a982a-cf6e-49eb-eb1d-781bebe0da01"
      },
      "outputs": [
        {
          "data": {
            "text/plain": [
              "array([ 3.0221200e-01, -5.1360011e-02, -1.1636300e+00,  4.7724000e-01,\n",
              "       -5.0889999e-01, -2.8119001e-01,  1.0107440e+00, -2.1745701e+00,\n",
              "        2.0536900e+00,  1.4788790e+00, -4.7456002e-01,  7.0449203e-01,\n",
              "       -1.2966801e+01, -8.5258000e-02, -1.3090500e+00, -6.2670803e-01,\n",
              "        1.1096100e+00, -4.3132997e-01,  7.8422999e-01, -2.6979998e-01,\n",
              "       -7.3956001e-01,  3.2949746e-03,  1.4838700e+00, -8.9243001e-01,\n",
              "       -1.1843799e+00, -1.6329601e+00, -1.3455999e-01,  1.2231801e+00,\n",
              "        5.5544001e-01,  9.4295001e-01,  1.3024998e-01,  9.2373002e-01,\n",
              "       -2.6222005e-02, -1.9106600e+00,  1.3629940e+00,  3.5570002e-01,\n",
              "        6.5643501e-01, -2.3001280e-01, -8.9489996e-01,  1.0673001e+00,\n",
              "       -2.5248599e+00,  1.7806400e+00, -8.6658704e-01, -2.4579999e-01,\n",
              "        7.8126001e-01, -1.3038790e+00,  8.4001994e-01,  4.9868000e-01,\n",
              "       -9.9746811e-01, -5.0907201e-01], dtype=float32)"
            ]
          },
          "execution_count": 34,
          "metadata": {},
          "output_type": "execute_result"
        }
      ],
      "source": [
        "sum(embeddings)"
      ]
    },
    {
      "cell_type": "markdown",
      "metadata": {
        "id": "VpiF8tQCkZe5"
      },
      "source": [
        "- and the average of the embeddings is just:"
      ]
    },
    {
      "cell_type": "code",
      "execution_count": null,
      "metadata": {
        "id": "ld2gtl6ukZty",
        "outputId": "cafb32f8-6f8d-4584-d821-9803c383c7ef"
      },
      "outputs": [
        {
          "data": {
            "text/plain": [
              "array([ 1.0073733e-01, -1.7120004e-02, -3.8787666e-01,  1.5908000e-01,\n",
              "       -1.6963333e-01, -9.3730003e-02,  3.3691466e-01, -7.2485667e-01,\n",
              "        6.8456334e-01,  4.9295965e-01, -1.5818667e-01,  2.3483068e-01,\n",
              "       -4.3222671e+00, -2.8419333e-02, -4.3634999e-01, -2.0890267e-01,\n",
              "        3.6986998e-01, -1.4377666e-01,  2.6141000e-01, -8.9933328e-02,\n",
              "       -2.4652000e-01,  1.0983249e-03,  4.9462333e-01, -2.9747668e-01,\n",
              "       -3.9479330e-01, -5.4432005e-01, -4.4853330e-02,  4.0772668e-01,\n",
              "        1.8514667e-01,  3.1431666e-01,  4.3416660e-02,  3.0791000e-01,\n",
              "       -8.7406682e-03, -6.3688666e-01,  4.5433131e-01,  1.1856667e-01,\n",
              "        2.1881168e-01, -7.6670937e-02, -2.9830000e-01,  3.5576668e-01,\n",
              "       -8.4161997e-01,  5.9354669e-01, -2.8886235e-01, -8.1933327e-02,\n",
              "        2.6041999e-01, -4.3462634e-01,  2.8000665e-01,  1.6622667e-01,\n",
              "       -3.3248937e-01, -1.6969067e-01], dtype=float32)"
            ]
          },
          "execution_count": 35,
          "metadata": {},
          "output_type": "execute_result"
        }
      ],
      "source": [
        "import numpy as np\n",
        "\n",
        "np.mean(embeddings, axis=0)"
      ]
    },
    {
      "cell_type": "markdown",
      "metadata": {
        "id": "nCvTji3wlpGH"
      },
      "source": [
        "We will need to perform this vector transformation for all tweets in the training and also the test sets\n",
        "- We can define a procedure to do that for us"
      ]
    },
    {
      "cell_type": "code",
      "execution_count": null,
      "metadata": {
        "id": "uopuAE26d7gH"
      },
      "outputs": [],
      "source": [
        "import numpy as np\n",
        "\n",
        "def vectorize(docs, embedding_model=model_twitter, useSum=True):\n",
        "    vectors = np.zeros((len(docs),50))\n",
        "    for i in range(len(docs)):\n",
        "        tokens = re.sub(regex, '', docs[i].lower()).split()\n",
        "        embeddings = [embedding_model.get_vector(token) for token in tokens if token in embedding_model]\n",
        "        if (len(embeddings) > 0):\n",
        "            if (useSum):\n",
        "                vectors[i] = sum(embeddings)\n",
        "            else:\n",
        "                vectors[i] = np.mean(embeddings, axis=0)\n",
        "    return vectors"
      ]
    },
    {
      "cell_type": "markdown",
      "metadata": {
        "id": "2WoMOcuFYcbM"
      },
      "source": [
        "Let's now vectorize the training set\n",
        "- and then print out one of the instances to check that the format is correct:"
      ]
    },
    {
      "cell_type": "code",
      "execution_count": null,
      "metadata": {
        "id": "iviol4QhenZx",
        "outputId": "5093bbc0-fa85-4f84-f775-7ccf2743fe4c"
      },
      "outputs": [
        {
          "data": {
            "text/plain": [
              "(3, 50)"
            ]
          },
          "execution_count": 37,
          "metadata": {},
          "output_type": "execute_result"
        }
      ],
      "source": [
        "train_x_vector = vectorize(train_x)\n",
        "train_x_vector[:3].shape"
      ]
    },
    {
      "cell_type": "markdown",
      "metadata": {
        "id": "z39a21KpdBHb"
      },
      "source": [
        "Now that we have the vectorized training data, we can go ahead and train the model!"
      ]
    },
    {
      "cell_type": "code",
      "execution_count": null,
      "metadata": {
        "id": "qCuF581vdBcp",
        "outputId": "c42a8fe0-1bf5-4862-8424-25817e8b436a"
      },
      "outputs": [
        {
          "name": "stdout",
          "output_type": "stream",
          "text": [
            "LogisticRegression(max_iter=1000)\n"
          ]
        }
      ],
      "source": [
        "from sklearn.linear_model import LogisticRegression\n",
        "\n",
        "lr_model = LogisticRegression(max_iter=1000).fit(train_x_vector, train_y)\n",
        "print(lr_model)"
      ]
    },
    {
      "cell_type": "markdown",
      "metadata": {
        "id": "yAQhGdw_Yyi1"
      },
      "source": [
        "Let's test the model on the example tweets from the second tutorial:"
      ]
    },
    {
      "cell_type": "code",
      "execution_count": null,
      "metadata": {
        "id": "OTb8hjCNkBf-",
        "outputId": "c8931380-8e82-46a7-d38c-5950e3dc1efe"
      },
      "outputs": [
        {
          "name": "stdout",
          "output_type": "stream",
          "text": [
            "tweet:      I can't believe how much fun I'm having learning to train a text classifier using word embeddings!\n",
            "prediction: positive\n",
            "confidence: [0.48820054 0.51179946]\n",
            "\n",
            "tweet:      I am really confused. I want my mommy.\n",
            "prediction: negative\n",
            "confidence: [0.83816674 0.16183326]\n",
            "\n",
            "tweet:      The internet connection has been pretty annoying today!\n",
            "prediction: negative\n",
            "confidence: [0.82617697 0.17382303]\n",
            "\n",
            "tweet:      They just played my favourite song on the radio.\n",
            "prediction: positive\n",
            "confidence: [0.35017116 0.64982884]\n",
            "\n",
            "tweet:      I don't like going to the dentist.\n",
            "prediction: negative\n",
            "confidence: [0.85576702 0.14423298]\n",
            "\n",
            "tweet:      Can't wait for my three hour math class tomorrow morning. Yay!\n",
            "prediction: positive\n",
            "confidence: [0.48218204 0.51781796]\n",
            "\n"
          ]
        }
      ],
      "source": [
        "tweets = []\n",
        "tweets.append('I can\\'t believe how much fun I\\'m having learning to train a text classifier using word embeddings!')\n",
        "tweets.append('I am really confused. I want my mommy.')\n",
        "tweets.append('The internet connection has been pretty annoying today!')\n",
        "tweets.append('They just played my favourite song on the radio.')\n",
        "tweets.append(\"I don't like going to the dentist.\")\n",
        "tweets.append(\"Can't wait for my three hour math class tomorrow morning. Yay!\")\n",
        "\n",
        "\n",
        "transformed_tweets = vectorize(tweets)\n",
        "predictions = lr_model.predict(transformed_tweets)\n",
        "predicted_probabilities = lr_model.predict_proba(transformed_tweets)\n",
        "\n",
        "for i in range(len(tweets)):\n",
        "  print(f'tweet:      {tweets[i]}')\n",
        "  print(f'prediction: {predictions[i]}')\n",
        "  print(f'confidence: {predicted_probabilities[i]}')\n",
        "  print()"
      ]
    },
    {
      "cell_type": "markdown",
      "metadata": {
        "id": "FLBJOO8cbVHP"
      },
      "source": [
        "We can have a look at the coefficients of the logistic regression classification model.\n",
        "- How many should there be?"
      ]
    },
    {
      "cell_type": "code",
      "execution_count": null,
      "metadata": {
        "id": "bPtPzQuLomrR",
        "outputId": "2b40d577-002a-4001-a734-7bd765d345eb"
      },
      "outputs": [
        {
          "data": {
            "text/plain": [
              "array([[ 0.00210959,  0.00048657,  0.0040588 , -0.01720142,  0.22055468,\n",
              "         0.26906697,  0.08192147, -0.08144209, -0.10587358,  0.05084304,\n",
              "        -0.14128028,  0.25005832,  0.02700978, -0.04481629, -0.16876097,\n",
              "         0.07883993, -0.04843096,  0.04156749,  0.14098055,  0.01921658,\n",
              "        -0.01665384, -0.06251279, -0.07007992, -0.09335055,  0.06789375,\n",
              "         0.05865798,  0.09005319, -0.05475117,  0.19256284,  0.09370651,\n",
              "         0.12394833,  0.11419597, -0.01867683,  0.05031401,  0.12674573,\n",
              "         0.12307662,  0.15600085,  0.10379593,  0.01725414, -0.03293007,\n",
              "        -0.0414873 , -0.03052455, -0.00680105,  0.14821604, -0.00855441,\n",
              "         0.09179826,  0.03404165, -0.00701744,  0.0319334 , -0.03785649]])"
            ]
          },
          "execution_count": 40,
          "metadata": {},
          "output_type": "execute_result"
        }
      ],
      "source": [
        "lr_model.coef_"
      ]
    },
    {
      "cell_type": "markdown",
      "metadata": {
        "id": "Eso1pS5Ybevo"
      },
      "source": [
        "Let's vectorize the validaton data and see how well the embeddings-based classifier performs on it:"
      ]
    },
    {
      "cell_type": "code",
      "execution_count": null,
      "metadata": {
        "id": "DncyqQpinGHG",
        "outputId": "c7e174a3-d2fb-48e2-a2cd-5ee6869e5b04"
      },
      "outputs": [
        {
          "name": "stdout",
          "output_type": "stream",
          "text": [
            "Accuracy: 0.739375\n"
          ]
        },
        {
          "data": {
            "image/png": "[encoded data removed]",
            "text/plain": [
              "<Figure size 640x480 with 2 Axes>"
            ]
          },
          "metadata": {},
          "output_type": "display_data"
        }
      ],
      "source": [
        "valid_x_vector = vectorize(valid_x)\n",
        "pred_y = lr_model.predict(valid_x_vector)\n",
        "\n",
        "from sklearn.metrics import accuracy_score\n",
        "\n",
        "print(f'Accuracy: {accuracy_score(valid_y, pred_y)}')\n",
        "\n",
        "import matplotlib.pyplot as plt\n",
        "from sklearn.metrics import ConfusionMatrixDisplay\n",
        "\n",
        "ConfusionMatrixDisplay.from_estimator(lr_model, valid_x_vector, valid_y, values_format='d')\n",
        "plt.show()"
      ]
    },
    {
      "cell_type": "markdown",
      "metadata": {
        "id": "7z23krami3W0"
      },
      "source": [
        "So pretty much the same accuracy as the bag-of-words based classifier.\n",
        "- but this time with feature vectors of size 50\n",
        "- what happens to the accuracy if we:\n",
        "  - use a different embedding: model_wiki instead of model_twitter\n",
        "  - use a bigger (higher dimensional) embedding: download a larger one to see\n",
        "  - use the average rather than the sum to generate the feature vector?"
      ]
    },
    {
      "cell_type": "code",
      "execution_count": null,
      "metadata": {
        "id": "HR7lw-Ljey3g",
        "outputId": "8313a0ad-9c72-403a-cd31-fa786ca02476"
      },
      "outputs": [
        {
          "name": "stdout",
          "output_type": "stream",
          "text": [
            "Accuracy: 0.683125\n"
          ]
        },
        {
          "data": {
            "image/png": "[encoded data removed]",
            "text/plain": [
              "<Figure size 640x480 with 2 Axes>"
            ]
          },
          "metadata": {},
          "output_type": "display_data"
        }
      ],
      "source": [
        "# Vectorise\n",
        "train_x_vector = vectorize(train_x, embedding_model=model_wiki)\n",
        "# Fit model\n",
        "lr_model = LogisticRegression(max_iter=1000).fit(train_x_vector, train_y)\n",
        "# Evaluate results\n",
        "valid_x_vector = vectorize(valid_x, embedding_model=model_wiki)\n",
        "pred_y = lr_model.predict(valid_x_vector)\n",
        "\n",
        "print(f'Accuracy: {accuracy_score(valid_y, pred_y)}')\n",
        "\n",
        "ConfusionMatrixDisplay.from_estimator(lr_model, valid_x_vector, valid_y, values_format='d')\n",
        "plt.show()"
      ]
    },
    {
      "cell_type": "code",
      "execution_count": null,
      "metadata": {
        "id": "9RpC810Dey3g",
        "outputId": "cdc84990-ce25-4ad6-af2f-a494c5334123"
      },
      "outputs": [
        {
          "name": "stdout",
          "output_type": "stream",
          "text": [
            "Accuracy: 0.676875\n"
          ]
        },
        {
          "data": {
            "image/png": "[encoded data removed]",
            "text/plain": [
              "<Figure size 640x480 with 2 Axes>"
            ]
          },
          "metadata": {},
          "output_type": "display_data"
        }
      ],
      "source": [
        "# Vectorise\n",
        "train_x_vector = vectorize(train_x, embedding_model=model_wiki, useSum=False)\n",
        "# Fit model\n",
        "lr_model = LogisticRegression(max_iter=1000).fit(train_x_vector, train_y)\n",
        "# Evaluate results\n",
        "valid_x_vector = vectorize(valid_x, embedding_model=model_wiki, useSum=False)\n",
        "pred_y = lr_model.predict(valid_x_vector)\n",
        "\n",
        "print(f'Accuracy: {accuracy_score(valid_y, pred_y)}')\n",
        "\n",
        "ConfusionMatrixDisplay.from_estimator(lr_model, valid_x_vector, valid_y, values_format='d')\n",
        "plt.show()"
      ]
    },
    {
      "cell_type": "code",
      "execution_count": null,
      "metadata": {
        "id": "arZYGnXSey3g",
        "outputId": "220b6665-7e21-4c3f-9598-90094132d6e9"
      },
      "outputs": [
        {
          "name": "stdout",
          "output_type": "stream",
          "text": [
            "Accuracy: 0.741875\n"
          ]
        },
        {
          "data": {
            "image/png": "[encoded data removed]",
            "text/plain": [
              "<Figure size 640x480 with 2 Axes>"
            ]
          },
          "metadata": {},
          "output_type": "display_data"
        }
      ],
      "source": [
        "# Vectorise\n",
        "train_x_vector = vectorize(train_x, useSum=False)\n",
        "# Fit model\n",
        "lr_model = LogisticRegression(max_iter=1000).fit(train_x_vector, train_y)\n",
        "# Evaluate results\n",
        "valid_x_vector = vectorize(valid_x, useSum=False)\n",
        "pred_y = lr_model.predict(valid_x_vector)\n",
        "\n",
        "print(f'Accuracy: {accuracy_score(valid_y, pred_y)}')\n",
        "\n",
        "ConfusionMatrixDisplay.from_estimator(lr_model, valid_x_vector, valid_y, values_format='d')\n",
        "plt.show()"
      ]
    },
    {
      "cell_type": "markdown",
      "metadata": {
        "id": "NvWLcBqGkTFO"
      },
      "source": [
        "Also worth trying is doc2vec rather than word2vec embeddings:\n",
        "- in theory they should give slightly better performance on sentence classification tasks\n",
        "- see here: https://radimrehurek.com/gensim/auto_examples/tutorials/run_doc2vec_lee.html"
      ]
    },
    {
      "cell_type": "markdown",
      "metadata": {
        "id": "6PifwcbdWqKz"
      },
      "source": [
        "## FastText (sub-word) embeddings\n",
        "\n",
        "Try training a fasttext model:\n",
        "\n",
        "https://pypi.org/project/fasttext/\n",
        "\n",
        "You can have a look at the API and documentation at this [link](https://fasttext.cc)."
      ]
    },
    {
      "cell_type": "markdown",
      "metadata": {
        "id": "jJn_r-pPHxim"
      },
      "source": [
        "Let's start by installing the fastText package.\n",
        "(Note that, alterantively, Genism has a specific API for fastText that wraps the package we are going to use)"
      ]
    },
    {
      "cell_type": "code",
      "execution_count": null,
      "metadata": {
        "id": "52qmtcvvKmXD"
      },
      "outputs": [],
      "source": [
        "%pip install fasttext"
      ]
    },
    {
      "cell_type": "markdown",
      "metadata": {
        "id": "x62UPMmPwTZN"
      },
      "source": [
        "Now that we have installed the package, we can download one of the pre-trained models (you can find [here](https://fasttext.cc/docs/en/crawl-vectors.html) the list of available models)"
      ]
    },
    {
      "cell_type": "code",
      "execution_count": null,
      "metadata": {
        "id": "w332B-YpwTjV"
      },
      "outputs": [],
      "source": [
        "# !wget https://dl.fbaipublicfiles.com/fasttext/vectors-wiki/wiki.en.zip\n",
        "# !wget http://dl.fbaipublicfiles.com/fasttext/vectors-crawl/cc.en.300.bin.gz\n",
        "# !gzip -d cc.en.300.bin.gz"
      ]
    },
    {
      "cell_type": "markdown",
      "metadata": {
        "id": "1tDcLNT9fKUl"
      },
      "source": [
        "Finally we can create a model istance:"
      ]
    },
    {
      "cell_type": "code",
      "execution_count": null,
      "metadata": {
        "id": "JrDxcw89fKgr"
      },
      "outputs": [],
      "source": [
        "import fasttext\n",
        "\n",
        "ft_model = fasttext.load_model('./cc.en.300.bin')"
      ]
    },
    {
      "cell_type": "markdown",
      "metadata": {
        "id": "pnpPQ0j3mUiE"
      },
      "source": [
        "What is the size of the vocabulary?"
      ]
    },
    {
      "cell_type": "code",
      "execution_count": null,
      "metadata": {
        "colab": {
          "base_uri": "https://localhost:8080/"
        },
        "id": "uhqskdAimTLa",
        "outputId": "5f0f7672-018f-4105-eaee-c12f2855b0c8"
      },
      "outputs": [
        {
          "data": {
            "text/plain": [
              "2000000"
            ]
          },
          "execution_count": 50,
          "metadata": {},
          "output_type": "execute_result"
        }
      ],
      "source": [
        "len(ft_model.get_words())"
      ]
    },
    {
      "cell_type": "markdown",
      "metadata": {
        "id": "19fBomf5mVDU"
      },
      "source": [
        "What is the size of the embeddings?"
      ]
    },
    {
      "cell_type": "code",
      "execution_count": null,
      "metadata": {
        "colab": {
          "base_uri": "https://localhost:8080/"
        },
        "id": "JK9X-b5XmTic",
        "outputId": "86aeb42c-9e15-4029-826f-ac1338f4d73b"
      },
      "outputs": [
        {
          "data": {
            "text/plain": [
              "300"
            ]
          },
          "execution_count": 51,
          "metadata": {},
          "output_type": "execute_result"
        }
      ],
      "source": [
        "ft_model.get_dimension()"
      ]
    },
    {
      "cell_type": "markdown",
      "metadata": {
        "id": "mEAa1rU2ey3j"
      },
      "source": [
        "How do we get the embedding of a word?"
      ]
    },
    {
      "cell_type": "code",
      "execution_count": null,
      "metadata": {
        "colab": {
          "base_uri": "https://localhost:8080/"
        },
        "id": "VMzSd9-2ey3j",
        "outputId": "87c5cc2b-eb61-4b51-e73d-4568248d917e"
      },
      "outputs": [
        {
          "data": {
            "text/plain": [
              "array([ 1.37498349e-01,  1.73652887e-01,  1.55173652e-02,  2.37601340e-01,\n",
              "       -2.04669774e-01,  1.87128603e-01,  2.91468382e-01,  3.73304449e-03,\n",
              "        4.89513204e-02,  2.60247648e-01, -8.31757560e-02, -1.56491295e-01,\n",
              "        8.69184956e-02, -4.78181392e-02, -1.18615523e-01,  1.54884279e-01,\n",
              "       -1.69153258e-01, -1.22394666e-01, -1.40723094e-01,  4.53762040e-02,\n",
              "       -3.81604545e-02, -1.46799475e-01,  1.36863321e-01, -1.50539711e-01,\n",
              "       -1.81618929e-02,  1.47275031e-02, -4.21417244e-02,  1.39445990e-01,\n",
              "        4.28556725e-02,  3.05333138e-01, -1.66591443e-02,  2.91614503e-01,\n",
              "       -3.32667604e-02, -4.68752086e-02,  2.67606732e-02,  8.71477500e-02,\n",
              "       -5.38966954e-02,  1.33774459e-01,  8.50976482e-02, -6.40801638e-02,\n",
              "       -1.03779674e-01, -1.81272849e-01, -1.10902652e-01,  1.66989714e-01,\n",
              "       -1.99763715e-01,  4.53899801e-03, -1.89182535e-02, -2.78699417e-02,\n",
              "       -2.93243110e-01, -5.81464916e-03,  1.75295904e-01,  1.08659819e-01,\n",
              "       -1.88145787e-02,  2.53145359e-02,  9.95914787e-02, -3.12647223e-02,\n",
              "        9.74955484e-02, -1.57494023e-01, -1.64722189e-01, -6.87088072e-02,\n",
              "        9.10460949e-05,  1.59804896e-02,  1.10373735e-01,  6.10446706e-02,\n",
              "        1.07483588e-01, -1.33552194e-01, -7.02596456e-02,  1.16452649e-01,\n",
              "        1.18472248e-01,  6.14816248e-02, -8.17625001e-02,  4.12990153e-03,\n",
              "        1.23452470e-02,  1.57015212e-02,  3.73466015e-02, -1.09414756e-02,\n",
              "       -8.77702013e-02,  2.94106871e-01, -1.09256595e-01, -7.45082274e-02,\n",
              "       -2.63583213e-01, -2.84229126e-02, -1.52215466e-01, -1.00488283e-01,\n",
              "        4.63331118e-02, -6.50667697e-02, -7.57237226e-02,  1.46466196e-02,\n",
              "       -3.01163793e-02, -6.27530664e-02,  7.32356012e-02, -3.39862436e-01,\n",
              "       -2.12151855e-02,  1.20418519e-01,  1.95152871e-02,  1.46374375e-01,\n",
              "        4.19964790e-02,  2.27189422e-01, -4.76691127e-02,  5.83246611e-02,\n",
              "       -1.18166231e-01,  1.94506012e-02,  1.29298002e-01, -8.22782367e-02,\n",
              "       -1.82408914e-01,  1.22837633e-01, -4.33400944e-02, -7.62889758e-02,\n",
              "       -1.49289474e-01,  1.32627741e-01,  2.07074419e-01, -2.40204573e-01,\n",
              "       -3.01707983e-02,  1.00110896e-01,  1.09480068e-01,  1.78128794e-01,\n",
              "        5.19588068e-02, -1.18714668e-01, -6.70131519e-02,  2.07650527e-01,\n",
              "       -3.13496441e-02,  2.84634590e-01, -8.52486044e-02, -2.01036707e-02,\n",
              "       -1.93305723e-02, -2.07597405e-01, -1.20448753e-01,  1.40477762e-01,\n",
              "        1.05674461e-01,  3.88197601e-03,  6.56490326e-02, -2.37631038e-01,\n",
              "       -3.56610008e-02, -8.02731290e-02, -2.24592313e-02, -1.23117693e-01,\n",
              "        1.51049644e-01,  2.43693039e-01,  1.88642144e-01,  3.11025791e-03,\n",
              "       -1.42823428e-01,  7.86538571e-02,  6.08236715e-03, -1.67422846e-01,\n",
              "       -8.55229050e-02,  7.95976892e-02, -3.45605433e-01,  5.82623780e-02,\n",
              "       -1.06225297e-01, -1.78768754e-01, -4.63169813e-02, -7.22998232e-02,\n",
              "        6.99614957e-02, -1.17765516e-02, -1.15494572e-01, -5.82705364e-02,\n",
              "        1.16676003e-01,  5.70290461e-02, -7.90311471e-02,  8.35967138e-02,\n",
              "        8.16148371e-02, -1.73566580e-01,  2.34466106e-01,  3.13998163e-02,\n",
              "       -2.83091217e-02, -3.13015580e-02,  1.57410666e-01, -1.23833120e-02,\n",
              "       -6.04008958e-02,  1.00380607e-01,  1.09081395e-01,  5.35128973e-02,\n",
              "       -1.12907238e-01, -2.18785390e-01, -2.26536058e-02, -2.15117663e-01,\n",
              "       -1.11640386e-01, -3.89714614e-02,  8.59435648e-02, -1.97914347e-01,\n",
              "       -4.17543389e-02, -1.15136296e-01,  4.49582487e-02, -1.30544692e-01,\n",
              "       -6.05523065e-02,  3.08122993e-01, -4.84386310e-02, -5.04352376e-02,\n",
              "        5.67938611e-02,  1.03469603e-01,  3.77609134e-02,  1.75252743e-03,\n",
              "        2.36129127e-02,  1.28008991e-01, -9.24589187e-02, -1.44171059e-01,\n",
              "        3.02452624e-01, -1.20941728e-01,  2.55626217e-02, -4.43983078e-02,\n",
              "        1.31773561e-01,  5.05378768e-02,  4.99319136e-02, -4.53851558e-02,\n",
              "       -1.25326589e-01,  1.03378303e-01,  9.02659371e-02,  8.87431204e-03,\n",
              "        1.90032590e-02,  6.09402731e-02,  8.95207599e-02, -9.70865861e-02,\n",
              "       -9.47063640e-02,  2.91972943e-02, -1.52865816e-02, -1.61617801e-01,\n",
              "        3.19432677e-03, -6.58987164e-02,  6.43858016e-02, -2.62204409e-02,\n",
              "        7.66740441e-02, -3.07367295e-02, -1.66517615e-01, -4.53550480e-02,\n",
              "        1.12862349e-01,  2.02228762e-02, -6.31066635e-02, -2.73563862e-01,\n",
              "       -8.24580714e-02, -7.55187646e-02,  2.45882347e-01,  7.84016699e-02,\n",
              "       -7.31700063e-02, -5.58071174e-02, -2.08459049e-02,  1.32113360e-02,\n",
              "       -1.15614533e-01, -1.28816754e-01, -7.76782110e-02,  1.39297172e-02,\n",
              "        7.68901408e-02,  3.53115499e-02, -7.35836700e-02, -1.48101956e-01,\n",
              "        1.57499254e-01,  2.79525697e-01, -7.00949654e-02, -1.30779624e-01,\n",
              "       -6.56079650e-02, -3.89638245e-02,  2.90693641e-02,  2.53306665e-02,\n",
              "       -1.87344216e-02,  8.13647956e-02,  1.52117580e-01,  5.24173714e-02,\n",
              "       -2.27155939e-01,  3.56054865e-02,  1.05434768e-02, -6.52607605e-02,\n",
              "        9.73352417e-02, -6.46137819e-02, -2.53503621e-02,  1.22090224e-02,\n",
              "       -1.39826387e-01, -7.75838494e-02, -2.07123429e-01, -7.15182126e-02,\n",
              "        8.69591534e-03,  1.41621977e-02, -1.93011254e-01,  2.27474242e-01,\n",
              "       -1.15029059e-01,  4.09493409e-02, -8.25189203e-02, -7.64346272e-02,\n",
              "       -9.39211100e-02,  4.57039848e-02,  2.61136368e-02, -3.34188640e-02,\n",
              "        4.32544090e-02, -1.03707597e-01, -1.41373813e-01, -1.44344121e-01,\n",
              "        1.59042463e-01,  9.89959389e-03,  2.83480138e-02, -2.38574252e-01,\n",
              "       -2.76446074e-01, -8.09888542e-02, -4.18215282e-02,  1.75330192e-02,\n",
              "       -1.65929049e-01,  1.04931220e-01, -1.10928323e-02,  9.20476243e-02,\n",
              "        6.67028055e-02,  2.07736552e-01,  8.53124261e-02, -1.40121192e-01],\n",
              "      dtype=float32)"
            ]
          },
          "execution_count": 52,
          "metadata": {},
          "output_type": "execute_result"
        }
      ],
      "source": [
        "ft_model.get_word_vector('car')"
      ]
    },
    {
      "cell_type": "markdown",
      "metadata": {
        "id": "44hYw0bAey3k"
      },
      "source": [
        "Alterantively you can use it as a Python dictionary"
      ]
    },
    {
      "cell_type": "code",
      "execution_count": null,
      "metadata": {
        "colab": {
          "base_uri": "https://localhost:8080/"
        },
        "id": "6QZOh_e2ey3k",
        "outputId": "d9cded34-2fc3-464e-8d5c-16e7265761a9"
      },
      "outputs": [
        {
          "data": {
            "text/plain": [
              "array([ 2.05102742e-01, -1.17439777e-01, -1.55425537e-02,  1.79349303e-01,\n",
              "       -2.28049219e-01, -1.24558017e-01,  1.23250902e-01,  5.38473055e-02,\n",
              "        4.11795303e-02, -5.67295495e-03, -8.39752406e-02,  1.84653439e-02,\n",
              "       -8.60689804e-02,  1.12930965e-02, -1.33117482e-01,  1.38373390e-01,\n",
              "       -1.25412792e-01, -3.86665910e-02, -1.22192718e-01,  1.07491598e-01,\n",
              "        7.44868889e-02,  1.43000856e-01, -2.68281717e-02,  7.85946473e-03,\n",
              "       -3.62306088e-02, -2.08035931e-02,  9.95780062e-03, -5.96441068e-02,\n",
              "        3.78727615e-02,  1.31439894e-01, -6.71993792e-02,  6.71701431e-02,\n",
              "        1.11701377e-01, -1.82819627e-02, -1.02341630e-01,  9.74911451e-03,\n",
              "        4.25241441e-02, -1.59083098e-01,  3.72390151e-02, -1.32961005e-01,\n",
              "       -6.62351400e-02,  1.17778786e-01, -3.11643854e-02, -4.58469465e-02,\n",
              "       -1.54904723e-01,  2.37882137e-03,  2.09096503e-02, -6.17710687e-03,\n",
              "       -2.41204053e-01,  8.73834118e-02,  6.91391528e-02,  1.11958645e-01,\n",
              "       -1.52415112e-02, -1.00177675e-01, -6.60216436e-02,  7.77632892e-02,\n",
              "        9.00297761e-02,  3.69252376e-02, -2.52914429e-02,  2.36923918e-02,\n",
              "       -1.53724262e-02,  3.27921212e-02, -1.39887005e-01,  1.09796673e-02,\n",
              "        7.74039626e-02, -7.29498342e-02,  3.66372019e-02,  6.94629326e-02,\n",
              "       -4.31373864e-02,  3.86431366e-02, -2.37832926e-02, -2.62797046e-02,\n",
              "       -8.52299929e-02, -1.24506094e-03, -1.66640848e-01, -7.69969672e-02,\n",
              "        1.00765273e-01,  3.93868051e-03,  1.25144869e-02,  1.72688425e-01,\n",
              "       -4.70201746e-02, -7.07887039e-02,  2.69618072e-02,  8.90153423e-02,\n",
              "       -8.63350183e-02,  5.59332669e-02,  6.88511878e-02, -1.81689560e-02,\n",
              "        1.49315774e-01, -2.06480175e-03, -4.99112904e-02,  9.12162587e-02,\n",
              "        6.12079501e-02,  3.40343006e-02, -1.59623727e-01,  9.91314650e-03,\n",
              "        1.47123680e-01,  7.51622468e-02,  1.25847980e-01,  7.28560686e-02,\n",
              "       -1.20911151e-01,  1.33074015e-01, -2.40076296e-02, -8.61709863e-02,\n",
              "       -1.79991545e-03,  3.91840525e-02, -3.06748301e-02, -1.10395163e-01,\n",
              "       -1.44113809e-01,  3.47533152e-02,  1.26442760e-01,  1.51098520e-01,\n",
              "       -1.47495106e-01,  9.89220962e-02,  1.07589796e-01,  9.38937441e-02,\n",
              "       -1.53009564e-01, -1.30068827e-02, -1.14716075e-01, -1.30422384e-01,\n",
              "        1.86000764e-02,  5.32120466e-05, -2.31985860e-02, -1.07203282e-01,\n",
              "       -3.31636667e-02,  4.47869375e-02,  2.25304645e-02,  1.85147613e-01,\n",
              "        5.13294712e-03, -1.23191781e-01,  8.12826157e-02, -8.51961747e-02,\n",
              "       -9.72918421e-02, -1.90278441e-02, -6.44630939e-02, -1.08691052e-01,\n",
              "        2.70893425e-02,  1.02976874e-01,  1.80976331e-01, -1.63971558e-02,\n",
              "       -7.17620775e-02, -7.96736404e-02, -9.61826518e-02, -1.91508874e-01,\n",
              "        2.70473287e-02,  1.24248281e-01, -3.49661916e-01, -1.33518144e-01,\n",
              "       -2.82961894e-02, -9.26014706e-02, -4.25025821e-04, -2.86594480e-02,\n",
              "       -3.91338617e-02, -9.90596265e-02, -4.65282984e-02, -8.72748494e-02,\n",
              "        1.51935905e-01, -1.91162080e-02,  9.13072601e-02,  1.89611129e-02,\n",
              "       -1.08969875e-01, -2.90214196e-02,  8.61809775e-02, -2.18289584e-01,\n",
              "       -1.40584171e-01, -2.89806034e-02,  8.69408399e-02,  1.18448846e-02,\n",
              "        9.80549902e-02,  5.18676490e-02, -3.34505178e-03,  8.01285952e-02,\n",
              "        6.87225088e-02,  1.70012593e-01,  3.26067172e-02,  1.63739957e-02,\n",
              "        3.87846790e-02, -1.26889497e-02, -3.26282345e-02,  9.15853605e-02,\n",
              "        5.58803044e-03,  1.06696427e-01, -4.73687798e-02, -1.07843116e-01,\n",
              "       -8.31641108e-02,  1.36591256e-01,  2.29387909e-01, -2.46172547e-02,\n",
              "        2.01673638e-02, -2.14638207e-02, -1.00305840e-01,  1.96577206e-01,\n",
              "        1.44458741e-01,  9.78642032e-02,  1.25113457e-01, -5.35797067e-02,\n",
              "       -6.95556924e-02, -1.35392934e-01,  3.14381532e-02,  1.78394511e-01,\n",
              "        5.15805036e-02,  3.73208970e-02,  1.08873099e-01,  5.15858382e-02,\n",
              "        3.36884856e-02,  9.44927931e-02,  9.98455137e-02, -5.56635223e-02,\n",
              "       -1.62284330e-01,  2.38388091e-01,  8.31078738e-03, -7.34476894e-02,\n",
              "       -1.08296201e-01,  6.40900210e-02, -1.30532300e-02,  1.64562717e-01,\n",
              "        5.02874181e-02, -1.77713811e-01, -4.69116122e-03, -2.90708076e-02,\n",
              "        1.00689061e-01,  1.28326267e-01, -1.63036004e-01,  1.28823876e-01,\n",
              "       -4.02787179e-02, -1.83677584e-01,  7.98890889e-02, -4.12471667e-02,\n",
              "       -3.48612294e-02, -6.26894534e-02, -1.59047395e-01,  1.87391803e-01,\n",
              "        3.71768177e-02,  2.79565807e-02,  1.63159668e-01,  3.75718437e-02,\n",
              "        7.86873326e-02, -2.44909581e-02, -6.72861934e-02, -3.14295776e-02,\n",
              "        1.51372068e-02, -5.56141920e-02,  4.48027030e-02, -1.93316251e-01,\n",
              "        2.06538424e-01, -8.87603462e-02, -9.88327265e-02,  2.40609385e-02,\n",
              "       -1.47456363e-01,  8.88570175e-02, -9.27246436e-02, -9.50970054e-02,\n",
              "        1.18448839e-01,  3.29303920e-01,  1.54580414e-01,  1.43435687e-01,\n",
              "       -1.28814936e-01,  7.68910497e-02,  3.72115988e-03,  1.75254852e-01,\n",
              "       -8.40665251e-02, -2.76442617e-02, -5.33436462e-02,  7.45012611e-02,\n",
              "       -5.63166961e-02, -9.66539606e-04,  1.13127068e-01,  2.83497237e-02,\n",
              "        5.91475405e-02, -7.03010559e-02, -4.37492207e-02,  5.44570349e-02,\n",
              "       -2.06605077e-01,  3.03150155e-02, -1.34049416e-01, -3.00040841e-02,\n",
              "       -2.13847756e-02,  5.49306124e-02, -1.04515314e-01, -4.16764542e-02,\n",
              "       -5.24726398e-02, -5.46058267e-02, -1.92172214e-01, -2.53393352e-01,\n",
              "        1.28208563e-01, -3.39920893e-02,  5.07736392e-02,  3.05913612e-02,\n",
              "       -9.96698514e-02, -5.63710779e-02,  4.16795760e-02,  8.36478733e-03,\n",
              "       -1.09555885e-01,  4.91313301e-02,  3.91997732e-02,  2.97623277e-02,\n",
              "       -5.84195256e-02,  2.64039308e-01,  1.03534430e-01,  2.85770763e-02],\n",
              "      dtype=float32)"
            ]
          },
          "execution_count": 53,
          "metadata": {},
          "output_type": "execute_result"
        }
      ],
      "source": [
        "ft_model['man']"
      ]
    },
    {
      "cell_type": "markdown",
      "metadata": {
        "id": "V7cqE-3XfAM9"
      },
      "source": [
        "Now we can test a bit the capabilities of fastText (examples are taken from [here](https://fasttext.cc/docs/en/unsupervised-tutorial.html))."
      ]
    },
    {
      "cell_type": "markdown",
      "metadata": {
        "id": "BdNL7kcTlIzH"
      },
      "source": [
        "A base functionality is to search for close vectors in the embedding space"
      ]
    },
    {
      "cell_type": "code",
      "execution_count": null,
      "metadata": {
        "colab": {
          "base_uri": "https://localhost:8080/"
        },
        "id": "85EKLO7FfAXA",
        "outputId": "773429a6-0158-4503-89ba-691ec7a645d6"
      },
      "outputs": [
        {
          "data": {
            "text/plain": [
              "[(0.7746413350105286, 'aspargus'),\n",
              " (0.7368614077568054, 'Asparagus'),\n",
              " (0.7233701944351196, 'broccoli'),\n",
              " (0.7113494873046875, 'broccolini'),\n",
              " (0.7106742262840271, 'leeks'),\n",
              " (0.7096290588378906, 'artichokes'),\n",
              " (0.7028921842575073, 'asparagas'),\n",
              " (0.6759673953056335, 'kohlrabi'),\n",
              " (0.6757089495658875, 'radishes'),\n",
              " (0.6669561862945557, 'spinach')]"
            ]
          },
          "execution_count": 54,
          "metadata": {},
          "output_type": "execute_result"
        }
      ],
      "source": [
        "word = 'asparagus'\n",
        "\n",
        "ft_model.get_nearest_neighbors(word)"
      ]
    },
    {
      "cell_type": "markdown",
      "metadata": {
        "id": "q5dCaN3Dey3k"
      },
      "source": [
        "The first search takes additional time because the model is doing some sort of indexing in the embedding space. fastText uses a tool called FAISS to speed up the search in the embedding space (https://github.com/facebookresearch/faiss)"
      ]
    },
    {
      "cell_type": "markdown",
      "metadata": {
        "id": "i8t5WUH-fJSQ"
      },
      "source": [
        "We can also solve analogies directly, without doing the computations by hand"
      ]
    },
    {
      "cell_type": "code",
      "execution_count": null,
      "metadata": {
        "colab": {
          "base_uri": "https://localhost:8080/"
        },
        "id": "pXrLJK8jfJbN",
        "outputId": "b7afa2e7-c8df-4d00-8685-2338951d5eb7"
      },
      "outputs": [
        {
          "data": {
            "text/plain": [
              "[(0.6729540228843689, 'kings'),\n",
              " (0.6174856424331665, 'king-'),\n",
              " (0.6076122522354126, 'king.'),\n",
              " (0.5779222249984741, 'King'),\n",
              " (0.5720189213752747, 'king.The'),\n",
              " (0.5601366758346558, 'kingly'),\n",
              " (0.5598397254943848, 'prince'),\n",
              " (0.5453356504440308, 'king.But'),\n",
              " (0.5429127812385559, 'lord'),\n",
              " (0.5420817136764526, '-king')]"
            ]
          },
          "execution_count": 55,
          "metadata": {},
          "output_type": "execute_result"
        }
      ],
      "source": [
        "ft_model.get_analogies(\"man\", \"woman\", \"king\")\n",
        "# ft_model.get_analogies(\"psx\", \"sony\", \"nintendo\")"
      ]
    },
    {
      "cell_type": "markdown",
      "metadata": {
        "id": "YAEZQAPNmjTv"
      },
      "source": [
        "Note that we are dealing with a model using also subword n-grams, so we can get the representation and the similarity even of out of vocabulary words\n",
        "\n",
        "For example we can search for the word **confuzzling** (which is an actual real fake word https://en.wiktionary.org/wiki/confuzzling):"
      ]
    },
    {
      "cell_type": "code",
      "execution_count": null,
      "metadata": {
        "colab": {
          "base_uri": "https://localhost:8080/"
        },
        "id": "WIkjsmJvn-Ce",
        "outputId": "9ff2620f-4fc3-48e9-dfe3-995adf655b1c"
      },
      "outputs": [
        {
          "name": "stdout",
          "output_type": "stream",
          "text": [
            "Is the word \"confuzzling\" in the fastText model vocabulary? False\n",
            "0.613641083240509: confuzzled\n",
            "0.550931990146637: Confuzzled\n",
            "0.4055270850658417: confuddled\n",
            "0.3816613256931305: confusing\n",
            "0.36328595876693726: confused\n",
            "0.36032891273498535: nondescriptive\n",
            "0.359388530254364: Wikipedia-Page-Suzannah-B-Troy-6-yrs-after-Misogynist-Cyber-Vandalism-Censorship-via-Deletion-on-a-page-about-Censorship-Wikipedia-Agrees-to-retur\n",
            "0.3525550067424774: muddly\n",
            "0.3524904251098633: official-like\n",
            "0.3516576588153839: unflattering.Coordinating\n"
          ]
        }
      ],
      "source": [
        "word = \"confuzzling\"\n",
        "print(f'Is the word \"{word}\" in the fastText model vocabulary? {word in ft_model}')\n",
        "for s, w in ft_model.get_nearest_neighbors(word):\n",
        "    print(f'{s}: {w}')"
      ]
    },
    {
      "cell_type": "markdown",
      "metadata": {
        "id": "n2pV3BOHoAn4"
      },
      "source": [
        "This is why character n-grams are so important"
      ]
    },
    {
      "cell_type": "markdown",
      "metadata": {
        "id": "-CiyFm3Oey3l"
      },
      "source": [
        "We can also encode a sentence (sequence of tokens) into a single vector"
      ]
    },
    {
      "cell_type": "code",
      "execution_count": null,
      "metadata": {
        "colab": {
          "base_uri": "https://localhost:8080/"
        },
        "id": "VpkXDCiEey3m",
        "outputId": "661a7b73-e949-46cb-aa70-701045203533"
      },
      "outputs": [
        {
          "data": {
            "text/plain": [
              "array([ 9.72567871e-03, -1.81693081e-02,  1.98467262e-02,  3.74992117e-02,\n",
              "       -3.59138474e-02, -4.57771569e-02, -2.72532683e-02,  1.52418101e-02,\n",
              "        3.52445617e-02, -7.53624178e-03,  9.12996754e-03, -2.10552160e-02,\n",
              "        1.56272377e-03, -9.82039783e-05, -8.77684914e-03,  3.65382321e-02,\n",
              "        3.64734158e-02, -7.05009839e-03, -2.33118087e-02,  6.08711829e-03,\n",
              "       -1.99545734e-02,  1.54522238e-02,  6.07244065e-03, -8.34608357e-03,\n",
              "       -3.15462463e-02, -9.89805069e-03, -5.55238919e-04, -6.88232016e-03,\n",
              "       -1.15120355e-02,  1.13332726e-01,  2.06005611e-02, -1.42829418e-02,\n",
              "       -4.10122750e-03, -1.72664113e-02,  3.63585819e-03, -1.34615647e-02,\n",
              "       -4.80954209e-03,  4.18015793e-02, -8.03579669e-03, -5.55655640e-03,\n",
              "       -3.50303599e-03,  5.23055904e-03, -2.29117647e-02,  2.92630084e-02,\n",
              "        2.04842985e-02,  3.14234160e-02,  2.69671367e-03,  4.90053743e-02,\n",
              "        1.12765245e-02,  4.62619215e-03,  5.81054529e-03, -1.93861313e-02,\n",
              "        2.83782464e-03, -1.67906247e-02, -2.73843724e-02, -1.90940611e-02,\n",
              "       -2.87314001e-02, -2.75015947e-03, -6.57397807e-02, -6.99969940e-03,\n",
              "        1.24857184e-02, -8.20487388e-04, -1.48562761e-02, -2.38044374e-02,\n",
              "       -1.55957444e-02,  6.65766560e-03,  1.01082725e-02, -2.63807271e-02,\n",
              "        5.37982397e-03, -1.97686311e-02, -1.71130747e-02, -1.01001766e-02,\n",
              "       -1.09787043e-02, -1.05317784e-02, -9.84023418e-03, -8.84000864e-03,\n",
              "        2.20294278e-02,  1.01807080e-02, -2.01867130e-02, -1.07014319e-02,\n",
              "       -2.30140449e-03, -1.70639548e-02, -6.14872994e-03,  3.77793796e-02,\n",
              "       -1.51983332e-02,  8.82430526e-04,  1.63081381e-02,  3.15420181e-02,\n",
              "        3.46342996e-02, -2.07642070e-03, -1.01455227e-02, -2.21963469e-02,\n",
              "        1.20085992e-01, -2.47170683e-02, -3.93651379e-03,  1.47843389e-02,\n",
              "       -2.19641663e-02,  3.33386399e-02,  6.30210200e-03, -5.31568774e-04,\n",
              "        9.85516049e-03,  1.57738347e-02,  2.45013870e-02, -5.04032895e-02,\n",
              "       -2.86772917e-03,  3.74312233e-03,  5.90666989e-03, -1.19731538e-02,\n",
              "       -9.51060839e-03,  3.18147354e-02, -4.23025386e-03, -2.50816215e-02,\n",
              "       -4.44951048e-03,  5.48362173e-02, -5.97885251e-03,  3.35490418e-04,\n",
              "        5.40257385e-03,  1.93157159e-02,  9.49823856e-03,  9.22990963e-03,\n",
              "       -6.44654315e-03,  1.84089541e-02,  6.97864406e-03, -9.98760853e-03,\n",
              "        2.60523483e-02,  3.91055793e-02, -1.44942291e-02, -3.06311846e-02,\n",
              "       -1.64818224e-02,  2.83545423e-02,  6.74407184e-03, -3.35399993e-02,\n",
              "        4.63601090e-02,  1.43400459e-02,  1.51103102e-02, -3.57168838e-02,\n",
              "       -7.21709505e-02,  9.89099871e-03,  1.72942702e-04,  1.05020022e-02,\n",
              "       -2.54397653e-02, -2.65723094e-03,  7.78966863e-03,  3.41638178e-03,\n",
              "        2.90719923e-02,  2.88213808e-02, -2.04293147e-01, -7.63232820e-03,\n",
              "        4.07393230e-03,  2.32063141e-03, -5.25560267e-02, -2.20788294e-03,\n",
              "        1.10511016e-02,  3.85448784e-02, -7.09905615e-03, -1.07400753e-02,\n",
              "        6.98973909e-02,  9.88921523e-03,  1.12778405e-02,  6.80889981e-03,\n",
              "       -4.44709882e-03,  1.29796355e-03, -1.72076363e-03, -5.56946965e-03,\n",
              "        5.87231293e-03,  6.33573765e-03,  2.31747981e-02, -7.90966395e-03,\n",
              "        1.42229358e-02,  1.28066996e-02,  6.79592090e-03,  2.46544043e-03,\n",
              "       -1.16840629e-02,  6.73506968e-03,  1.11606503e-02, -2.94231921e-02,\n",
              "       -4.80693625e-03, -3.77772190e-02,  2.07332522e-02, -1.08723072e-02,\n",
              "        1.20459739e-02,  2.76545398e-02, -7.18570314e-03,  2.37664431e-02,\n",
              "        1.52243748e-02,  1.62549820e-02, -5.45680337e-03, -1.56360455e-02,\n",
              "        1.35150431e-02, -1.02946321e-02, -3.60844545e-02, -5.81913395e-03,\n",
              "       -2.99452688e-04, -1.34269800e-02, -1.33235017e-02,  4.67933854e-03,\n",
              "       -5.23591042e-03, -7.61942146e-03,  1.55100925e-02,  4.34672050e-02,\n",
              "       -3.93452123e-02,  7.63231665e-02, -5.74396225e-03, -2.23684981e-02,\n",
              "       -9.29937419e-03,  1.39698514e-03, -2.73167957e-02, -3.16865183e-02,\n",
              "        9.01725609e-03, -1.52197666e-02,  2.87998165e-03, -6.78938907e-03,\n",
              "       -1.75043494e-02,  8.25327064e-04,  5.83430799e-03, -1.03405640e-02,\n",
              "        1.68033578e-02,  1.82143655e-02,  2.17762217e-02, -3.85117112e-03,\n",
              "        1.55988140e-02,  3.93333882e-02, -1.15634808e-02,  1.36978207e-02,\n",
              "       -1.20003102e-02, -3.80420797e-02,  1.70185268e-02, -1.69083364e-02,\n",
              "       -4.47914330e-03,  1.10276509e-03, -6.27888803e-05,  5.13450429e-03,\n",
              "       -2.36676801e-02,  1.75183604e-03, -5.80153009e-03, -4.86875996e-02,\n",
              "       -2.43026740e-03, -5.56256901e-03,  1.50256902e-02, -9.55843367e-03,\n",
              "        2.34674127e-03,  1.41580636e-02, -7.86390621e-03, -7.69271106e-02,\n",
              "        2.54464388e-01, -1.19995847e-02, -3.09936162e-02,  2.66964808e-02,\n",
              "        1.56647675e-02, -5.45657892e-03,  3.70361917e-02, -1.24057243e-03,\n",
              "       -1.31606916e-02, -3.42799649e-02, -3.24210990e-03, -7.40021467e-03,\n",
              "       -3.67991813e-03, -2.00018543e-03,  1.92347188e-02,  9.79715493e-03,\n",
              "        1.03291485e-03,  3.97863425e-02,  1.01542631e-02,  5.11851441e-03,\n",
              "       -1.80702619e-02, -4.18641046e-03,  1.49878440e-02,  5.19764423e-03,\n",
              "        9.14397370e-03, -6.96600154e-02, -7.67690083e-03, -3.66979875e-02,\n",
              "       -2.45904680e-02,  3.70250712e-03,  2.24400274e-02, -2.23757178e-02,\n",
              "        1.79715436e-02, -8.35847482e-03,  5.23335813e-03,  2.31429515e-03,\n",
              "       -1.48976902e-02, -1.14535531e-02, -1.33328527e-01, -2.64611933e-02,\n",
              "        1.99319292e-02, -7.68285769e-04,  9.32648126e-03, -7.84917027e-02,\n",
              "       -1.71542703e-03, -7.22914794e-03,  4.42805514e-02, -8.75132810e-06,\n",
              "       -8.98919031e-02,  9.89831518e-03, -2.02262457e-02, -1.59065821e-03,\n",
              "        2.72551887e-02,  1.09358311e-01, -3.25395651e-02, -3.00224405e-02],\n",
              "      dtype=float32)"
            ]
          },
          "execution_count": 57,
          "metadata": {},
          "output_type": "execute_result"
        }
      ],
      "source": [
        "sent = ft_model.get_sentence_vector(\"Hello, is it me you're looking for? I can see it in your eyes. I can see it in your smile.\")\n",
        "sent"
      ]
    },
    {
      "cell_type": "markdown",
      "metadata": {
        "id": "Cqf6h0C_ey3m"
      },
      "source": [
        "(Maybe this can be useful to train a classifier for the twitter sentiment analysis...)"
      ]
    },
    {
      "cell_type": "markdown",
      "metadata": {
        "id": "Vpo8CajYey3m"
      },
      "source": [
        "What if we want to train a model on our own (maybe with smaller embeddings)?\n",
        "You can find a quick reference to the API [here](https://fasttext.cc/docs/en/python-module.html)\n",
        "\n",
        "To train a model we need to convert the data set into the appropriate format, a text file containing al the samples we have.\n",
        "We can start from the sentences we have from before"
      ]
    },
    {
      "cell_type": "code",
      "execution_count": null,
      "metadata": {
        "id": "xgg5eGt5ey3m"
      },
      "outputs": [],
      "source": [
        "with open('./data.txt', 'w') as f:\n",
        "    f.write('\\n'.join(sentences))"
      ]
    },
    {
      "cell_type": "markdown",
      "metadata": {
        "id": "rHufV8W3ey3m"
      },
      "source": [
        "We can even choose whether to use a Skipgram based approach:"
      ]
    },
    {
      "cell_type": "code",
      "execution_count": null,
      "metadata": {
        "id": "xn_KnZEPey3n",
        "outputId": "02827bc7-e3d0-4f42-c799-b9b2c8933382"
      },
      "outputs": [
        {
          "name": "stderr",
          "output_type": "stream",
          "text": [
            "Read 2M words\n",
            "Number of words:  26707\n",
            "Number of labels: 0\n",
            "Progress: 100.0% words/sec/thread:   83661 lr:  0.000000 avg.loss:  2.044407 ETA:   0h 0m 0s avg.loss:  2.101360 ETA:   0h 0m 8s 0.037527 avg.loss:  2.080895 ETA:   0h 0m 6s words/sec/thread:   82137 lr:  0.027677 avg.loss:  2.037345 ETA:   0h 0m 5s lr:  0.010877 avg.loss:  2.040431 ETA:   0h 0m 1s\n"
          ]
        }
      ],
      "source": [
        "ft_skip_model = fasttext.train_unsupervised('data.txt', model='skipgram', dim=30, minCount=5, ws=10)"
      ]
    },
    {
      "cell_type": "markdown",
      "metadata": {
        "id": "qUxk7rbOey3n"
      },
      "source": [
        "Or a Continuos Bag-of-Words (CBoW) approach:"
      ]
    },
    {
      "cell_type": "code",
      "execution_count": null,
      "metadata": {
        "id": "cXcPqs9fey3n",
        "outputId": "b26d5594-6a46-4ec0-bf74-67e8a50f86eb"
      },
      "outputs": [
        {
          "name": "stderr",
          "output_type": "stream",
          "text": [
            "Read 2M words\n",
            "Number of words:  26707\n",
            "Number of labels: 0\n",
            "Progress: 100.0% words/sec/thread:   69077 lr:  0.000000 avg.loss:  2.206113 ETA:   0h 0m 0s  67353 lr:  0.038057 avg.loss:  2.577021 ETA:   0h 0m 8s% words/sec/thread:   66407 lr:  0.024447 avg.loss:  2.378860 ETA:   0h 0m 5sh 0m 3s\n"
          ]
        }
      ],
      "source": [
        "ft_cbow_model = fasttext.train_unsupervised('data.txt', model='cbow')"
      ]
    },
    {
      "cell_type": "markdown",
      "metadata": {
        "id": "ZrDKKIASey3n"
      },
      "source": [
        "### Building a word representation from the sub-words\n",
        "\n",
        "How does fastText actually get to the word representation?\n",
        "Can we get a look at how the representation is built?\n",
        "\n",
        "If you want some additional details on what's going on under the hood, please take a look at this link: http://christopher5106.github.io/deep/learning/2020/04/02/fasttext_pretrained_embeddings_subword_word_representations.html"
      ]
    },
    {
      "cell_type": "markdown",
      "metadata": {
        "id": "smezp0dLey3o"
      },
      "source": [
        "We can use the `get_subwords()` method to get all the character n-grams composing a word and the corresponding IDs.\n",
        "The model we are using was trained with character 5-grams."
      ]
    },
    {
      "cell_type": "markdown",
      "metadata": {
        "id": "Fh6Euh1Vey3p"
      },
      "source": [
        "Let's see what happens when we pass a word to out function"
      ]
    },
    {
      "cell_type": "code",
      "execution_count": null,
      "metadata": {
        "colab": {
          "base_uri": "https://localhost:8080/"
        },
        "id": "-D3plkP_ey3p",
        "outputId": "c82a4130-d1d1-4f9f-bb4e-28fd8ab1829b"
      },
      "outputs": [
        {
          "name": "stdout",
          "output_type": "stream",
          "text": [
            "['happiness', '<happ', 'happi', 'appin', 'ppine', 'pines', 'iness', 'ness>']\n",
            "[   5303 3639000 2151425 3043427 3604793 2523952 2457215 2227900]\n"
          ]
        }
      ],
      "source": [
        "word = 'happiness'\n",
        "sub_words, sub_word_ids = ft_model.get_subwords(word)\n",
        "print(sub_words)\n",
        "print(sub_word_ids)"
      ]
    },
    {
      "cell_type": "markdown",
      "metadata": {
        "id": "-bLw-dW_ey3p"
      },
      "source": [
        "The first array contains the word to encode followed by its character n-grams, the second array contains the indices of the word and its n-grams in the fastText encoding matrix.\n"
      ]
    },
    {
      "cell_type": "markdown",
      "metadata": {
        "id": "cZ4tpb31ey3p"
      },
      "source": [
        "Finally, we can compute the word representation as the average of the embeddings of the word itself and the embeddings of its character n-grams"
      ]
    },
    {
      "cell_type": "code",
      "execution_count": null,
      "metadata": {
        "colab": {
          "base_uri": "https://localhost:8080/"
        },
        "id": "oFbMYPh3geBW",
        "outputId": "8f4e7829-570e-44f2-9146-6716aaf0a288"
      },
      "outputs": [
        {
          "data": {
            "text/plain": [
              "array([ 2.43761260e-02,  3.08370143e-02, -1.82935037e-02,  1.92747042e-02,\n",
              "        5.24661969e-03, -3.39045264e-02, -1.22417193e-02,  6.79974556e-02,\n",
              "        2.97031924e-02,  1.41781345e-02, -5.99632552e-03,  3.24566700e-02,\n",
              "       -6.19982481e-02,  7.10059237e-03,  3.57817323e-03, -3.29337753e-02,\n",
              "        7.59602641e-04, -1.92011595e-02, -5.47431074e-02,  4.62299399e-03,\n",
              "       -1.46642867e-02,  8.20630416e-02, -1.03985146e-02, -2.70312317e-02,\n",
              "       -3.93761918e-02,  1.33094080e-02, -1.58767700e-02, -5.90743832e-02,\n",
              "        4.97353896e-02,  8.92114043e-02,  5.08440509e-02, -3.04298364e-02,\n",
              "       -3.62707898e-02,  1.76737197e-02, -1.84959592e-03, -2.82385275e-02,\n",
              "        2.00545900e-02,  1.88715346e-02,  5.23229986e-02, -3.57023366e-02,\n",
              "       -5.00665791e-02,  5.56163443e-03, -1.07403509e-02,  5.34310527e-02,\n",
              "       -3.49775925e-02, -1.46959256e-03,  2.75344364e-02, -3.54247838e-02,\n",
              "       -1.98210757e-02, -3.99537161e-02, -4.37548906e-02,  5.29136742e-03,\n",
              "       -6.46033790e-03, -2.11020559e-02, -8.33227783e-02,  3.06888502e-02,\n",
              "        3.89677286e-02, -1.75225213e-02, -6.73726648e-02, -7.35343155e-03,\n",
              "       -3.80792213e-03, -2.38059033e-02, -3.26873139e-02, -2.40203366e-03,\n",
              "       -2.45236009e-02,  1.81855373e-02,  5.21273278e-02,  2.75492258e-02,\n",
              "       -1.23875402e-02,  5.43958023e-02, -8.78447760e-03, -4.58408445e-02,\n",
              "       -2.87884772e-02, -3.45445536e-02, -4.78063934e-02, -5.90667129e-02,\n",
              "       -8.12903866e-02,  3.68469022e-02, -2.17578746e-03,  5.96710388e-03,\n",
              "        2.59693339e-02,  2.98789181e-02, -8.68188916e-04,  2.57422756e-02,\n",
              "       -1.35573503e-02, -6.31085485e-02,  3.43239792e-02, -2.97417939e-02,\n",
              "       -1.43305827e-02,  2.19782125e-02, -7.79741630e-02, -2.77987383e-02,\n",
              "        1.79748256e-02, -1.66316759e-02,  1.82693414e-02,  2.31197011e-02,\n",
              "        3.66869345e-02,  5.49370907e-02, -2.50525121e-02, -3.84743474e-02,\n",
              "        5.41631654e-02, -3.22258379e-03, -1.57271307e-02,  2.82019079e-02,\n",
              "        5.14290482e-03,  3.99415940e-02, -4.22844552e-02, -5.16160727e-02,\n",
              "       -8.51662606e-02,  4.12943214e-02,  2.81122327e-03, -3.88853624e-02,\n",
              "       -4.63203005e-02,  4.30510677e-02, -3.10722515e-02, -6.91417372e-05,\n",
              "       -3.49915810e-02,  1.25323073e-03, -5.44217788e-03,  5.05799353e-02,\n",
              "        8.71812776e-02,  4.74442057e-02, -5.13566881e-02, -1.23618683e-02,\n",
              "        2.93553211e-02,  3.47397812e-02, -2.13506594e-02, -6.47193044e-02,\n",
              "       -5.84755689e-02,  1.21798720e-02, -2.74393223e-02, -1.67746507e-02,\n",
              "        2.65790746e-02,  7.06325192e-03,  3.23037133e-02, -3.11213434e-02,\n",
              "        3.02323718e-02, -7.32418895e-02,  3.88385057e-02, -5.29803447e-02,\n",
              "       -3.25780436e-02, -6.03005243e-03, -2.65895687e-02, -5.89839295e-02,\n",
              "       -3.08223143e-02, -3.63278054e-02, -6.88481629e-02,  1.87926777e-02,\n",
              "        2.44538598e-02, -8.21650214e-03, -1.01965358e-02, -3.44917402e-02,\n",
              "       -7.85811990e-03,  2.68215202e-02,  2.61807721e-02, -4.39158604e-02,\n",
              "        2.77042091e-02, -5.37077598e-02,  4.05189544e-02, -3.51586267e-02,\n",
              "       -8.80582072e-03, -4.20970507e-02, -4.80171293e-05, -1.14688827e-02,\n",
              "       -2.63095498e-02, -4.12876308e-02,  4.64802831e-02, -2.07530870e-03,\n",
              "        7.72867650e-02, -5.59825562e-02, -4.38053533e-02, -3.21695693e-02,\n",
              "       -2.43611056e-02,  2.97143627e-02, -6.67000329e-03, -4.10863608e-02,\n",
              "        3.42117995e-02,  3.25413682e-02, -5.09670712e-02, -3.63938361e-02,\n",
              "       -1.78588368e-02, -4.90688048e-02,  5.54219121e-03, -2.74044257e-02,\n",
              "       -1.07904393e-02,  2.70653442e-02, -2.86887810e-02, -4.93078344e-02,\n",
              "        2.41081752e-02, -6.01483211e-02,  5.01797050e-02,  6.53500408e-02,\n",
              "       -5.82428724e-02,  2.55513340e-02,  3.02193966e-02, -8.90765525e-03,\n",
              "       -3.56865190e-02,  2.61622574e-02, -6.02983637e-03,  3.70613486e-02,\n",
              "        5.66252843e-02,  3.02074943e-03, -2.29285751e-02, -2.99923737e-02,\n",
              "       -2.90422793e-02, -2.93860696e-02, -5.24010137e-02, -4.33018990e-02,\n",
              "        1.38238836e-02,  8.39067400e-02, -1.45187313e-02, -9.14442539e-02,\n",
              "        4.47705388e-03, -3.80011275e-04, -2.76892241e-02,  6.34342339e-03,\n",
              "       -1.60162169e-02, -1.53088942e-02,  1.13351978e-02,  8.92383829e-02,\n",
              "       -3.20932604e-02, -2.25169789e-02,  2.11793836e-02, -3.76144350e-02,\n",
              "       -4.57356572e-02, -4.22400050e-02,  2.88321748e-02, -8.15630518e-03,\n",
              "        4.20552343e-02, -4.62269448e-02,  6.10891916e-03,  4.42727609e-03,\n",
              "        6.90615689e-03,  5.75772151e-02,  3.03004980e-02, -3.02721951e-02,\n",
              "        4.16897573e-02,  3.94802503e-02, -2.33752541e-02, -3.59145068e-02,\n",
              "        4.58222395e-03,  3.69192325e-02, -2.09903605e-02, -5.01421541e-02,\n",
              "        2.97323763e-02, -1.93621032e-02, -1.00074429e-02, -1.96661577e-02,\n",
              "        3.38150859e-02,  5.16679510e-03,  1.01780482e-02,  1.06609957e-02,\n",
              "       -2.20471248e-03, -1.04015935e-02, -4.25644666e-02, -9.29920096e-03,\n",
              "       -5.45251518e-02,  2.20365468e-02, -2.73922570e-02, -4.81523648e-02,\n",
              "        8.41728318e-03, -2.29191408e-02, -1.82414372e-02, -5.17862402e-02,\n",
              "       -5.12596592e-03, -4.68518808e-02,  4.77616228e-02,  6.92860456e-03,\n",
              "       -1.82616636e-02, -8.94955918e-03,  1.70803536e-02,  1.89393274e-02,\n",
              "       -1.25003587e-02,  9.39648785e-03,  8.57291394e-04, -3.97665277e-02,\n",
              "       -3.43222395e-02,  2.91521940e-03,  1.27181131e-02,  4.11672033e-02,\n",
              "       -2.29718927e-02,  3.50051671e-02, -3.43964882e-02, -8.41140188e-03,\n",
              "        9.29306746e-02,  3.89201916e-04,  8.75943340e-03,  1.29394569e-02,\n",
              "        4.74389717e-02, -7.70587474e-02,  1.53834000e-02,  3.00232023e-02,\n",
              "       -1.56497527e-02,  2.17576511e-02,  4.28436473e-02, -4.29545157e-02,\n",
              "        4.36081812e-02,  6.95104897e-02, -3.45086530e-02,  3.36973779e-02],\n",
              "      dtype=float32)"
            ]
          },
          "execution_count": 64,
          "metadata": {},
          "output_type": "execute_result"
        }
      ],
      "source": [
        "import numpy as np\n",
        "\n",
        "word = 'happiness'\n",
        "sub_words, sub_word_ids = ft_model.get_subwords(word)\n",
        "\n",
        "embedding = np.mean([ft_model.get_input_vector(idx) for idx in sub_word_ids], axis=0)\n",
        "\n",
        "embedding"
      ]
    },
    {
      "cell_type": "markdown",
      "metadata": {
        "id": "3XgjH0qJey3p"
      },
      "source": [
        "Let's compare the embedding we retrieved with the original one"
      ]
    },
    {
      "cell_type": "code",
      "execution_count": null,
      "metadata": {
        "colab": {
          "base_uri": "https://localhost:8080/"
        },
        "id": "EZM5G1UFey3q",
        "outputId": "d09d49c4-b5a9-4501-9895-5ac753470a34"
      },
      "outputs": [
        {
          "data": {
            "text/plain": [
              "0.0"
            ]
          },
          "execution_count": 65,
          "metadata": {},
          "output_type": "execute_result"
        }
      ],
      "source": [
        "np.sum((embedding - ft_model[word]) ** 2) ** 2"
      ]
    }
  ],
  "metadata": {
    "colab": {
      "collapsed_sections": [
        "6PifwcbdWqKz"
      ],
      "provenance": [],
      "include_colab_link": true
    },
    "kernelspec": {
      "display_name": ".venv",
      "language": "python",
      "name": "python3"
    },
    "language_info": {
      "codemirror_mode": {
        "name": "ipython",
        "version": 3
      },
      "file_extension": ".py",
      "mimetype": "text/x-python",
      "name": "python",
      "nbconvert_exporter": "python",
      "pygments_lexer": "ipython3",
      "version": "3.13.2"
    }
  },
  "nbformat": 4,
  "nbformat_minor": 0
}