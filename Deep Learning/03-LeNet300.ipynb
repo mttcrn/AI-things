{
  "nbformat": 4,
  "nbformat_minor": 0,
  "metadata": {
    "colab": {
      "provenance": [],
      "include_colab_link": true
    },
    "kernelspec": {
      "name": "python3",
      "display_name": "Python 3"
    },
    "accelerator": "GPU"
  },
  "cells": [
    {
      "cell_type": "markdown",
      "metadata": {
        "id": "view-in-github",
        "colab_type": "text"
      },
      "source": [
        "<a href=\"https://colab.research.google.com/github/mttcrn/AI-things/blob/main/Deep%20Learning/03-LeNet300.ipynb\" target=\"_parent\"><img src=\"https://colab.research.google.com/assets/colab-badge.svg\" alt=\"Open In Colab\"/></a>"
      ]
    },
    {
      "cell_type": "markdown",
      "metadata": {
        "id": "iafPdtuncbq7"
      },
      "source": [
        "<h2><center>MNIST classification using <i>LeNet300</i></center></h2>\n"
      ]
    },
    {
      "cell_type": "markdown",
      "metadata": {
        "id": "I4VrCB5La5rD"
      },
      "source": [
        "# Importing Keras"
      ]
    },
    {
      "cell_type": "code",
      "metadata": {
        "id": "OlKZ3Hnas7B4",
        "colab": {
          "base_uri": "https://localhost:8080/"
        },
        "outputId": "cc5a3675-183c-4e6d-c8a6-e3a6154a5b47"
      },
      "source": [
        "# Importing the Keras 2.x main module relying on tensorflow 2.x backend\n",
        "import tensorflow as tf\n",
        "import keras\n",
        "print(\"Using tensorflow version \" + str(tf.__version__))\n",
        "print(\"Using keras version \" + str(keras.__version__))"
      ],
      "execution_count": null,
      "outputs": [
        {
          "output_type": "stream",
          "name": "stdout",
          "text": [
            "Using tensorflow version 2.9.2\n",
            "Using keras version 2.9.0\n"
          ]
        }
      ]
    },
    {
      "cell_type": "markdown",
      "metadata": {
        "id": "s_QLz9_jbRZq"
      },
      "source": [
        "# Loading and preparing the MNIST dataset\n",
        "Load the MNIST dataset made available by keras.datasets\n",
        "Verify the amount of system memory available before and after loading the dataset."
      ]
    },
    {
      "cell_type": "code",
      "metadata": {
        "id": "gG83hGyVmijn",
        "colab": {
          "base_uri": "https://localhost:8080/"
        },
        "outputId": "f6984f6b-54b0-4f45-a90b-9b3fec104b3a"
      },
      "source": [
        "# The MNSIT dataset is ready to be imported from Keras into RAM\n",
        "from keras.datasets import mnist\n",
        "\n",
        "(train_images,train_labels),(test_images,test_labels) = mnist.load_data()\n",
        "print(train_images.shape)\n",
        "print(test_images.shape)\n",
        "print(train_labels.shape)\n",
        "print(test_labels.shape)"
      ],
      "execution_count": null,
      "outputs": [
        {
          "output_type": "stream",
          "name": "stdout",
          "text": [
            "(60000, 28, 28)\n",
            "(10000, 28, 28)\n",
            "(60000,)\n",
            "(10000,)\n"
          ]
        }
      ]
    },
    {
      "cell_type": "markdown",
      "metadata": {
        "id": "gRPbU_Z4U6Ac"
      },
      "source": [
        "Using the pyplot package, visualize the fist sample of the training set"
      ]
    },
    {
      "cell_type": "code",
      "metadata": {
        "id": "x5VAu7oW0Zu4",
        "colab": {
          "base_uri": "https://localhost:8080/",
          "height": 300
        },
        "outputId": "d6fb1ea2-888e-4adb-fbe6-1d4099d86e61"
      },
      "source": [
        "# Let us visualize the FIRST training sample using the Gnuplot library\n",
        "from matplotlib import pyplot as plt\n",
        "\n",
        "print(\"Label for the first train image is: \" + str(train_labels[0]))\n",
        "plt.imshow(train_images[0])"
      ],
      "execution_count": null,
      "outputs": [
        {
          "output_type": "stream",
          "name": "stdout",
          "text": [
            "Label for the first train image is: 5\n"
          ]
        },
        {
          "output_type": "execute_result",
          "data": {
            "text/plain": [
              "<matplotlib.image.AxesImage at 0x7fe701090e90>"
            ]
          },
          "metadata": {},
          "execution_count": 15
        },
        {
          "output_type": "display_data",
          "data": {
            "text/plain": [
              "<Figure size 432x288 with 1 Axes>"
            ],
            "image/png": "[encoded data removed]"
          },
          "metadata": {
            "needs_background": "light"
          }
        }
      ]
    },
    {
      "cell_type": "markdown",
      "metadata": {
        "id": "s7YsRekMVDg-"
      },
      "source": [
        "Turn train and test labels to one-hot encoding"
      ]
    },
    {
      "cell_type": "code",
      "metadata": {
        "id": "lQbkllF8mnaf"
      },
      "source": [
        "from keras.utils.np_utils import to_categorical\n",
        "# It transform the labels vector in a matrix with the ONE-HOT encoding\n",
        "\n",
        "train_labels = to_categorical(train_labels)\n",
        "test_labels = to_categorical(test_labels)"
      ],
      "execution_count": null,
      "outputs": []
    },
    {
      "cell_type": "markdown",
      "metadata": {
        "id": "0jv29YLtVO3q"
      },
      "source": [
        "Reshape train and test images so that they follow the NWHC ordering required by the TF backend.\n",
        "Then, after casting the pixels to floats, normalize the images so that they have zero-mean and unitary deviation"
      ]
    },
    {
      "cell_type": "code",
      "metadata": {
        "id": "ptTRSDo5nJyZ",
        "colab": {
          "base_uri": "https://localhost:8080/"
        },
        "outputId": "47b481f2-c7ab-4d64-fa91-675465e1e29e"
      },
      "source": [
        "# Reshape to proper images with 1 color channel according to backend scheme that is in 4D\n",
        "img_rows, img_cols = train_images.shape[1], train_images.shape[2]\n",
        "train_images = train_images.reshape(train_images.shape[0], img_rows, img_cols, 1)\n",
        "test_images = test_images.reshape(test_images.shape[0], img_rows, img_cols, 1)\n",
        "print(test_images.shape)\n",
        "\n",
        "# Cast pixels from uint8 to float32\n",
        "train_images = train_images.astype('float32')\n",
        "test_images = test_images.astype('float32')\n",
        "\n",
        "# Now lets normalize the images so that they have zero mean and standard deviation\n",
        "train_images = (train_images - train_images.mean()) / (train_images.std())\n",
        "test_images = (test_images - test_images.mean()) / (test_images.std())"
      ],
      "execution_count": null,
      "outputs": [
        {
          "output_type": "stream",
          "name": "stdout",
          "text": [
            "(10000, 28, 28, 1)\n"
          ]
        }
      ]
    },
    {
      "cell_type": "markdown",
      "metadata": {
        "id": "uwm1OFOtc4uU"
      },
      "source": [
        "# Defining the neural network architecture (i.e., the network model)"
      ]
    },
    {
      "cell_type": "markdown",
      "metadata": {
        "id": "lnKYaP-KVoOs"
      },
      "source": [
        "Create a LeNet300-like fully connected network taking in input the images as vectors of pixels and suitable to classify each image across 10 different classes. For this first implementation of the network, use only sigmoid activations in the hidden layer. Which activation function shall be used for the output layer ?"
      ]
    },
    {
      "cell_type": "code",
      "metadata": {
        "id": "Pnd3q1V3nk8v"
      },
      "source": [
        "# The Sequential module is a container for more complex NN elements and\n",
        "# defines a loop-less NN architecture\n",
        "from keras.models import Sequential\n",
        "from keras.layers import Dense, Activation, Flatten\n",
        "\n",
        "\n",
        "input_shape = (img_rows, img_cols, 1)\n",
        "output_shape = 10\n",
        "\n",
        "model = Sequential()\n",
        "\n",
        "model.add(Flatten(input_shape = input_shape))\n",
        "\n",
        "# Hidden layers\n",
        "# 1st layer\n",
        "model.add(Dense(300))\n",
        "model.add(Activation('sigmoid'))\n",
        "# 2nd layer\n",
        "model.add(Dense(100))\n",
        "model.add(Activation('sigmoid'))\n",
        "# output layer\n",
        "model.add(Dense(output_shape))\n",
        "model.add(Activation('softmax')) #activation function for classification"
      ],
      "execution_count": null,
      "outputs": []
    },
    {
      "cell_type": "markdown",
      "metadata": {
        "id": "7g2PNEiwWBLw"
      },
      "source": [
        "Instantiate a SGD optimizer with a tentative LR of $10^{-4}$ and using the appropriate loss function and compile the model."
      ]
    },
    {
      "cell_type": "code",
      "metadata": {
        "id": "SijGZGKjV9J2",
        "colab": {
          "base_uri": "https://localhost:8080/"
        },
        "outputId": "fd4d7bb7-5ecb-4bcd-843a-42995dff9dd9"
      },
      "source": [
        "# The optimizers module provides a number of optimization algorithms for updating\n",
        "# a netwok parameters accoridng to the computed error gradints\n",
        "opt = tf.keras.optimizers.SGD(lr=1e-3)\n",
        "\n",
        "# Compiling a model in Keras amounts to associating the optimizer to a model\n",
        "# with an appropriate loss function\n",
        "model.compile(optimizer=opt, loss='categorical_crossentropy', metrics=['accuracy'])\n",
        "\n",
        "# Look at the defined model topology\n",
        "model.summary()"
      ],
      "execution_count": null,
      "outputs": [
        {
          "output_type": "stream",
          "name": "stdout",
          "text": [
            "Model: \"sequential_1\"\n",
            "_________________________________________________________________\n",
            " Layer (type)                Output Shape              Param #   \n",
            "=================================================================\n",
            " flatten_1 (Flatten)         (None, 784)               0         \n",
            "                                                                 \n",
            " dense_3 (Dense)             (None, 300)               235500    \n",
            "                                                                 \n",
            " activation_3 (Activation)   (None, 300)               0         \n",
            "                                                                 \n",
            " dense_4 (Dense)             (None, 100)               30100     \n",
            "                                                                 \n",
            " activation_4 (Activation)   (None, 100)               0         \n",
            "                                                                 \n",
            " dense_5 (Dense)             (None, 10)                1010      \n",
            "                                                                 \n",
            " activation_5 (Activation)   (None, 10)                0         \n",
            "                                                                 \n",
            "=================================================================\n",
            "Total params: 266,610\n",
            "Trainable params: 266,610\n",
            "Non-trainable params: 0\n",
            "_________________________________________________________________\n"
          ]
        }
      ]
    },
    {
      "cell_type": "markdown",
      "metadata": {
        "id": "_AWUAW4idF3D"
      },
      "source": [
        "# Training the network"
      ]
    },
    {
      "cell_type": "markdown",
      "metadata": {
        "id": "u-WqMtSAWTRp"
      },
      "source": [
        "Train the model for 10 epochs using the fit() method, without batch training initially validating the model at each epoch and keeping track of the training history for later plotting. Make sure you enable fit() verbose mode for interactive output."
      ]
    },
    {
      "cell_type": "code",
      "metadata": {
        "id": "gTHrbb7uFYWz",
        "colab": {
          "base_uri": "https://localhost:8080/"
        },
        "outputId": "ff4a17dd-2857-4788-fe4a-a71c422d19c6"
      },
      "source": [
        "# This is where the actual training-testing happens\n",
        "batch_size = 128\n",
        "# Number of epochs we want to train\n",
        "epochs = 100\n",
        "\n",
        "n_train_samples = 60000\n",
        "history = model.fit(train_images[:n_train_samples], train_labels[:n_train_samples],\n",
        "          batch_size=batch_size, epochs=epochs,\n",
        "          verbose=1, shuffle=True, validation_data=(test_images, test_labels))"
      ],
      "execution_count": null,
      "outputs": [
        {
          "output_type": "stream",
          "name": "stdout",
          "text": [
            "Epoch 1/100\n",
            "469/469 [==============================] - 6s 7ms/step - loss: 2.3256 - accuracy: 0.1274 - val_loss: 2.2710 - val_accuracy: 0.1574\n",
            "Epoch 2/100\n",
            "469/469 [==============================] - 3s 6ms/step - loss: 2.2446 - accuracy: 0.2355 - val_loss: 2.2218 - val_accuracy: 0.3078\n",
            "Epoch 3/100\n",
            "469/469 [==============================] - 2s 5ms/step - loss: 2.2012 - accuracy: 0.3723 - val_loss: 2.1793 - val_accuracy: 0.4208\n",
            "Epoch 4/100\n",
            "469/469 [==============================] - 2s 4ms/step - loss: 2.1593 - accuracy: 0.4573 - val_loss: 2.1367 - val_accuracy: 0.4994\n",
            "Epoch 5/100\n",
            "469/469 [==============================] - 2s 3ms/step - loss: 2.1168 - accuracy: 0.5216 - val_loss: 2.0932 - val_accuracy: 0.5426\n",
            "Epoch 6/100\n",
            "469/469 [==============================] - 2s 4ms/step - loss: 2.0733 - accuracy: 0.5597 - val_loss: 2.0485 - val_accuracy: 0.5764\n",
            "Epoch 7/100\n",
            "469/469 [==============================] - 2s 3ms/step - loss: 2.0285 - accuracy: 0.5868 - val_loss: 2.0025 - val_accuracy: 0.6080\n",
            "Epoch 8/100\n",
            "469/469 [==============================] - 2s 3ms/step - loss: 1.9824 - accuracy: 0.6122 - val_loss: 1.9552 - val_accuracy: 0.6241\n",
            "Epoch 9/100\n",
            "469/469 [==============================] - 2s 3ms/step - loss: 1.9350 - accuracy: 0.6285 - val_loss: 1.9066 - val_accuracy: 0.6422\n",
            "Epoch 10/100\n",
            "469/469 [==============================] - 2s 4ms/step - loss: 1.8864 - accuracy: 0.6426 - val_loss: 1.8570 - val_accuracy: 0.6562\n",
            "Epoch 11/100\n",
            "469/469 [==============================] - 2s 3ms/step - loss: 1.8369 - accuracy: 0.6585 - val_loss: 1.8066 - val_accuracy: 0.6657\n",
            "Epoch 12/100\n",
            "469/469 [==============================] - 2s 4ms/step - loss: 1.7868 - accuracy: 0.6677 - val_loss: 1.7557 - val_accuracy: 0.6773\n",
            "Epoch 13/100\n",
            "469/469 [==============================] - 2s 4ms/step - loss: 1.7362 - accuracy: 0.6767 - val_loss: 1.7046 - val_accuracy: 0.6917\n",
            "Epoch 14/100\n",
            "469/469 [==============================] - 2s 4ms/step - loss: 1.6857 - accuracy: 0.6876 - val_loss: 1.6537 - val_accuracy: 0.7046\n",
            "Epoch 15/100\n",
            "469/469 [==============================] - 2s 4ms/step - loss: 1.6354 - accuracy: 0.6980 - val_loss: 1.6033 - val_accuracy: 0.7133\n",
            "Epoch 16/100\n",
            "469/469 [==============================] - 2s 3ms/step - loss: 1.5858 - accuracy: 0.7067 - val_loss: 1.5537 - val_accuracy: 0.7221\n",
            "Epoch 17/100\n",
            "469/469 [==============================] - 2s 3ms/step - loss: 1.5370 - accuracy: 0.7155 - val_loss: 1.5052 - val_accuracy: 0.7288\n",
            "Epoch 18/100\n",
            "469/469 [==============================] - 2s 3ms/step - loss: 1.4894 - accuracy: 0.7238 - val_loss: 1.4580 - val_accuracy: 0.7376\n",
            "Epoch 19/100\n",
            "469/469 [==============================] - 2s 3ms/step - loss: 1.4432 - accuracy: 0.7321 - val_loss: 1.4123 - val_accuracy: 0.7460\n",
            "Epoch 20/100\n",
            "469/469 [==============================] - 2s 4ms/step - loss: 1.3985 - accuracy: 0.7387 - val_loss: 1.3682 - val_accuracy: 0.7523\n",
            "Epoch 21/100\n",
            "469/469 [==============================] - 2s 3ms/step - loss: 1.3554 - accuracy: 0.7451 - val_loss: 1.3258 - val_accuracy: 0.7591\n",
            "Epoch 22/100\n",
            "469/469 [==============================] - 2s 4ms/step - loss: 1.3140 - accuracy: 0.7520 - val_loss: 1.2853 - val_accuracy: 0.7652\n",
            "Epoch 23/100\n",
            "469/469 [==============================] - 2s 4ms/step - loss: 1.2745 - accuracy: 0.7581 - val_loss: 1.2465 - val_accuracy: 0.7715\n",
            "Epoch 24/100\n",
            "469/469 [==============================] - 2s 4ms/step - loss: 1.2367 - accuracy: 0.7641 - val_loss: 1.2096 - val_accuracy: 0.7761\n",
            "Epoch 25/100\n",
            "469/469 [==============================] - 2s 4ms/step - loss: 1.2007 - accuracy: 0.7693 - val_loss: 1.1743 - val_accuracy: 0.7815\n",
            "Epoch 26/100\n",
            "469/469 [==============================] - 2s 4ms/step - loss: 1.1664 - accuracy: 0.7749 - val_loss: 1.1409 - val_accuracy: 0.7874\n",
            "Epoch 27/100\n",
            "469/469 [==============================] - 2s 3ms/step - loss: 1.1339 - accuracy: 0.7798 - val_loss: 1.1091 - val_accuracy: 0.7914\n",
            "Epoch 28/100\n",
            "469/469 [==============================] - 2s 3ms/step - loss: 1.1030 - accuracy: 0.7846 - val_loss: 1.0790 - val_accuracy: 0.7962\n",
            "Epoch 29/100\n",
            "469/469 [==============================] - 2s 4ms/step - loss: 1.0737 - accuracy: 0.7893 - val_loss: 1.0504 - val_accuracy: 0.8001\n",
            "Epoch 30/100\n",
            "469/469 [==============================] - 2s 4ms/step - loss: 1.0459 - accuracy: 0.7937 - val_loss: 1.0233 - val_accuracy: 0.8048\n",
            "Epoch 31/100\n",
            "469/469 [==============================] - 2s 3ms/step - loss: 1.0195 - accuracy: 0.7976 - val_loss: 0.9976 - val_accuracy: 0.8083\n",
            "Epoch 32/100\n",
            "469/469 [==============================] - 2s 4ms/step - loss: 0.9945 - accuracy: 0.8013 - val_loss: 0.9732 - val_accuracy: 0.8116\n",
            "Epoch 33/100\n",
            "469/469 [==============================] - 2s 3ms/step - loss: 0.9708 - accuracy: 0.8042 - val_loss: 0.9500 - val_accuracy: 0.8140\n",
            "Epoch 34/100\n",
            "469/469 [==============================] - 2s 4ms/step - loss: 0.9483 - accuracy: 0.8085 - val_loss: 0.9280 - val_accuracy: 0.8161\n",
            "Epoch 35/100\n",
            "469/469 [==============================] - 2s 4ms/step - loss: 0.9269 - accuracy: 0.8116 - val_loss: 0.9071 - val_accuracy: 0.8194\n",
            "Epoch 36/100\n",
            "469/469 [==============================] - 2s 3ms/step - loss: 0.9065 - accuracy: 0.8151 - val_loss: 0.8872 - val_accuracy: 0.8219\n",
            "Epoch 37/100\n",
            "469/469 [==============================] - 2s 3ms/step - loss: 0.8872 - accuracy: 0.8175 - val_loss: 0.8683 - val_accuracy: 0.8248\n",
            "Epoch 38/100\n",
            "469/469 [==============================] - 2s 3ms/step - loss: 0.8688 - accuracy: 0.8206 - val_loss: 0.8503 - val_accuracy: 0.8281\n",
            "Epoch 39/100\n",
            "469/469 [==============================] - 2s 4ms/step - loss: 0.8513 - accuracy: 0.8230 - val_loss: 0.8332 - val_accuracy: 0.8310\n",
            "Epoch 40/100\n",
            "469/469 [==============================] - 2s 3ms/step - loss: 0.8345 - accuracy: 0.8253 - val_loss: 0.8168 - val_accuracy: 0.8327\n",
            "Epoch 41/100\n",
            "469/469 [==============================] - 2s 4ms/step - loss: 0.8186 - accuracy: 0.8280 - val_loss: 0.8012 - val_accuracy: 0.8360\n",
            "Epoch 42/100\n",
            "469/469 [==============================] - 2s 4ms/step - loss: 0.8034 - accuracy: 0.8309 - val_loss: 0.7863 - val_accuracy: 0.8368\n",
            "Epoch 43/100\n",
            "469/469 [==============================] - 2s 4ms/step - loss: 0.7889 - accuracy: 0.8321 - val_loss: 0.7720 - val_accuracy: 0.8389\n",
            "Epoch 44/100\n",
            "469/469 [==============================] - 2s 3ms/step - loss: 0.7750 - accuracy: 0.8342 - val_loss: 0.7584 - val_accuracy: 0.8395\n",
            "Epoch 45/100\n",
            "469/469 [==============================] - 2s 4ms/step - loss: 0.7617 - accuracy: 0.8366 - val_loss: 0.7453 - val_accuracy: 0.8426\n",
            "Epoch 46/100\n",
            "469/469 [==============================] - 2s 4ms/step - loss: 0.7490 - accuracy: 0.8383 - val_loss: 0.7328 - val_accuracy: 0.8454\n",
            "Epoch 47/100\n",
            "469/469 [==============================] - 2s 3ms/step - loss: 0.7368 - accuracy: 0.8403 - val_loss: 0.7208 - val_accuracy: 0.8467\n",
            "Epoch 48/100\n",
            "469/469 [==============================] - 2s 3ms/step - loss: 0.7251 - accuracy: 0.8419 - val_loss: 0.7093 - val_accuracy: 0.8483\n",
            "Epoch 49/100\n",
            "469/469 [==============================] - 2s 4ms/step - loss: 0.7139 - accuracy: 0.8437 - val_loss: 0.6983 - val_accuracy: 0.8499\n",
            "Epoch 50/100\n",
            "469/469 [==============================] - 2s 4ms/step - loss: 0.7031 - accuracy: 0.8453 - val_loss: 0.6876 - val_accuracy: 0.8512\n",
            "Epoch 51/100\n",
            "469/469 [==============================] - 2s 4ms/step - loss: 0.6928 - accuracy: 0.8472 - val_loss: 0.6774 - val_accuracy: 0.8527\n",
            "Epoch 52/100\n",
            "469/469 [==============================] - 2s 4ms/step - loss: 0.6828 - accuracy: 0.8483 - val_loss: 0.6676 - val_accuracy: 0.8536\n",
            "Epoch 53/100\n",
            "469/469 [==============================] - 2s 3ms/step - loss: 0.6732 - accuracy: 0.8494 - val_loss: 0.6581 - val_accuracy: 0.8556\n",
            "Epoch 54/100\n",
            "469/469 [==============================] - 2s 4ms/step - loss: 0.6640 - accuracy: 0.8510 - val_loss: 0.6490 - val_accuracy: 0.8574\n",
            "Epoch 55/100\n",
            "469/469 [==============================] - 2s 3ms/step - loss: 0.6551 - accuracy: 0.8524 - val_loss: 0.6402 - val_accuracy: 0.8590\n",
            "Epoch 56/100\n",
            "469/469 [==============================] - 2s 4ms/step - loss: 0.6466 - accuracy: 0.8536 - val_loss: 0.6318 - val_accuracy: 0.8610\n",
            "Epoch 57/100\n",
            "469/469 [==============================] - 2s 4ms/step - loss: 0.6383 - accuracy: 0.8551 - val_loss: 0.6236 - val_accuracy: 0.8622\n",
            "Epoch 58/100\n",
            "469/469 [==============================] - 2s 5ms/step - loss: 0.6303 - accuracy: 0.8564 - val_loss: 0.6157 - val_accuracy: 0.8637\n",
            "Epoch 59/100\n",
            "469/469 [==============================] - 2s 4ms/step - loss: 0.6227 - accuracy: 0.8577 - val_loss: 0.6081 - val_accuracy: 0.8650\n",
            "Epoch 60/100\n",
            "469/469 [==============================] - 3s 6ms/step - loss: 0.6152 - accuracy: 0.8586 - val_loss: 0.6008 - val_accuracy: 0.8662\n",
            "Epoch 61/100\n",
            "469/469 [==============================] - 3s 7ms/step - loss: 0.6080 - accuracy: 0.8600 - val_loss: 0.5936 - val_accuracy: 0.8672\n",
            "Epoch 62/100\n",
            "469/469 [==============================] - 4s 8ms/step - loss: 0.6011 - accuracy: 0.8612 - val_loss: 0.5868 - val_accuracy: 0.8683\n",
            "Epoch 63/100\n",
            "469/469 [==============================] - 2s 5ms/step - loss: 0.5944 - accuracy: 0.8627 - val_loss: 0.5801 - val_accuracy: 0.8692\n",
            "Epoch 64/100\n",
            "469/469 [==============================] - 3s 6ms/step - loss: 0.5879 - accuracy: 0.8634 - val_loss: 0.5737 - val_accuracy: 0.8705\n",
            "Epoch 65/100\n",
            "469/469 [==============================] - 3s 5ms/step - loss: 0.5816 - accuracy: 0.8645 - val_loss: 0.5674 - val_accuracy: 0.8713\n",
            "Epoch 66/100\n",
            "469/469 [==============================] - 3s 6ms/step - loss: 0.5755 - accuracy: 0.8656 - val_loss: 0.5614 - val_accuracy: 0.8728\n",
            "Epoch 67/100\n",
            "469/469 [==============================] - 2s 5ms/step - loss: 0.5696 - accuracy: 0.8664 - val_loss: 0.5556 - val_accuracy: 0.8742\n",
            "Epoch 68/100\n",
            "469/469 [==============================] - 2s 5ms/step - loss: 0.5639 - accuracy: 0.8674 - val_loss: 0.5499 - val_accuracy: 0.8755\n",
            "Epoch 69/100\n",
            "469/469 [==============================] - 2s 4ms/step - loss: 0.5584 - accuracy: 0.8680 - val_loss: 0.5444 - val_accuracy: 0.8764\n",
            "Epoch 70/100\n",
            "469/469 [==============================] - 2s 4ms/step - loss: 0.5530 - accuracy: 0.8689 - val_loss: 0.5391 - val_accuracy: 0.8769\n",
            "Epoch 71/100\n",
            "469/469 [==============================] - 2s 3ms/step - loss: 0.5478 - accuracy: 0.8699 - val_loss: 0.5339 - val_accuracy: 0.8780\n",
            "Epoch 72/100\n",
            "469/469 [==============================] - 2s 4ms/step - loss: 0.5427 - accuracy: 0.8704 - val_loss: 0.5288 - val_accuracy: 0.8786\n",
            "Epoch 73/100\n",
            "469/469 [==============================] - 2s 3ms/step - loss: 0.5378 - accuracy: 0.8713 - val_loss: 0.5240 - val_accuracy: 0.8796\n",
            "Epoch 74/100\n",
            "469/469 [==============================] - 2s 3ms/step - loss: 0.5330 - accuracy: 0.8719 - val_loss: 0.5193 - val_accuracy: 0.8803\n",
            "Epoch 75/100\n",
            "469/469 [==============================] - 2s 3ms/step - loss: 0.5284 - accuracy: 0.8726 - val_loss: 0.5147 - val_accuracy: 0.8803\n",
            "Epoch 76/100\n",
            "469/469 [==============================] - 2s 4ms/step - loss: 0.5239 - accuracy: 0.8734 - val_loss: 0.5102 - val_accuracy: 0.8807\n",
            "Epoch 77/100\n",
            "469/469 [==============================] - 2s 4ms/step - loss: 0.5195 - accuracy: 0.8740 - val_loss: 0.5059 - val_accuracy: 0.8819\n",
            "Epoch 78/100\n",
            "469/469 [==============================] - 2s 4ms/step - loss: 0.5152 - accuracy: 0.8747 - val_loss: 0.5016 - val_accuracy: 0.8825\n",
            "Epoch 79/100\n",
            "469/469 [==============================] - 2s 3ms/step - loss: 0.5111 - accuracy: 0.8755 - val_loss: 0.4975 - val_accuracy: 0.8833\n",
            "Epoch 80/100\n",
            "469/469 [==============================] - 2s 4ms/step - loss: 0.5070 - accuracy: 0.8760 - val_loss: 0.4935 - val_accuracy: 0.8844\n",
            "Epoch 81/100\n",
            "469/469 [==============================] - 2s 4ms/step - loss: 0.5031 - accuracy: 0.8769 - val_loss: 0.4896 - val_accuracy: 0.8853\n",
            "Epoch 82/100\n",
            "469/469 [==============================] - 2s 3ms/step - loss: 0.4993 - accuracy: 0.8774 - val_loss: 0.4858 - val_accuracy: 0.8864\n",
            "Epoch 83/100\n",
            "469/469 [==============================] - 2s 3ms/step - loss: 0.4956 - accuracy: 0.8778 - val_loss: 0.4821 - val_accuracy: 0.8869\n",
            "Epoch 84/100\n",
            "469/469 [==============================] - 2s 4ms/step - loss: 0.4919 - accuracy: 0.8784 - val_loss: 0.4785 - val_accuracy: 0.8875\n",
            "Epoch 85/100\n",
            "469/469 [==============================] - 2s 5ms/step - loss: 0.4884 - accuracy: 0.8791 - val_loss: 0.4750 - val_accuracy: 0.8877\n",
            "Epoch 86/100\n",
            "469/469 [==============================] - 2s 4ms/step - loss: 0.4849 - accuracy: 0.8797 - val_loss: 0.4716 - val_accuracy: 0.8884\n",
            "Epoch 87/100\n",
            "469/469 [==============================] - 2s 3ms/step - loss: 0.4816 - accuracy: 0.8801 - val_loss: 0.4683 - val_accuracy: 0.8889\n",
            "Epoch 88/100\n",
            "469/469 [==============================] - 2s 3ms/step - loss: 0.4783 - accuracy: 0.8809 - val_loss: 0.4650 - val_accuracy: 0.8887\n",
            "Epoch 89/100\n",
            "469/469 [==============================] - 2s 3ms/step - loss: 0.4751 - accuracy: 0.8813 - val_loss: 0.4619 - val_accuracy: 0.8895\n",
            "Epoch 90/100\n",
            "469/469 [==============================] - 2s 4ms/step - loss: 0.4719 - accuracy: 0.8819 - val_loss: 0.4587 - val_accuracy: 0.8898\n",
            "Epoch 91/100\n",
            "469/469 [==============================] - 2s 3ms/step - loss: 0.4689 - accuracy: 0.8824 - val_loss: 0.4557 - val_accuracy: 0.8899\n",
            "Epoch 92/100\n",
            "469/469 [==============================] - 2s 4ms/step - loss: 0.4659 - accuracy: 0.8829 - val_loss: 0.4528 - val_accuracy: 0.8906\n",
            "Epoch 93/100\n",
            "469/469 [==============================] - 2s 3ms/step - loss: 0.4630 - accuracy: 0.8833 - val_loss: 0.4499 - val_accuracy: 0.8911\n",
            "Epoch 94/100\n",
            "469/469 [==============================] - 2s 4ms/step - loss: 0.4602 - accuracy: 0.8838 - val_loss: 0.4471 - val_accuracy: 0.8918\n",
            "Epoch 95/100\n",
            "469/469 [==============================] - 2s 3ms/step - loss: 0.4574 - accuracy: 0.8842 - val_loss: 0.4444 - val_accuracy: 0.8919\n",
            "Epoch 96/100\n",
            "469/469 [==============================] - 2s 4ms/step - loss: 0.4547 - accuracy: 0.8849 - val_loss: 0.4417 - val_accuracy: 0.8916\n",
            "Epoch 97/100\n",
            "469/469 [==============================] - 2s 4ms/step - loss: 0.4520 - accuracy: 0.8851 - val_loss: 0.4391 - val_accuracy: 0.8919\n",
            "Epoch 98/100\n",
            "469/469 [==============================] - 2s 4ms/step - loss: 0.4494 - accuracy: 0.8858 - val_loss: 0.4365 - val_accuracy: 0.8923\n",
            "Epoch 99/100\n",
            "469/469 [==============================] - 2s 3ms/step - loss: 0.4469 - accuracy: 0.8859 - val_loss: 0.4340 - val_accuracy: 0.8926\n",
            "Epoch 100/100\n",
            "469/469 [==============================] - 2s 3ms/step - loss: 0.4444 - accuracy: 0.8866 - val_loss: 0.4315 - val_accuracy: 0.8931\n"
          ]
        }
      ]
    },
    {
      "cell_type": "markdown",
      "metadata": {
        "id": "ODUc5Bq_dMEq"
      },
      "source": [
        "# Visualizing the network performance\n",
        "Visualize the training history using the pyplot package: plot in one graph the train and vaidation loss functions, in another graph the train and validation accuracy. By comparing the training the testing curves, what can we conclude about the quality of the training ?"
      ]
    },
    {
      "cell_type": "code",
      "metadata": {
        "id": "QdJrRbyariEw",
        "colab": {
          "base_uri": "https://localhost:8080/",
          "height": 573
        },
        "outputId": "d4eae4eb-2d82-48ff-b84b-575799c81a4e"
      },
      "source": [
        "# We now want to plot the train and validation loss functions and accuracy curves\n",
        "#print(history.history.keys())\n",
        "\n",
        "# summarize history for loss\n",
        "plt.plot(history.history['loss'])\n",
        "plt.plot(history.history['val_loss'])\n",
        "plt.title('model loss')\n",
        "plt.ylabel('loss')\n",
        "plt.xlabel('epoch')\n",
        "plt.legend(['train', 'test'], loc='upper right')\n",
        "plt.show()\n",
        "\n",
        "# summarize history for accuracy\n",
        "plt.plot(history.history['accuracy'])\n",
        "plt.plot(history.history['val_accuracy'])\n",
        "plt.title('model accuracy')\n",
        "plt.ylabel('accuracy')\n",
        "plt.xlabel('epoch')\n",
        "plt.legend(['train', 'test'], loc='lower right')\n",
        "plt.show()\n"
      ],
      "execution_count": null,
      "outputs": [
        {
          "output_type": "display_data",
          "data": {
            "text/plain": [
              "<Figure size 432x288 with 1 Axes>"
            ],
            "image/png": "[encoded data removed]"
          },
          "metadata": {
            "needs_background": "light"
          }
        },
        {
          "output_type": "display_data",
          "data": {
            "text/plain": [
              "<Figure size 432x288 with 1 Axes>"
            ],
            "image/png": "[encoded data removed]"
          },
          "metadata": {
            "needs_background": "light"
          }
        }
      ]
    },
    {
      "cell_type": "markdown",
      "metadata": {
        "id": "X-fHHdqYPGu9"
      },
      "source": [
        "# Computing the confusion matrix\n",
        "The confusion matrix allows to analyze the trained network performance on a per-class basis"
      ]
    },
    {
      "cell_type": "code",
      "metadata": {
        "id": "nXUXVWgLPM4R",
        "colab": {
          "base_uri": "https://localhost:8080/"
        },
        "outputId": "b262af31-9698-4d31-94a5-727dc8c7d1e1"
      },
      "source": [
        "# Example of a confusion matrix using sklearn.metrics\n",
        "from sklearn.metrics import confusion_matrix\n",
        "predictions = model.predict(test_images)\n",
        "\n",
        "matrix = confusion_matrix(test_labels.argmax(axis=1), predictions.argmax(axis=1))\n",
        "print (matrix)"
      ],
      "execution_count": null,
      "outputs": [
        {
          "output_type": "stream",
          "name": "stdout",
          "text": [
            "313/313 [==============================] - 1s 2ms/step\n",
            "[[ 954    0    1    1    1    8   12    1    2    0]\n",
            " [   0 1104    2    2    1    1    4    2   19    0]\n",
            " [  12   16  887   16   21    1   23   21   34    1]\n",
            " [   4    3   20  895    1   34    3   24   20    6]\n",
            " [   1    4    4    0  910    2   15    1    3   42]\n",
            " [  24    8    4   59   13  710   28   12   23   11]\n",
            " [  22    3    9    2   12   23  883    2    2    0]\n",
            " [   3   24   27    3    9    1    1  919    4   37]\n",
            " [  10   16   13   33   11   33   18   10  807   23]\n",
            " [  16    8    5    9   60   13    1   29    6  862]]\n"
          ]
        }
      ]
    },
    {
      "cell_type": "markdown",
      "metadata": {
        "id": "Nr4TdWoEoDzi"
      },
      "source": [
        "# Experiments\n",
        "\n",
        "Note down the performance of the trained network in terms of training and validation accuracy as a reference (save the loss/accuracy graphs of the trained network).\n",
        "\n",
        "Then, experiment as follow and compare performance with the reference scenario:\n",
        "\n",
        "*  Experiment increasing the batch size (from purely stochastic case) and compare performance with reference.\n",
        "*  Experiment gradually increasing the learning rate starting from $10^{-4}$ and find a reasonable learning rate value the network can tolerate without diverging.\n",
        "*  Experiment replacing the sigmoid activations with Relus and note what happens.\n",
        "\n",
        "\n",
        "\n",
        "\n"
      ]
    }
  ]
}